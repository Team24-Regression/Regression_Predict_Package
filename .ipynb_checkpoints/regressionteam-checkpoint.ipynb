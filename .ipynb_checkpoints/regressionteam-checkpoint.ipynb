{
 "cells": [
  {
   "cell_type": "markdown",
   "metadata": {},
   "source": [
    "# Sendy Logistics Regression Model."
   ]
  },
  {
   "cell_type": "markdown",
   "metadata": {},
   "source": [
    "![Image of Yaktocat](https://cdn1.vc4a.com/media/2015/12/Sendy-delivery-900x322.jpg)"
   ]
  },
  {
   "cell_type": "markdown",
   "metadata": {},
   "source": [
    "## Introduction\n",
    "Logistics is fundamental to the success of a business while efficient and affordable logistics are a vital component of economic development. Like any logistics company, Sendy aims to improve the efficiency of businesses by providing faster delivery of their products.\n",
    "\n",
    "### About Sendy:\n",
    "Sendy is a business-to-business platform established in 2014, to enable businesses of all types and sizes to transport goods more efficiently across East Africa. It was headquartered in Kenya and has gradually expanded across the country and East African borders where  the it is enabling businesses to move large volumes of goods.\n",
    "\n",
    "### Aim and objectives:\n",
    "The aim of this notebook is to help Sendy improve their logistics and communicate an accurate arrival time to their customers. This is done through building a prediction model that estimates time of delivery of orders, from the point of driver pickup to the point of arrival at final destination. The model will enhance customer communication and improve the reliability of Sendy's services; which will ultimately improve customer experience. In addition, the solution from the model will enable Sendy to realise cost savings, and ultimately reduce the cost of doing business, through improved resource management and planning for order scheduling."
   ]
  },
  {
   "cell_type": "markdown",
   "metadata": {},
   "source": [
    "## Importing the libraries"
   ]
  },
  {
   "cell_type": "code",
   "execution_count": 519,
   "metadata": {},
   "outputs": [
    {
     "name": "stdout",
     "output_type": "stream",
     "text": [
      "Requirement already satisfied: plotnine in c:\\users\\georg\\downloads\\newolder\\lib\\site-packages (0.6.0)\n",
      "Requirement already satisfied: numpy>=1.16.0 in c:\\users\\georg\\downloads\\newolder\\lib\\site-packages (from plotnine) (1.18.4)\n",
      "Requirement already satisfied: mizani>=0.6.0 in c:\\users\\georg\\downloads\\newolder\\lib\\site-packages (from plotnine) (0.6.0)\n",
      "Requirement already satisfied: patsy>=0.4.1 in c:\\users\\georg\\downloads\\newolder\\lib\\site-packages (from plotnine) (0.5.1)\n",
      "Requirement already satisfied: statsmodels>=0.9.0 in c:\\users\\georg\\downloads\\newolder\\lib\\site-packages (from plotnine) (0.11.0)\n",
      "Requirement already satisfied: scipy>=1.2.0 in c:\\users\\georg\\downloads\\newolder\\lib\\site-packages (from plotnine) (1.4.1)\n",
      "Requirement already satisfied: descartes>=1.1.0 in c:\\users\\georg\\downloads\\newolder\\lib\\site-packages (from plotnine) (1.1.0)\n",
      "Requirement already satisfied: pandas>=0.25.0 in c:\\users\\georg\\downloads\\newolder\\lib\\site-packages (from plotnine) (1.0.3)\n",
      "Requirement already satisfied: matplotlib>=3.1.1 in c:\\users\\georg\\downloads\\newolder\\lib\\site-packages (from plotnine) (3.1.3)\n",
      "Requirement already satisfied: palettable in c:\\users\\georg\\downloads\\newolder\\lib\\site-packages (from mizani>=0.6.0->plotnine) (3.3.0)\n",
      "Requirement already satisfied: six in c:\\users\\georg\\downloads\\newolder\\lib\\site-packages (from patsy>=0.4.1->plotnine) (1.14.0)\n",
      "Requirement already satisfied: python-dateutil>=2.6.1 in c:\\users\\georg\\downloads\\newolder\\lib\\site-packages (from pandas>=0.25.0->plotnine) (2.8.1)\n",
      "Requirement already satisfied: pytz>=2017.2 in c:\\users\\georg\\downloads\\newolder\\lib\\site-packages (from pandas>=0.25.0->plotnine) (2019.3)\n",
      "Requirement already satisfied: kiwisolver>=1.0.1 in c:\\users\\georg\\downloads\\newolder\\lib\\site-packages (from matplotlib>=3.1.1->plotnine) (1.1.0)\n",
      "Requirement already satisfied: pyparsing!=2.0.4,!=2.1.2,!=2.1.6,>=2.0.1 in c:\\users\\georg\\downloads\\newolder\\lib\\site-packages (from matplotlib>=3.1.1->plotnine) (2.4.6)\n",
      "Requirement already satisfied: cycler>=0.10 in c:\\users\\georg\\downloads\\newolder\\lib\\site-packages (from matplotlib>=3.1.1->plotnine) (0.10.0)\n",
      "Requirement already satisfied: setuptools in c:\\users\\georg\\downloads\\newolder\\lib\\site-packages (from kiwisolver>=1.0.1->matplotlib>=3.1.1->plotnine) (45.2.0.post20200210)\n"
     ]
    }
   ],
   "source": [
    "import numpy as np \n",
    "import math\n",
    "# data processing\n",
    "import pandas as pd \n",
    "\n",
    "# data visualization\n",
    "import matplotlib.pyplot as plt\n",
    "import seaborn as sns\n",
    "import re\n",
    "from sklearn import tree\n",
    "\n",
    "#Varrible selection\n",
    "from statsmodels.graphics.correlation import plot_corr\n",
    "from statsmodels.formula.api import ols\n",
    "from scipy.stats import pearsonr\n",
    "from sklearn.preprocessing import MinMaxScaler\n",
    "from sklearn.feature_selection import VarianceThreshold\n",
    "from sklearn.model_selection import GridSearchCV\n",
    "\n",
    "!pip install plotnine\n",
    "from plotnine import *\n",
    "%matplotlib inline"
   ]
  },
  {
   "cell_type": "markdown",
   "metadata": {},
   "source": [
    "## Getting the data\n",
    "The csv files are read into pandas dataframe and are renamed."
   ]
  },
  {
   "cell_type": "code",
   "execution_count": 418,
   "metadata": {},
   "outputs": [],
   "source": [
    "Train_df= pd.read_csv(\"Train.csv\")\n",
    "Test_df= pd.read_csv(\"Test.csv\")\n",
    "Riders_df= pd.read_csv(\"Riders.csv\")\n",
    "VariableDefinitions_df= pd.read_csv(\"VariableDefinitions.csv\")\n",
    "SampleSubmission_df= pd.read_csv(\"SampleSubmission.csv\")"
   ]
  },
  {
   "cell_type": "markdown",
   "metadata": {},
   "source": [
    "## Data description"
   ]
  },
  {
   "cell_type": "markdown",
   "metadata": {},
   "source": [
    "Exploring datasets helps with developing a deep understanding about the data. Before starting with the description of data, from the csv files one can easily notice that the data is already split into train and test sets. Therefore these sets wil be explored individually. \n",
    "\n",
    "To know what data this notebook will be dealing with, the Variable_Definations_df dataframe is called below to display the names of the features contained in all the dataframes and their descriptions."
   ]
  },
  {
   "cell_type": "code",
   "execution_count": 419,
   "metadata": {
    "scrolled": true
   },
   "outputs": [
    {
     "data": {
      "text/html": [
       "<div>\n",
       "<style scoped>\n",
       "    .dataframe tbody tr th:only-of-type {\n",
       "        vertical-align: middle;\n",
       "    }\n",
       "\n",
       "    .dataframe tbody tr th {\n",
       "        vertical-align: top;\n",
       "    }\n",
       "\n",
       "    .dataframe thead th {\n",
       "        text-align: right;\n",
       "    }\n",
       "</style>\n",
       "<table border=\"1\" class=\"dataframe\">\n",
       "  <thead>\n",
       "    <tr style=\"text-align: right;\">\n",
       "      <th></th>\n",
       "      <th>Order No</th>\n",
       "      <th>Unique number identifying the order</th>\n",
       "    </tr>\n",
       "  </thead>\n",
       "  <tbody>\n",
       "    <tr>\n",
       "      <th>0</th>\n",
       "      <td>User Id</td>\n",
       "      <td>Unique number identifying the customer on a pl...</td>\n",
       "    </tr>\n",
       "    <tr>\n",
       "      <th>1</th>\n",
       "      <td>Vehicle Type</td>\n",
       "      <td>For this competition limited to bikes, however...</td>\n",
       "    </tr>\n",
       "    <tr>\n",
       "      <th>2</th>\n",
       "      <td>Platform Type</td>\n",
       "      <td>Platform used to place the order, there are 4 ...</td>\n",
       "    </tr>\n",
       "    <tr>\n",
       "      <th>3</th>\n",
       "      <td>Personal or Business</td>\n",
       "      <td>Customer type</td>\n",
       "    </tr>\n",
       "    <tr>\n",
       "      <th>4</th>\n",
       "      <td>Placement - Day of Month</td>\n",
       "      <td>Placement - Day of Month i.e 1-31</td>\n",
       "    </tr>\n",
       "    <tr>\n",
       "      <th>5</th>\n",
       "      <td>Placement - Weekday (Mo = 1)</td>\n",
       "      <td>Placement - Weekday (Monday = 1)</td>\n",
       "    </tr>\n",
       "    <tr>\n",
       "      <th>6</th>\n",
       "      <td>Placement - Time</td>\n",
       "      <td>Placement - Time - Time of day the order was p...</td>\n",
       "    </tr>\n",
       "    <tr>\n",
       "      <th>7</th>\n",
       "      <td>Confirmation - Day of Month</td>\n",
       "      <td>Confirmation - Day of Month i.e 1-31</td>\n",
       "    </tr>\n",
       "    <tr>\n",
       "      <th>8</th>\n",
       "      <td>Confirmation - Weekday (Mo = 1)</td>\n",
       "      <td>Confirmation - Weekday (Monday = 1)</td>\n",
       "    </tr>\n",
       "    <tr>\n",
       "      <th>9</th>\n",
       "      <td>Confirmation - Time</td>\n",
       "      <td>Confirmation - Time - Time of day the order wa...</td>\n",
       "    </tr>\n",
       "    <tr>\n",
       "      <th>10</th>\n",
       "      <td>Arrival at Pickup - Day of Month</td>\n",
       "      <td>Arrival at Pickup - Day of Month i.e 1-31</td>\n",
       "    </tr>\n",
       "    <tr>\n",
       "      <th>11</th>\n",
       "      <td>Arrival at Pickup - Weekday (Mo = 1)</td>\n",
       "      <td>Arrival at Pickup - Weekday (Monday = 1)</td>\n",
       "    </tr>\n",
       "    <tr>\n",
       "      <th>12</th>\n",
       "      <td>Arrival at Pickup - Time</td>\n",
       "      <td>Time of day the the rider arrived at the locat...</td>\n",
       "    </tr>\n",
       "    <tr>\n",
       "      <th>13</th>\n",
       "      <td>Pickup - Day of Month</td>\n",
       "      <td>Pickup - Day of Month i.e 1-31</td>\n",
       "    </tr>\n",
       "    <tr>\n",
       "      <th>14</th>\n",
       "      <td>Pickup - Weekday (Mo = 1)</td>\n",
       "      <td>Pickup - Weekday (Monday = 1)</td>\n",
       "    </tr>\n",
       "    <tr>\n",
       "      <th>15</th>\n",
       "      <td>Pickup - Time</td>\n",
       "      <td>Pickup - Time - Time of day the the rider pick...</td>\n",
       "    </tr>\n",
       "    <tr>\n",
       "      <th>16</th>\n",
       "      <td>Arrival at Destination - Day of Month</td>\n",
       "      <td>Arrival at Delivery - Day of Month i.e 1-31</td>\n",
       "    </tr>\n",
       "    <tr>\n",
       "      <th>17</th>\n",
       "      <td>Arrival at Destination - Weekday (Mo = 1)</td>\n",
       "      <td>Arrival at Delivery - Weekday (Monday = 1)</td>\n",
       "    </tr>\n",
       "    <tr>\n",
       "      <th>18</th>\n",
       "      <td>Arrival at Destination - Time</td>\n",
       "      <td>Arrival at Delivery Time - Time of day the rid...</td>\n",
       "    </tr>\n",
       "    <tr>\n",
       "      <th>19</th>\n",
       "      <td>Distance (KM)</td>\n",
       "      <td>The distance from Pickup to Destination</td>\n",
       "    </tr>\n",
       "    <tr>\n",
       "      <th>20</th>\n",
       "      <td>Temperature</td>\n",
       "      <td>Temperature at the time of order placement in ...</td>\n",
       "    </tr>\n",
       "    <tr>\n",
       "      <th>21</th>\n",
       "      <td>Precipitation in millimeters</td>\n",
       "      <td>Precipitation at the time of order placement ...</td>\n",
       "    </tr>\n",
       "    <tr>\n",
       "      <th>22</th>\n",
       "      <td>Pickup Lat</td>\n",
       "      <td>Latitude of pick up location</td>\n",
       "    </tr>\n",
       "    <tr>\n",
       "      <th>23</th>\n",
       "      <td>Pickup Long</td>\n",
       "      <td>Longitude of pick up location</td>\n",
       "    </tr>\n",
       "    <tr>\n",
       "      <th>24</th>\n",
       "      <td>Destination Lat</td>\n",
       "      <td>Latitude of delivery location</td>\n",
       "    </tr>\n",
       "    <tr>\n",
       "      <th>25</th>\n",
       "      <td>Destination Long</td>\n",
       "      <td>Longitude of delivery location</td>\n",
       "    </tr>\n",
       "    <tr>\n",
       "      <th>26</th>\n",
       "      <td>Rider Id</td>\n",
       "      <td>ID of the Rider who accepted the order</td>\n",
       "    </tr>\n",
       "    <tr>\n",
       "      <th>27</th>\n",
       "      <td>Time from Pickup to Arrival</td>\n",
       "      <td>Time in seconds between 'Pickup' and 'Arrival ...</td>\n",
       "    </tr>\n",
       "    <tr>\n",
       "      <th>28</th>\n",
       "      <td>NaN</td>\n",
       "      <td>NaN</td>\n",
       "    </tr>\n",
       "    <tr>\n",
       "      <th>29</th>\n",
       "      <td>Rider Metrics</td>\n",
       "      <td>NaN</td>\n",
       "    </tr>\n",
       "    <tr>\n",
       "      <th>30</th>\n",
       "      <td>Rider Id</td>\n",
       "      <td>Unique number identifying the rider (same as i...</td>\n",
       "    </tr>\n",
       "    <tr>\n",
       "      <th>31</th>\n",
       "      <td>No_Of_Orders</td>\n",
       "      <td>Number of Orders the rider has delivered</td>\n",
       "    </tr>\n",
       "    <tr>\n",
       "      <th>32</th>\n",
       "      <td>Age</td>\n",
       "      <td>Number of days since the rider delivered the f...</td>\n",
       "    </tr>\n",
       "    <tr>\n",
       "      <th>33</th>\n",
       "      <td>Average_Rating</td>\n",
       "      <td>Average rating of the rider</td>\n",
       "    </tr>\n",
       "    <tr>\n",
       "      <th>34</th>\n",
       "      <td>No_of_Ratings</td>\n",
       "      <td>Number of ratings the rider has received. Rat...</td>\n",
       "    </tr>\n",
       "  </tbody>\n",
       "</table>\n",
       "</div>"
      ],
      "text/plain": [
       "                                     Order No  \\\n",
       "0                                     User Id   \n",
       "1                                Vehicle Type   \n",
       "2                               Platform Type   \n",
       "3                        Personal or Business   \n",
       "4                    Placement - Day of Month   \n",
       "5                Placement - Weekday (Mo = 1)   \n",
       "6                            Placement - Time   \n",
       "7                 Confirmation - Day of Month   \n",
       "8             Confirmation - Weekday (Mo = 1)   \n",
       "9                         Confirmation - Time   \n",
       "10           Arrival at Pickup - Day of Month   \n",
       "11       Arrival at Pickup - Weekday (Mo = 1)   \n",
       "12                   Arrival at Pickup - Time   \n",
       "13                      Pickup - Day of Month   \n",
       "14                  Pickup - Weekday (Mo = 1)   \n",
       "15                              Pickup - Time   \n",
       "16      Arrival at Destination - Day of Month   \n",
       "17  Arrival at Destination - Weekday (Mo = 1)   \n",
       "18              Arrival at Destination - Time   \n",
       "19                              Distance (KM)   \n",
       "20                                Temperature   \n",
       "21               Precipitation in millimeters   \n",
       "22                                 Pickup Lat   \n",
       "23                                Pickup Long   \n",
       "24                            Destination Lat   \n",
       "25                           Destination Long   \n",
       "26                                   Rider Id   \n",
       "27                Time from Pickup to Arrival   \n",
       "28                                        NaN   \n",
       "29                              Rider Metrics   \n",
       "30                                   Rider Id   \n",
       "31                               No_Of_Orders   \n",
       "32                                        Age   \n",
       "33                             Average_Rating   \n",
       "34                              No_of_Ratings   \n",
       "\n",
       "                  Unique number identifying the order  \n",
       "0   Unique number identifying the customer on a pl...  \n",
       "1   For this competition limited to bikes, however...  \n",
       "2   Platform used to place the order, there are 4 ...  \n",
       "3                                       Customer type  \n",
       "4                   Placement - Day of Month i.e 1-31  \n",
       "5                    Placement - Weekday (Monday = 1)  \n",
       "6   Placement - Time - Time of day the order was p...  \n",
       "7                Confirmation - Day of Month i.e 1-31  \n",
       "8                 Confirmation - Weekday (Monday = 1)  \n",
       "9   Confirmation - Time - Time of day the order wa...  \n",
       "10          Arrival at Pickup - Day of Month i.e 1-31  \n",
       "11           Arrival at Pickup - Weekday (Monday = 1)  \n",
       "12  Time of day the the rider arrived at the locat...  \n",
       "13                     Pickup - Day of Month i.e 1-31  \n",
       "14                      Pickup - Weekday (Monday = 1)  \n",
       "15  Pickup - Time - Time of day the the rider pick...  \n",
       "16        Arrival at Delivery - Day of Month i.e 1-31  \n",
       "17         Arrival at Delivery - Weekday (Monday = 1)  \n",
       "18  Arrival at Delivery Time - Time of day the rid...  \n",
       "19            The distance from Pickup to Destination  \n",
       "20  Temperature at the time of order placement in ...  \n",
       "21   Precipitation at the time of order placement ...  \n",
       "22                       Latitude of pick up location  \n",
       "23                      Longitude of pick up location  \n",
       "24                      Latitude of delivery location  \n",
       "25                     Longitude of delivery location  \n",
       "26             ID of the Rider who accepted the order  \n",
       "27  Time in seconds between 'Pickup' and 'Arrival ...  \n",
       "28                                                NaN  \n",
       "29                                                NaN  \n",
       "30  Unique number identifying the rider (same as i...  \n",
       "31           Number of Orders the rider has delivered  \n",
       "32  Number of days since the rider delivered the f...  \n",
       "33                        Average rating of the rider  \n",
       "34   Number of ratings the rider has received. Rat...  "
      ]
     },
     "execution_count": 419,
     "metadata": {},
     "output_type": "execute_result"
    }
   ],
   "source": [
    "VariableDefinitions_df"
   ]
  },
  {
   "cell_type": "markdown",
   "metadata": {},
   "source": [
    "The VariableDefinitions_df shows that there is a total of 34 feartures in all the data frames, with a missing decripction for Rider metrics. A look at Train_df dataframe is taken to check the number of null and non-null entries in all the features as well as types in each."
   ]
  },
  {
   "cell_type": "code",
   "execution_count": 420,
   "metadata": {},
   "outputs": [
    {
     "name": "stdout",
     "output_type": "stream",
     "text": [
      "<class 'pandas.core.frame.DataFrame'>\n",
      "RangeIndex: 21201 entries, 0 to 21200\n",
      "Data columns (total 29 columns):\n",
      " #   Column                                     Non-Null Count  Dtype  \n",
      "---  ------                                     --------------  -----  \n",
      " 0   Order No                                   21201 non-null  object \n",
      " 1   User Id                                    21201 non-null  object \n",
      " 2   Vehicle Type                               21201 non-null  object \n",
      " 3   Platform Type                              21201 non-null  int64  \n",
      " 4   Personal or Business                       21201 non-null  object \n",
      " 5   Placement - Day of Month                   21201 non-null  int64  \n",
      " 6   Placement - Weekday (Mo = 1)               21201 non-null  int64  \n",
      " 7   Placement - Time                           21201 non-null  object \n",
      " 8   Confirmation - Day of Month                21201 non-null  int64  \n",
      " 9   Confirmation - Weekday (Mo = 1)            21201 non-null  int64  \n",
      " 10  Confirmation - Time                        21201 non-null  object \n",
      " 11  Arrival at Pickup - Day of Month           21201 non-null  int64  \n",
      " 12  Arrival at Pickup - Weekday (Mo = 1)       21201 non-null  int64  \n",
      " 13  Arrival at Pickup - Time                   21201 non-null  object \n",
      " 14  Pickup - Day of Month                      21201 non-null  int64  \n",
      " 15  Pickup - Weekday (Mo = 1)                  21201 non-null  int64  \n",
      " 16  Pickup - Time                              21201 non-null  object \n",
      " 17  Arrival at Destination - Day of Month      21201 non-null  int64  \n",
      " 18  Arrival at Destination - Weekday (Mo = 1)  21201 non-null  int64  \n",
      " 19  Arrival at Destination - Time              21201 non-null  object \n",
      " 20  Distance (KM)                              21201 non-null  int64  \n",
      " 21  Temperature                                16835 non-null  float64\n",
      " 22  Precipitation in millimeters               552 non-null    float64\n",
      " 23  Pickup Lat                                 21201 non-null  float64\n",
      " 24  Pickup Long                                21201 non-null  float64\n",
      " 25  Destination Lat                            21201 non-null  float64\n",
      " 26  Destination Long                           21201 non-null  float64\n",
      " 27  Rider Id                                   21201 non-null  object \n",
      " 28  Time from Pickup to Arrival                21201 non-null  int64  \n",
      "dtypes: float64(6), int64(13), object(10)\n",
      "memory usage: 3.9+ MB\n"
     ]
    }
   ],
   "source": [
    "Train_df.info()"
   ]
  },
  {
   "cell_type": "markdown",
   "metadata": {},
   "source": [
    "The Train_df has 21201 entries in 28 features + the target variable (Time from Pickup to Arrival). Six of the features are floats, 13 are integers and 10 are objects. A close look at the data contained in the Train_df is done below."
   ]
  },
  {
   "cell_type": "code",
   "execution_count": 421,
   "metadata": {},
   "outputs": [
    {
     "data": {
      "text/html": [
       "<div>\n",
       "<style scoped>\n",
       "    .dataframe tbody tr th:only-of-type {\n",
       "        vertical-align: middle;\n",
       "    }\n",
       "\n",
       "    .dataframe tbody tr th {\n",
       "        vertical-align: top;\n",
       "    }\n",
       "\n",
       "    .dataframe thead th {\n",
       "        text-align: right;\n",
       "    }\n",
       "</style>\n",
       "<table border=\"1\" class=\"dataframe\">\n",
       "  <thead>\n",
       "    <tr style=\"text-align: right;\">\n",
       "      <th></th>\n",
       "      <th>Order No</th>\n",
       "      <th>User Id</th>\n",
       "      <th>Vehicle Type</th>\n",
       "      <th>Platform Type</th>\n",
       "      <th>Personal or Business</th>\n",
       "      <th>Placement - Day of Month</th>\n",
       "      <th>Placement - Weekday (Mo = 1)</th>\n",
       "      <th>Placement - Time</th>\n",
       "      <th>Confirmation - Day of Month</th>\n",
       "      <th>Confirmation - Weekday (Mo = 1)</th>\n",
       "      <th>...</th>\n",
       "      <th>Arrival at Destination - Time</th>\n",
       "      <th>Distance (KM)</th>\n",
       "      <th>Temperature</th>\n",
       "      <th>Precipitation in millimeters</th>\n",
       "      <th>Pickup Lat</th>\n",
       "      <th>Pickup Long</th>\n",
       "      <th>Destination Lat</th>\n",
       "      <th>Destination Long</th>\n",
       "      <th>Rider Id</th>\n",
       "      <th>Time from Pickup to Arrival</th>\n",
       "    </tr>\n",
       "  </thead>\n",
       "  <tbody>\n",
       "    <tr>\n",
       "      <th>0</th>\n",
       "      <td>Order_No_4211</td>\n",
       "      <td>User_Id_633</td>\n",
       "      <td>Bike</td>\n",
       "      <td>3</td>\n",
       "      <td>Business</td>\n",
       "      <td>9</td>\n",
       "      <td>5</td>\n",
       "      <td>9:35:46 AM</td>\n",
       "      <td>9</td>\n",
       "      <td>5</td>\n",
       "      <td>...</td>\n",
       "      <td>10:39:55 AM</td>\n",
       "      <td>4</td>\n",
       "      <td>20.4</td>\n",
       "      <td>NaN</td>\n",
       "      <td>-1.317755</td>\n",
       "      <td>36.830370</td>\n",
       "      <td>-1.300406</td>\n",
       "      <td>36.829741</td>\n",
       "      <td>Rider_Id_432</td>\n",
       "      <td>745</td>\n",
       "    </tr>\n",
       "    <tr>\n",
       "      <th>1</th>\n",
       "      <td>Order_No_25375</td>\n",
       "      <td>User_Id_2285</td>\n",
       "      <td>Bike</td>\n",
       "      <td>3</td>\n",
       "      <td>Personal</td>\n",
       "      <td>12</td>\n",
       "      <td>5</td>\n",
       "      <td>11:16:16 AM</td>\n",
       "      <td>12</td>\n",
       "      <td>5</td>\n",
       "      <td>...</td>\n",
       "      <td>12:17:22 PM</td>\n",
       "      <td>16</td>\n",
       "      <td>26.4</td>\n",
       "      <td>NaN</td>\n",
       "      <td>-1.351453</td>\n",
       "      <td>36.899315</td>\n",
       "      <td>-1.295004</td>\n",
       "      <td>36.814358</td>\n",
       "      <td>Rider_Id_856</td>\n",
       "      <td>1993</td>\n",
       "    </tr>\n",
       "    <tr>\n",
       "      <th>2</th>\n",
       "      <td>Order_No_1899</td>\n",
       "      <td>User_Id_265</td>\n",
       "      <td>Bike</td>\n",
       "      <td>3</td>\n",
       "      <td>Business</td>\n",
       "      <td>30</td>\n",
       "      <td>2</td>\n",
       "      <td>12:39:25 PM</td>\n",
       "      <td>30</td>\n",
       "      <td>2</td>\n",
       "      <td>...</td>\n",
       "      <td>1:00:38 PM</td>\n",
       "      <td>3</td>\n",
       "      <td>NaN</td>\n",
       "      <td>NaN</td>\n",
       "      <td>-1.308284</td>\n",
       "      <td>36.843419</td>\n",
       "      <td>-1.300921</td>\n",
       "      <td>36.828195</td>\n",
       "      <td>Rider_Id_155</td>\n",
       "      <td>455</td>\n",
       "    </tr>\n",
       "  </tbody>\n",
       "</table>\n",
       "<p>3 rows × 29 columns</p>\n",
       "</div>"
      ],
      "text/plain": [
       "         Order No       User Id Vehicle Type  Platform Type  \\\n",
       "0   Order_No_4211   User_Id_633         Bike              3   \n",
       "1  Order_No_25375  User_Id_2285         Bike              3   \n",
       "2   Order_No_1899   User_Id_265         Bike              3   \n",
       "\n",
       "  Personal or Business  Placement - Day of Month  \\\n",
       "0             Business                         9   \n",
       "1             Personal                        12   \n",
       "2             Business                        30   \n",
       "\n",
       "   Placement - Weekday (Mo = 1) Placement - Time  Confirmation - Day of Month  \\\n",
       "0                             5       9:35:46 AM                            9   \n",
       "1                             5      11:16:16 AM                           12   \n",
       "2                             2      12:39:25 PM                           30   \n",
       "\n",
       "   Confirmation - Weekday (Mo = 1)  ... Arrival at Destination - Time  \\\n",
       "0                                5  ...                   10:39:55 AM   \n",
       "1                                5  ...                   12:17:22 PM   \n",
       "2                                2  ...                    1:00:38 PM   \n",
       "\n",
       "   Distance (KM)  Temperature Precipitation in millimeters  Pickup Lat  \\\n",
       "0              4         20.4                          NaN   -1.317755   \n",
       "1             16         26.4                          NaN   -1.351453   \n",
       "2              3          NaN                          NaN   -1.308284   \n",
       "\n",
       "   Pickup Long Destination Lat  Destination Long      Rider Id  \\\n",
       "0    36.830370       -1.300406         36.829741  Rider_Id_432   \n",
       "1    36.899315       -1.295004         36.814358  Rider_Id_856   \n",
       "2    36.843419       -1.300921         36.828195  Rider_Id_155   \n",
       "\n",
       "  Time from Pickup to Arrival  \n",
       "0                         745  \n",
       "1                        1993  \n",
       "2                         455  \n",
       "\n",
       "[3 rows x 29 columns]"
      ]
     },
     "execution_count": 421,
     "metadata": {},
     "output_type": "execute_result"
    }
   ],
   "source": [
    "Train_df.head(3)"
   ]
  },
  {
   "cell_type": "markdown",
   "metadata": {},
   "source": [
    "From the Train_df dataframe, some of the features need to be converted into numeric ones, so that the machine learning algorithms can process them. Furthermore, features containing missing values (NaN = not a number) can also be spoted, which will be dealt with at a later stage. \n",
    "\n",
    "The Test_df is now looked at to check and confirm if it contains the same features as the Train_df. This will be done by first checking the number of null, non-null values and data types as done for Train_df."
   ]
  },
  {
   "cell_type": "code",
   "execution_count": 422,
   "metadata": {},
   "outputs": [
    {
     "name": "stdout",
     "output_type": "stream",
     "text": [
      "<class 'pandas.core.frame.DataFrame'>\n",
      "RangeIndex: 7068 entries, 0 to 7067\n",
      "Data columns (total 25 columns):\n",
      " #   Column                                Non-Null Count  Dtype  \n",
      "---  ------                                --------------  -----  \n",
      " 0   Order No                              7068 non-null   object \n",
      " 1   User Id                               7068 non-null   object \n",
      " 2   Vehicle Type                          7068 non-null   object \n",
      " 3   Platform Type                         7068 non-null   int64  \n",
      " 4   Personal or Business                  7068 non-null   object \n",
      " 5   Placement - Day of Month              7068 non-null   int64  \n",
      " 6   Placement - Weekday (Mo = 1)          7068 non-null   int64  \n",
      " 7   Placement - Time                      7068 non-null   object \n",
      " 8   Confirmation - Day of Month           7068 non-null   int64  \n",
      " 9   Confirmation - Weekday (Mo = 1)       7068 non-null   int64  \n",
      " 10  Confirmation - Time                   7068 non-null   object \n",
      " 11  Arrival at Pickup - Day of Month      7068 non-null   int64  \n",
      " 12  Arrival at Pickup - Weekday (Mo = 1)  7068 non-null   int64  \n",
      " 13  Arrival at Pickup - Time              7068 non-null   object \n",
      " 14  Pickup - Day of Month                 7068 non-null   int64  \n",
      " 15  Pickup - Weekday (Mo = 1)             7068 non-null   int64  \n",
      " 16  Pickup - Time                         7068 non-null   object \n",
      " 17  Distance (KM)                         7068 non-null   int64  \n",
      " 18  Temperature                           5631 non-null   float64\n",
      " 19  Precipitation in millimeters          199 non-null    float64\n",
      " 20  Pickup Lat                            7068 non-null   float64\n",
      " 21  Pickup Long                           7068 non-null   float64\n",
      " 22  Destination Lat                       7068 non-null   float64\n",
      " 23  Destination Long                      7068 non-null   float64\n",
      " 24  Rider Id                              7068 non-null   object \n",
      "dtypes: float64(6), int64(10), object(9)\n",
      "memory usage: 1.1+ MB\n"
     ]
    },
    {
     "data": {
      "text/html": [
       "<div>\n",
       "<style scoped>\n",
       "    .dataframe tbody tr th:only-of-type {\n",
       "        vertical-align: middle;\n",
       "    }\n",
       "\n",
       "    .dataframe tbody tr th {\n",
       "        vertical-align: top;\n",
       "    }\n",
       "\n",
       "    .dataframe thead th {\n",
       "        text-align: right;\n",
       "    }\n",
       "</style>\n",
       "<table border=\"1\" class=\"dataframe\">\n",
       "  <thead>\n",
       "    <tr style=\"text-align: right;\">\n",
       "      <th></th>\n",
       "      <th>Order No</th>\n",
       "      <th>User Id</th>\n",
       "      <th>Vehicle Type</th>\n",
       "      <th>Platform Type</th>\n",
       "      <th>Personal or Business</th>\n",
       "      <th>Placement - Day of Month</th>\n",
       "      <th>Placement - Weekday (Mo = 1)</th>\n",
       "      <th>Placement - Time</th>\n",
       "      <th>Confirmation - Day of Month</th>\n",
       "      <th>Confirmation - Weekday (Mo = 1)</th>\n",
       "      <th>...</th>\n",
       "      <th>Pickup - Weekday (Mo = 1)</th>\n",
       "      <th>Pickup - Time</th>\n",
       "      <th>Distance (KM)</th>\n",
       "      <th>Temperature</th>\n",
       "      <th>Precipitation in millimeters</th>\n",
       "      <th>Pickup Lat</th>\n",
       "      <th>Pickup Long</th>\n",
       "      <th>Destination Lat</th>\n",
       "      <th>Destination Long</th>\n",
       "      <th>Rider Id</th>\n",
       "    </tr>\n",
       "  </thead>\n",
       "  <tbody>\n",
       "    <tr>\n",
       "      <th>0</th>\n",
       "      <td>Order_No_19248</td>\n",
       "      <td>User_Id_3355</td>\n",
       "      <td>Bike</td>\n",
       "      <td>3</td>\n",
       "      <td>Business</td>\n",
       "      <td>27</td>\n",
       "      <td>3</td>\n",
       "      <td>4:44:10 PM</td>\n",
       "      <td>27</td>\n",
       "      <td>3</td>\n",
       "      <td>...</td>\n",
       "      <td>3</td>\n",
       "      <td>5:06:47 PM</td>\n",
       "      <td>8</td>\n",
       "      <td>NaN</td>\n",
       "      <td>NaN</td>\n",
       "      <td>-1.333275</td>\n",
       "      <td>36.870815</td>\n",
       "      <td>-1.305249</td>\n",
       "      <td>36.822390</td>\n",
       "      <td>Rider_Id_192</td>\n",
       "    </tr>\n",
       "    <tr>\n",
       "      <th>1</th>\n",
       "      <td>Order_No_12736</td>\n",
       "      <td>User_Id_3647</td>\n",
       "      <td>Bike</td>\n",
       "      <td>3</td>\n",
       "      <td>Business</td>\n",
       "      <td>17</td>\n",
       "      <td>5</td>\n",
       "      <td>12:57:35 PM</td>\n",
       "      <td>17</td>\n",
       "      <td>5</td>\n",
       "      <td>...</td>\n",
       "      <td>5</td>\n",
       "      <td>1:25:37 PM</td>\n",
       "      <td>5</td>\n",
       "      <td>NaN</td>\n",
       "      <td>NaN</td>\n",
       "      <td>-1.272639</td>\n",
       "      <td>36.794723</td>\n",
       "      <td>-1.277007</td>\n",
       "      <td>36.823907</td>\n",
       "      <td>Rider_Id_868</td>\n",
       "    </tr>\n",
       "    <tr>\n",
       "      <th>2</th>\n",
       "      <td>Order_No_768</td>\n",
       "      <td>User_Id_2154</td>\n",
       "      <td>Bike</td>\n",
       "      <td>3</td>\n",
       "      <td>Business</td>\n",
       "      <td>27</td>\n",
       "      <td>4</td>\n",
       "      <td>11:08:14 AM</td>\n",
       "      <td>27</td>\n",
       "      <td>4</td>\n",
       "      <td>...</td>\n",
       "      <td>4</td>\n",
       "      <td>11:57:54 AM</td>\n",
       "      <td>5</td>\n",
       "      <td>22.8</td>\n",
       "      <td>NaN</td>\n",
       "      <td>-1.290894</td>\n",
       "      <td>36.822971</td>\n",
       "      <td>-1.276574</td>\n",
       "      <td>36.851365</td>\n",
       "      <td>Rider_Id_26</td>\n",
       "    </tr>\n",
       "  </tbody>\n",
       "</table>\n",
       "<p>3 rows × 25 columns</p>\n",
       "</div>"
      ],
      "text/plain": [
       "         Order No       User Id Vehicle Type  Platform Type  \\\n",
       "0  Order_No_19248  User_Id_3355         Bike              3   \n",
       "1  Order_No_12736  User_Id_3647         Bike              3   \n",
       "2    Order_No_768  User_Id_2154         Bike              3   \n",
       "\n",
       "  Personal or Business  Placement - Day of Month  \\\n",
       "0             Business                        27   \n",
       "1             Business                        17   \n",
       "2             Business                        27   \n",
       "\n",
       "   Placement - Weekday (Mo = 1) Placement - Time  Confirmation - Day of Month  \\\n",
       "0                             3       4:44:10 PM                           27   \n",
       "1                             5      12:57:35 PM                           17   \n",
       "2                             4      11:08:14 AM                           27   \n",
       "\n",
       "   Confirmation - Weekday (Mo = 1)  ... Pickup - Weekday (Mo = 1)  \\\n",
       "0                                3  ...                         3   \n",
       "1                                5  ...                         5   \n",
       "2                                4  ...                         4   \n",
       "\n",
       "   Pickup - Time  Distance (KM) Temperature  Precipitation in millimeters  \\\n",
       "0     5:06:47 PM              8         NaN                           NaN   \n",
       "1     1:25:37 PM              5         NaN                           NaN   \n",
       "2    11:57:54 AM              5        22.8                           NaN   \n",
       "\n",
       "   Pickup Lat Pickup Long  Destination Lat  Destination Long      Rider Id  \n",
       "0   -1.333275   36.870815        -1.305249         36.822390  Rider_Id_192  \n",
       "1   -1.272639   36.794723        -1.277007         36.823907  Rider_Id_868  \n",
       "2   -1.290894   36.822971        -1.276574         36.851365   Rider_Id_26  \n",
       "\n",
       "[3 rows x 25 columns]"
      ]
     },
     "execution_count": 422,
     "metadata": {},
     "output_type": "execute_result"
    }
   ],
   "source": [
    "Test_df.info()\n",
    "Test_df.head(3)"
   ]
  },
  {
   "cell_type": "markdown",
   "metadata": {},
   "source": [
    "This dataframe contains a total of 7068 entries with some entries missing in Temperature and Precipitation in millimeters features. The data types contained in it are the same as the ones in Train_df. The above reveals that instead of the Test_df dataframe containing a total of 29 columns like the Train_df, it only contains 25 columns. This will be looked at a later stage and solved.\n",
    "\n",
    "The Riders_df datframe is also looked at for the same reasons as the ones in Train_df and Test_df above."
   ]
  },
  {
   "cell_type": "code",
   "execution_count": 423,
   "metadata": {},
   "outputs": [
    {
     "name": "stdout",
     "output_type": "stream",
     "text": [
      "<class 'pandas.core.frame.DataFrame'>\n",
      "RangeIndex: 960 entries, 0 to 959\n",
      "Data columns (total 5 columns):\n",
      " #   Column          Non-Null Count  Dtype  \n",
      "---  ------          --------------  -----  \n",
      " 0   Rider Id        960 non-null    object \n",
      " 1   No_Of_Orders    960 non-null    int64  \n",
      " 2   Age             960 non-null    int64  \n",
      " 3   Average_Rating  960 non-null    float64\n",
      " 4   No_of_Ratings   960 non-null    int64  \n",
      "dtypes: float64(1), int64(3), object(1)\n",
      "memory usage: 33.8+ KB\n"
     ]
    }
   ],
   "source": [
    "Riders_df.info()"
   ]
  },
  {
   "cell_type": "markdown",
   "metadata": {},
   "source": [
    "Rider_df displays the information about the motorbike riders. It consist of five features with 960 entries and no null entries. A dataframe for Riders_df can be seen below."
   ]
  },
  {
   "cell_type": "code",
   "execution_count": 424,
   "metadata": {},
   "outputs": [
    {
     "data": {
      "text/html": [
       "<div>\n",
       "<style scoped>\n",
       "    .dataframe tbody tr th:only-of-type {\n",
       "        vertical-align: middle;\n",
       "    }\n",
       "\n",
       "    .dataframe tbody tr th {\n",
       "        vertical-align: top;\n",
       "    }\n",
       "\n",
       "    .dataframe thead th {\n",
       "        text-align: right;\n",
       "    }\n",
       "</style>\n",
       "<table border=\"1\" class=\"dataframe\">\n",
       "  <thead>\n",
       "    <tr style=\"text-align: right;\">\n",
       "      <th></th>\n",
       "      <th>Rider Id</th>\n",
       "      <th>No_Of_Orders</th>\n",
       "      <th>Age</th>\n",
       "      <th>Average_Rating</th>\n",
       "      <th>No_of_Ratings</th>\n",
       "    </tr>\n",
       "  </thead>\n",
       "  <tbody>\n",
       "    <tr>\n",
       "      <th>0</th>\n",
       "      <td>Rider_Id_396</td>\n",
       "      <td>2946</td>\n",
       "      <td>2298</td>\n",
       "      <td>14.0</td>\n",
       "      <td>1159</td>\n",
       "    </tr>\n",
       "    <tr>\n",
       "      <th>1</th>\n",
       "      <td>Rider_Id_479</td>\n",
       "      <td>360</td>\n",
       "      <td>951</td>\n",
       "      <td>13.5</td>\n",
       "      <td>176</td>\n",
       "    </tr>\n",
       "    <tr>\n",
       "      <th>2</th>\n",
       "      <td>Rider_Id_648</td>\n",
       "      <td>1746</td>\n",
       "      <td>821</td>\n",
       "      <td>14.3</td>\n",
       "      <td>466</td>\n",
       "    </tr>\n",
       "    <tr>\n",
       "      <th>3</th>\n",
       "      <td>Rider_Id_753</td>\n",
       "      <td>314</td>\n",
       "      <td>980</td>\n",
       "      <td>12.5</td>\n",
       "      <td>75</td>\n",
       "    </tr>\n",
       "    <tr>\n",
       "      <th>4</th>\n",
       "      <td>Rider_Id_335</td>\n",
       "      <td>536</td>\n",
       "      <td>1113</td>\n",
       "      <td>13.7</td>\n",
       "      <td>156</td>\n",
       "    </tr>\n",
       "    <tr>\n",
       "      <th>5</th>\n",
       "      <td>Rider_Id_720</td>\n",
       "      <td>2608</td>\n",
       "      <td>1798</td>\n",
       "      <td>13.2</td>\n",
       "      <td>504</td>\n",
       "    </tr>\n",
       "    <tr>\n",
       "      <th>6</th>\n",
       "      <td>Rider_Id_95</td>\n",
       "      <td>3464</td>\n",
       "      <td>1304</td>\n",
       "      <td>13.4</td>\n",
       "      <td>950</td>\n",
       "    </tr>\n",
       "    <tr>\n",
       "      <th>7</th>\n",
       "      <td>Rider_Id_122</td>\n",
       "      <td>4831</td>\n",
       "      <td>2124</td>\n",
       "      <td>14.1</td>\n",
       "      <td>1469</td>\n",
       "    </tr>\n",
       "  </tbody>\n",
       "</table>\n",
       "</div>"
      ],
      "text/plain": [
       "       Rider Id  No_Of_Orders   Age  Average_Rating  No_of_Ratings\n",
       "0  Rider_Id_396          2946  2298            14.0           1159\n",
       "1  Rider_Id_479           360   951            13.5            176\n",
       "2  Rider_Id_648          1746   821            14.3            466\n",
       "3  Rider_Id_753           314   980            12.5             75\n",
       "4  Rider_Id_335           536  1113            13.7            156\n",
       "5  Rider_Id_720          2608  1798            13.2            504\n",
       "6   Rider_Id_95          3464  1304            13.4            950\n",
       "7  Rider_Id_122          4831  2124            14.1           1469"
      ]
     },
     "execution_count": 424,
     "metadata": {},
     "output_type": "execute_result"
    }
   ],
   "source": [
    "Riders_df.head(8)"
   ]
  },
  {
   "cell_type": "markdown",
   "metadata": {},
   "source": [
    "From the dataframe,  it can be seen that the feature (Rider Id) is common to Riders_df and Train_df and Test_df dataframes. This will allows for a merge of the data frames. A look at the SampleSubmission_df dataframe is taken below."
   ]
  },
  {
   "cell_type": "code",
   "execution_count": 425,
   "metadata": {},
   "outputs": [
    {
     "data": {
      "text/html": [
       "<div>\n",
       "<style scoped>\n",
       "    .dataframe tbody tr th:only-of-type {\n",
       "        vertical-align: middle;\n",
       "    }\n",
       "\n",
       "    .dataframe tbody tr th {\n",
       "        vertical-align: top;\n",
       "    }\n",
       "\n",
       "    .dataframe thead th {\n",
       "        text-align: right;\n",
       "    }\n",
       "</style>\n",
       "<table border=\"1\" class=\"dataframe\">\n",
       "  <thead>\n",
       "    <tr style=\"text-align: right;\">\n",
       "      <th></th>\n",
       "      <th>Order_No</th>\n",
       "      <th>Time from Pickup to Arrival</th>\n",
       "    </tr>\n",
       "  </thead>\n",
       "  <tbody>\n",
       "    <tr>\n",
       "      <th>0</th>\n",
       "      <td>Order_No_19248</td>\n",
       "      <td>567.0</td>\n",
       "    </tr>\n",
       "    <tr>\n",
       "      <th>1</th>\n",
       "      <td>Order_No_12736</td>\n",
       "      <td>4903.0</td>\n",
       "    </tr>\n",
       "    <tr>\n",
       "      <th>2</th>\n",
       "      <td>Order_No_768</td>\n",
       "      <td>5649.0</td>\n",
       "    </tr>\n",
       "    <tr>\n",
       "      <th>3</th>\n",
       "      <td>Order_No_15332</td>\n",
       "      <td>NaN</td>\n",
       "    </tr>\n",
       "    <tr>\n",
       "      <th>4</th>\n",
       "      <td>Order_No_21373</td>\n",
       "      <td>NaN</td>\n",
       "    </tr>\n",
       "    <tr>\n",
       "      <th>5</th>\n",
       "      <td>Order_No_14573</td>\n",
       "      <td>NaN</td>\n",
       "    </tr>\n",
       "    <tr>\n",
       "      <th>6</th>\n",
       "      <td>Order_No_6731</td>\n",
       "      <td>NaN</td>\n",
       "    </tr>\n",
       "    <tr>\n",
       "      <th>7</th>\n",
       "      <td>Order_No_18436</td>\n",
       "      <td>NaN</td>\n",
       "    </tr>\n",
       "  </tbody>\n",
       "</table>\n",
       "</div>"
      ],
      "text/plain": [
       "         Order_No  Time from Pickup to Arrival\n",
       "0  Order_No_19248                        567.0\n",
       "1  Order_No_12736                       4903.0\n",
       "2    Order_No_768                       5649.0\n",
       "3  Order_No_15332                          NaN\n",
       "4  Order_No_21373                          NaN\n",
       "5  Order_No_14573                          NaN\n",
       "6   Order_No_6731                          NaN\n",
       "7  Order_No_18436                          NaN"
      ]
     },
     "execution_count": 425,
     "metadata": {},
     "output_type": "execute_result"
    }
   ],
   "source": [
    "SampleSubmission_df.head(8)"
   ]
  },
  {
   "cell_type": "markdown",
   "metadata": {},
   "source": [
    "The sample submission displays the format in which sumbmision would be made for this predict on Zindi."
   ]
  },
  {
   "cell_type": "markdown",
   "metadata": {},
   "source": [
    "## Data preprocessing\n",
    "The data preprocessing section deals with cleaning and transfroming raw data into a format that is understandable.\n",
    "\n",
    "### Data cleaning and formating\n",
    "Since it was discovered before that Train_df and Test_df both have a feature that is also there in Riders Id, they are both merged with the Riders_df. Below is the merging of both dataframes to the Raiders_df dataframe using the common column 'Raider Id'."
   ]
  },
  {
   "cell_type": "code",
   "execution_count": 426,
   "metadata": {},
   "outputs": [],
   "source": [
    "Train_df = pd.merge(Train_df, Riders_df, left_on='Rider Id', \n",
    "                    right_on='Rider Id', how='left')\n",
    "Test_df = pd.merge(Test_df, Riders_df, left_on='Rider Id',\n",
    "                    right_on='Rider Id', how='left')"
   ]
  },
  {
   "cell_type": "markdown",
   "metadata": {},
   "source": [
    "Test_df and Train_df dataframes are merged with Riders_df dataframe because the features in the Rider_df dataframe have information that is believed to have influence on the predict variable. The merged dataframes are displayed below."
   ]
  },
  {
   "cell_type": "code",
   "execution_count": 427,
   "metadata": {},
   "outputs": [
    {
     "data": {
      "text/html": [
       "<div>\n",
       "<style scoped>\n",
       "    .dataframe tbody tr th:only-of-type {\n",
       "        vertical-align: middle;\n",
       "    }\n",
       "\n",
       "    .dataframe tbody tr th {\n",
       "        vertical-align: top;\n",
       "    }\n",
       "\n",
       "    .dataframe thead th {\n",
       "        text-align: right;\n",
       "    }\n",
       "</style>\n",
       "<table border=\"1\" class=\"dataframe\">\n",
       "  <thead>\n",
       "    <tr style=\"text-align: right;\">\n",
       "      <th></th>\n",
       "      <th>Order No</th>\n",
       "      <th>User Id</th>\n",
       "      <th>Vehicle Type</th>\n",
       "      <th>Platform Type</th>\n",
       "      <th>Personal or Business</th>\n",
       "      <th>Placement - Day of Month</th>\n",
       "      <th>Placement - Weekday (Mo = 1)</th>\n",
       "      <th>Placement - Time</th>\n",
       "      <th>Confirmation - Day of Month</th>\n",
       "      <th>Confirmation - Weekday (Mo = 1)</th>\n",
       "      <th>...</th>\n",
       "      <th>Pickup Lat</th>\n",
       "      <th>Pickup Long</th>\n",
       "      <th>Destination Lat</th>\n",
       "      <th>Destination Long</th>\n",
       "      <th>Rider Id</th>\n",
       "      <th>Time from Pickup to Arrival</th>\n",
       "      <th>No_Of_Orders</th>\n",
       "      <th>Age</th>\n",
       "      <th>Average_Rating</th>\n",
       "      <th>No_of_Ratings</th>\n",
       "    </tr>\n",
       "  </thead>\n",
       "  <tbody>\n",
       "    <tr>\n",
       "      <th>0</th>\n",
       "      <td>Order_No_4211</td>\n",
       "      <td>User_Id_633</td>\n",
       "      <td>Bike</td>\n",
       "      <td>3</td>\n",
       "      <td>Business</td>\n",
       "      <td>9</td>\n",
       "      <td>5</td>\n",
       "      <td>9:35:46 AM</td>\n",
       "      <td>9</td>\n",
       "      <td>5</td>\n",
       "      <td>...</td>\n",
       "      <td>-1.317755</td>\n",
       "      <td>36.830370</td>\n",
       "      <td>-1.300406</td>\n",
       "      <td>36.829741</td>\n",
       "      <td>Rider_Id_432</td>\n",
       "      <td>745</td>\n",
       "      <td>1637</td>\n",
       "      <td>1309</td>\n",
       "      <td>13.8</td>\n",
       "      <td>549</td>\n",
       "    </tr>\n",
       "    <tr>\n",
       "      <th>1</th>\n",
       "      <td>Order_No_25375</td>\n",
       "      <td>User_Id_2285</td>\n",
       "      <td>Bike</td>\n",
       "      <td>3</td>\n",
       "      <td>Personal</td>\n",
       "      <td>12</td>\n",
       "      <td>5</td>\n",
       "      <td>11:16:16 AM</td>\n",
       "      <td>12</td>\n",
       "      <td>5</td>\n",
       "      <td>...</td>\n",
       "      <td>-1.351453</td>\n",
       "      <td>36.899315</td>\n",
       "      <td>-1.295004</td>\n",
       "      <td>36.814358</td>\n",
       "      <td>Rider_Id_856</td>\n",
       "      <td>1993</td>\n",
       "      <td>396</td>\n",
       "      <td>339</td>\n",
       "      <td>13.6</td>\n",
       "      <td>69</td>\n",
       "    </tr>\n",
       "    <tr>\n",
       "      <th>2</th>\n",
       "      <td>Order_No_1899</td>\n",
       "      <td>User_Id_265</td>\n",
       "      <td>Bike</td>\n",
       "      <td>3</td>\n",
       "      <td>Business</td>\n",
       "      <td>30</td>\n",
       "      <td>2</td>\n",
       "      <td>12:39:25 PM</td>\n",
       "      <td>30</td>\n",
       "      <td>2</td>\n",
       "      <td>...</td>\n",
       "      <td>-1.308284</td>\n",
       "      <td>36.843419</td>\n",
       "      <td>-1.300921</td>\n",
       "      <td>36.828195</td>\n",
       "      <td>Rider_Id_155</td>\n",
       "      <td>455</td>\n",
       "      <td>1023</td>\n",
       "      <td>242</td>\n",
       "      <td>12.5</td>\n",
       "      <td>114</td>\n",
       "    </tr>\n",
       "  </tbody>\n",
       "</table>\n",
       "<p>3 rows × 33 columns</p>\n",
       "</div>"
      ],
      "text/plain": [
       "         Order No       User Id Vehicle Type  Platform Type  \\\n",
       "0   Order_No_4211   User_Id_633         Bike              3   \n",
       "1  Order_No_25375  User_Id_2285         Bike              3   \n",
       "2   Order_No_1899   User_Id_265         Bike              3   \n",
       "\n",
       "  Personal or Business  Placement - Day of Month  \\\n",
       "0             Business                         9   \n",
       "1             Personal                        12   \n",
       "2             Business                        30   \n",
       "\n",
       "   Placement - Weekday (Mo = 1) Placement - Time  Confirmation - Day of Month  \\\n",
       "0                             5       9:35:46 AM                            9   \n",
       "1                             5      11:16:16 AM                           12   \n",
       "2                             2      12:39:25 PM                           30   \n",
       "\n",
       "   Confirmation - Weekday (Mo = 1)  ... Pickup Lat  Pickup Long  \\\n",
       "0                                5  ...  -1.317755    36.830370   \n",
       "1                                5  ...  -1.351453    36.899315   \n",
       "2                                2  ...  -1.308284    36.843419   \n",
       "\n",
       "   Destination Lat Destination Long      Rider Id  \\\n",
       "0        -1.300406        36.829741  Rider_Id_432   \n",
       "1        -1.295004        36.814358  Rider_Id_856   \n",
       "2        -1.300921        36.828195  Rider_Id_155   \n",
       "\n",
       "   Time from Pickup to Arrival No_Of_Orders   Age  Average_Rating  \\\n",
       "0                          745         1637  1309            13.8   \n",
       "1                         1993          396   339            13.6   \n",
       "2                          455         1023   242            12.5   \n",
       "\n",
       "  No_of_Ratings  \n",
       "0           549  \n",
       "1            69  \n",
       "2           114  \n",
       "\n",
       "[3 rows x 33 columns]"
      ]
     },
     "execution_count": 427,
     "metadata": {},
     "output_type": "execute_result"
    }
   ],
   "source": [
    "Train_df.head(3)"
   ]
  },
  {
   "cell_type": "code",
   "execution_count": 428,
   "metadata": {},
   "outputs": [
    {
     "data": {
      "text/html": [
       "<div>\n",
       "<style scoped>\n",
       "    .dataframe tbody tr th:only-of-type {\n",
       "        vertical-align: middle;\n",
       "    }\n",
       "\n",
       "    .dataframe tbody tr th {\n",
       "        vertical-align: top;\n",
       "    }\n",
       "\n",
       "    .dataframe thead th {\n",
       "        text-align: right;\n",
       "    }\n",
       "</style>\n",
       "<table border=\"1\" class=\"dataframe\">\n",
       "  <thead>\n",
       "    <tr style=\"text-align: right;\">\n",
       "      <th></th>\n",
       "      <th>Order No</th>\n",
       "      <th>User Id</th>\n",
       "      <th>Vehicle Type</th>\n",
       "      <th>Platform Type</th>\n",
       "      <th>Personal or Business</th>\n",
       "      <th>Placement - Day of Month</th>\n",
       "      <th>Placement - Weekday (Mo = 1)</th>\n",
       "      <th>Placement - Time</th>\n",
       "      <th>Confirmation - Day of Month</th>\n",
       "      <th>Confirmation - Weekday (Mo = 1)</th>\n",
       "      <th>...</th>\n",
       "      <th>Precipitation in millimeters</th>\n",
       "      <th>Pickup Lat</th>\n",
       "      <th>Pickup Long</th>\n",
       "      <th>Destination Lat</th>\n",
       "      <th>Destination Long</th>\n",
       "      <th>Rider Id</th>\n",
       "      <th>No_Of_Orders</th>\n",
       "      <th>Age</th>\n",
       "      <th>Average_Rating</th>\n",
       "      <th>No_of_Ratings</th>\n",
       "    </tr>\n",
       "  </thead>\n",
       "  <tbody>\n",
       "    <tr>\n",
       "      <th>0</th>\n",
       "      <td>Order_No_19248</td>\n",
       "      <td>User_Id_3355</td>\n",
       "      <td>Bike</td>\n",
       "      <td>3</td>\n",
       "      <td>Business</td>\n",
       "      <td>27</td>\n",
       "      <td>3</td>\n",
       "      <td>4:44:10 PM</td>\n",
       "      <td>27</td>\n",
       "      <td>3</td>\n",
       "      <td>...</td>\n",
       "      <td>NaN</td>\n",
       "      <td>-1.333275</td>\n",
       "      <td>36.870815</td>\n",
       "      <td>-1.305249</td>\n",
       "      <td>36.822390</td>\n",
       "      <td>Rider_Id_192</td>\n",
       "      <td>439</td>\n",
       "      <td>1511</td>\n",
       "      <td>13.3</td>\n",
       "      <td>171</td>\n",
       "    </tr>\n",
       "    <tr>\n",
       "      <th>1</th>\n",
       "      <td>Order_No_12736</td>\n",
       "      <td>User_Id_3647</td>\n",
       "      <td>Bike</td>\n",
       "      <td>3</td>\n",
       "      <td>Business</td>\n",
       "      <td>17</td>\n",
       "      <td>5</td>\n",
       "      <td>12:57:35 PM</td>\n",
       "      <td>17</td>\n",
       "      <td>5</td>\n",
       "      <td>...</td>\n",
       "      <td>NaN</td>\n",
       "      <td>-1.272639</td>\n",
       "      <td>36.794723</td>\n",
       "      <td>-1.277007</td>\n",
       "      <td>36.823907</td>\n",
       "      <td>Rider_Id_868</td>\n",
       "      <td>488</td>\n",
       "      <td>273</td>\n",
       "      <td>14.4</td>\n",
       "      <td>45</td>\n",
       "    </tr>\n",
       "    <tr>\n",
       "      <th>2</th>\n",
       "      <td>Order_No_768</td>\n",
       "      <td>User_Id_2154</td>\n",
       "      <td>Bike</td>\n",
       "      <td>3</td>\n",
       "      <td>Business</td>\n",
       "      <td>27</td>\n",
       "      <td>4</td>\n",
       "      <td>11:08:14 AM</td>\n",
       "      <td>27</td>\n",
       "      <td>4</td>\n",
       "      <td>...</td>\n",
       "      <td>NaN</td>\n",
       "      <td>-1.290894</td>\n",
       "      <td>36.822971</td>\n",
       "      <td>-1.276574</td>\n",
       "      <td>36.851365</td>\n",
       "      <td>Rider_Id_26</td>\n",
       "      <td>833</td>\n",
       "      <td>460</td>\n",
       "      <td>13.1</td>\n",
       "      <td>67</td>\n",
       "    </tr>\n",
       "  </tbody>\n",
       "</table>\n",
       "<p>3 rows × 29 columns</p>\n",
       "</div>"
      ],
      "text/plain": [
       "         Order No       User Id Vehicle Type  Platform Type  \\\n",
       "0  Order_No_19248  User_Id_3355         Bike              3   \n",
       "1  Order_No_12736  User_Id_3647         Bike              3   \n",
       "2    Order_No_768  User_Id_2154         Bike              3   \n",
       "\n",
       "  Personal or Business  Placement - Day of Month  \\\n",
       "0             Business                        27   \n",
       "1             Business                        17   \n",
       "2             Business                        27   \n",
       "\n",
       "   Placement - Weekday (Mo = 1) Placement - Time  Confirmation - Day of Month  \\\n",
       "0                             3       4:44:10 PM                           27   \n",
       "1                             5      12:57:35 PM                           17   \n",
       "2                             4      11:08:14 AM                           27   \n",
       "\n",
       "   Confirmation - Weekday (Mo = 1)  ... Precipitation in millimeters  \\\n",
       "0                                3  ...                          NaN   \n",
       "1                                5  ...                          NaN   \n",
       "2                                4  ...                          NaN   \n",
       "\n",
       "   Pickup Lat  Pickup Long Destination Lat  Destination Long      Rider Id  \\\n",
       "0   -1.333275    36.870815       -1.305249         36.822390  Rider_Id_192   \n",
       "1   -1.272639    36.794723       -1.277007         36.823907  Rider_Id_868   \n",
       "2   -1.290894    36.822971       -1.276574         36.851365   Rider_Id_26   \n",
       "\n",
       "  No_Of_Orders   Age  Average_Rating  No_of_Ratings  \n",
       "0          439  1511            13.3            171  \n",
       "1          488   273            14.4             45  \n",
       "2          833   460            13.1             67  \n",
       "\n",
       "[3 rows x 29 columns]"
      ]
     },
     "execution_count": 428,
     "metadata": {},
     "output_type": "execute_result"
    }
   ],
   "source": [
    "Test_df.head(3)"
   ]
  },
  {
   "cell_type": "markdown",
   "metadata": {},
   "source": [
    "The dataframes have increased in the number of columns to show that they have been merged. The Rider Id, Vehicle Type and User Id features are looked at and unique entries in each are counted."
   ]
  },
  {
   "cell_type": "code",
   "execution_count": 429,
   "metadata": {},
   "outputs": [
    {
     "name": "stdout",
     "output_type": "stream",
     "text": [
      "There are 924 motorbike riders, 1 types of vehicles and 3186 Customers\n"
     ]
    }
   ],
   "source": [
    "print('There are', Train_df['Rider Id'].nunique(), \n",
    "      'motorbike riders,', Train_df['Vehicle Type'].nunique(), 'types of vehicles and', Train_df['User Id'].nunique(), \n",
    "      'Customers')"
   ]
  },
  {
   "cell_type": "markdown",
   "metadata": {},
   "source": [
    "Since there is only one type of vehicle the Vehicle Type feature is dropped as it will not be of help. The User Id, Rider Id and Order numbers will be dropped as they will have no influence of the prediction of the target variable. For the Test_df, the Oder number will not be dropped for Zendy submission purposes. \n",
    "\n",
    "It is noticeable that the labeling format is not consistant in the dataframe features, therefore underscores will be use instead of spaces. Below the replacement is performed."
   ]
  },
  {
   "cell_type": "code",
   "execution_count": 430,
   "metadata": {},
   "outputs": [],
   "source": [
    "#Formatting the naming of the columns.\n",
    "Train_df.columns = Train_df.columns.str.replace(' ', '_')\n",
    "Test_df.columns = Test_df .columns.str.replace(' ', '_')\n",
    "\n",
    "#Removing \"-\" from the feature labels.\n",
    "Train_df.columns = Train_df.columns.str.replace('_-_', '_')\n",
    "Test_df.columns = Test_df .columns.str.replace('_-_', '_')"
   ]
  },
  {
   "cell_type": "markdown",
   "metadata": {},
   "source": [
    "Below is to check if the feature headings are consistent."
   ]
  },
  {
   "cell_type": "code",
   "execution_count": 431,
   "metadata": {},
   "outputs": [
    {
     "data": {
      "text/plain": [
       "Index(['Order_No', 'User_Id', 'Vehicle_Type', 'Platform_Type',\n",
       "       'Personal_or_Business', 'Placement_Day_of_Month',\n",
       "       'Placement_Weekday_(Mo_=_1)', 'Placement_Time',\n",
       "       'Confirmation_Day_of_Month', 'Confirmation_Weekday_(Mo_=_1)',\n",
       "       'Confirmation_Time', 'Arrival_at_Pickup_Day_of_Month',\n",
       "       'Arrival_at_Pickup_Weekday_(Mo_=_1)', 'Arrival_at_Pickup_Time',\n",
       "       'Pickup_Day_of_Month', 'Pickup_Weekday_(Mo_=_1)', 'Pickup_Time',\n",
       "       'Arrival_at_Destination_Day_of_Month',\n",
       "       'Arrival_at_Destination_Weekday_(Mo_=_1)',\n",
       "       'Arrival_at_Destination_Time', 'Distance_(KM)', 'Temperature',\n",
       "       'Precipitation_in_millimeters', 'Pickup_Lat', 'Pickup_Long',\n",
       "       'Destination_Lat', 'Destination_Long', 'Rider_Id',\n",
       "       'Time_from_Pickup_to_Arrival', 'No_Of_Orders', 'Age', 'Average_Rating',\n",
       "       'No_of_Ratings'],\n",
       "      dtype='object')"
      ]
     },
     "execution_count": 431,
     "metadata": {},
     "output_type": "execute_result"
    }
   ],
   "source": [
    "Train_df.columns"
   ]
  },
  {
   "cell_type": "code",
   "execution_count": 432,
   "metadata": {},
   "outputs": [
    {
     "data": {
      "text/plain": [
       "Index(['Order_No', 'User_Id', 'Vehicle_Type', 'Platform_Type',\n",
       "       'Personal_or_Business', 'Placement_Day_of_Month',\n",
       "       'Placement_Weekday_(Mo_=_1)', 'Placement_Time',\n",
       "       'Confirmation_Day_of_Month', 'Confirmation_Weekday_(Mo_=_1)',\n",
       "       'Confirmation_Time', 'Arrival_at_Pickup_Day_of_Month',\n",
       "       'Arrival_at_Pickup_Weekday_(Mo_=_1)', 'Arrival_at_Pickup_Time',\n",
       "       'Pickup_Day_of_Month', 'Pickup_Weekday_(Mo_=_1)', 'Pickup_Time',\n",
       "       'Distance_(KM)', 'Temperature', 'Precipitation_in_millimeters',\n",
       "       'Pickup_Lat', 'Pickup_Long', 'Destination_Lat', 'Destination_Long',\n",
       "       'Rider_Id', 'No_Of_Orders', 'Age', 'Average_Rating', 'No_of_Ratings'],\n",
       "      dtype='object')"
      ]
     },
     "execution_count": 432,
     "metadata": {},
     "output_type": "execute_result"
    }
   ],
   "source": [
    "Test_df.columns"
   ]
  },
  {
   "cell_type": "markdown",
   "metadata": {},
   "source": [
    "The hyphens and spaces are now replaced with the underscores and the column names are now showing consistency. \n",
    "\n",
    "One of the missing features in Test_df dataframe is the 'Arrival at Destination Times' and this will be dropped in the Train_df along with other features that were identified before to be less helpful."
   ]
  },
  {
   "cell_type": "code",
   "execution_count": 433,
   "metadata": {},
   "outputs": [],
   "source": [
    "Train_df = Train_df.drop(['Vehicle_Type', \n",
    "                          'Arrival_at_Destination_Day_of_Month',\n",
    "                          'Arrival_at_Destination_Weekday_(Mo_=_1)',\n",
    "                          'Arrival_at_Destination_Time','Order_No', 'User_Id', 'Vehicle_Type', 'Rider_Id'], axis = 1)\n",
    "Test_df = Test_df.drop(['Vehicle_Type','Order_No', 'User_Id', 'Vehicle_Type','Rider_Id'], axis = 1)"
   ]
  },
  {
   "cell_type": "markdown",
   "metadata": {},
   "source": [
    "Then the Train_df and Test_df dataframes are checked to see if the columns are dropped."
   ]
  },
  {
   "cell_type": "code",
   "execution_count": 434,
   "metadata": {},
   "outputs": [
    {
     "data": {
      "text/plain": [
       "Index(['Platform_Type', 'Personal_or_Business', 'Placement_Day_of_Month',\n",
       "       'Placement_Weekday_(Mo_=_1)', 'Placement_Time',\n",
       "       'Confirmation_Day_of_Month', 'Confirmation_Weekday_(Mo_=_1)',\n",
       "       'Confirmation_Time', 'Arrival_at_Pickup_Day_of_Month',\n",
       "       'Arrival_at_Pickup_Weekday_(Mo_=_1)', 'Arrival_at_Pickup_Time',\n",
       "       'Pickup_Day_of_Month', 'Pickup_Weekday_(Mo_=_1)', 'Pickup_Time',\n",
       "       'Distance_(KM)', 'Temperature', 'Precipitation_in_millimeters',\n",
       "       'Pickup_Lat', 'Pickup_Long', 'Destination_Lat', 'Destination_Long',\n",
       "       'Time_from_Pickup_to_Arrival', 'No_Of_Orders', 'Age', 'Average_Rating',\n",
       "       'No_of_Ratings'],\n",
       "      dtype='object')"
      ]
     },
     "execution_count": 434,
     "metadata": {},
     "output_type": "execute_result"
    }
   ],
   "source": [
    "Train_df.columns"
   ]
  },
  {
   "cell_type": "code",
   "execution_count": 435,
   "metadata": {},
   "outputs": [
    {
     "data": {
      "text/plain": [
       "Index(['Platform_Type', 'Personal_or_Business', 'Placement_Day_of_Month',\n",
       "       'Placement_Weekday_(Mo_=_1)', 'Placement_Time',\n",
       "       'Confirmation_Day_of_Month', 'Confirmation_Weekday_(Mo_=_1)',\n",
       "       'Confirmation_Time', 'Arrival_at_Pickup_Day_of_Month',\n",
       "       'Arrival_at_Pickup_Weekday_(Mo_=_1)', 'Arrival_at_Pickup_Time',\n",
       "       'Pickup_Day_of_Month', 'Pickup_Weekday_(Mo_=_1)', 'Pickup_Time',\n",
       "       'Distance_(KM)', 'Temperature', 'Precipitation_in_millimeters',\n",
       "       'Pickup_Lat', 'Pickup_Long', 'Destination_Lat', 'Destination_Long',\n",
       "       'No_Of_Orders', 'Age', 'Average_Rating', 'No_of_Ratings'],\n",
       "      dtype='object')"
      ]
     },
     "execution_count": 435,
     "metadata": {},
     "output_type": "execute_result"
    }
   ],
   "source": [
    "Test_df.columns"
   ]
  },
  {
   "cell_type": "markdown",
   "metadata": {},
   "source": [
    "Train_df and Test_df columns above show that the unwanted columns have been dropped. Since all the unnecessary columns are dealt with the dataframes can be checked for missing values."
   ]
  },
  {
   "cell_type": "markdown",
   "metadata": {},
   "source": [
    "### Handling missing data"
   ]
  },
  {
   "cell_type": "markdown",
   "metadata": {
    "scrolled": true
   },
   "source": [
    "The Train_df is assessed for missing data. This is done by creating a new dataframe containing all the features in the Train_df and the counts of missing data in each feature. This is shown below."
   ]
  },
  {
   "cell_type": "code",
   "execution_count": 436,
   "metadata": {},
   "outputs": [
    {
     "data": {
      "text/html": [
       "<div>\n",
       "<style scoped>\n",
       "    .dataframe tbody tr th:only-of-type {\n",
       "        vertical-align: middle;\n",
       "    }\n",
       "\n",
       "    .dataframe tbody tr th {\n",
       "        vertical-align: top;\n",
       "    }\n",
       "\n",
       "    .dataframe thead th {\n",
       "        text-align: right;\n",
       "    }\n",
       "</style>\n",
       "<table border=\"1\" class=\"dataframe\">\n",
       "  <thead>\n",
       "    <tr style=\"text-align: right;\">\n",
       "      <th></th>\n",
       "      <th>Total</th>\n",
       "      <th>%</th>\n",
       "    </tr>\n",
       "  </thead>\n",
       "  <tbody>\n",
       "    <tr>\n",
       "      <th>Precipitation_in_millimeters</th>\n",
       "      <td>20649</td>\n",
       "      <td>97.4</td>\n",
       "    </tr>\n",
       "    <tr>\n",
       "      <th>Temperature</th>\n",
       "      <td>4366</td>\n",
       "      <td>20.6</td>\n",
       "    </tr>\n",
       "    <tr>\n",
       "      <th>No_of_Ratings</th>\n",
       "      <td>0</td>\n",
       "      <td>0.0</td>\n",
       "    </tr>\n",
       "    <tr>\n",
       "      <th>Pickup_Day_of_Month</th>\n",
       "      <td>0</td>\n",
       "      <td>0.0</td>\n",
       "    </tr>\n",
       "    <tr>\n",
       "      <th>Personal_or_Business</th>\n",
       "      <td>0</td>\n",
       "      <td>0.0</td>\n",
       "    </tr>\n",
       "  </tbody>\n",
       "</table>\n",
       "</div>"
      ],
      "text/plain": [
       "                              Total     %\n",
       "Precipitation_in_millimeters  20649  97.4\n",
       "Temperature                    4366  20.6\n",
       "No_of_Ratings                     0   0.0\n",
       "Pickup_Day_of_Month               0   0.0\n",
       "Personal_or_Business              0   0.0"
      ]
     },
     "execution_count": 436,
     "metadata": {},
     "output_type": "execute_result"
    }
   ],
   "source": [
    "total = Train_df.isnull().sum().sort_values(ascending=False)\n",
    "percent_1 = Train_df.isnull().sum()/Train_df.isnull().count()*100\n",
    "percent_2 = (round(percent_1, 1)).sort_values(ascending=False)\n",
    "missing_data = pd.concat([total, percent_2], axis=1, keys=['Total', '%'])\n",
    "missing_data.head(5)"
   ]
  },
  {
   "cell_type": "markdown",
   "metadata": {},
   "source": [
    "From the created dataframe called missing_data, a figure is produced to give a visual showing the missing data in each feature."
   ]
  },
  {
   "cell_type": "code",
   "execution_count": 437,
   "metadata": {},
   "outputs": [
    {
     "data": {
      "image/png": "[encoded data removed]",
      "text/plain": [
       "<Figure size 720x1080 with 1 Axes>"
      ]
     },
     "metadata": {
      "needs_background": "light"
     },
     "output_type": "display_data"
    }
   ],
   "source": [
    "ax = missing_data['Total'].plot(kind='barh', figsize=(10, 15), color='#86bf91', zorder=2, width=0.68)\n",
    "    # Set x-axis label\n",
    "ax.set_xlabel(\"Total count of missing values\", labelpad=20, weight='bold', size=12)\n",
    "\n",
    "# Set y-axis label\n",
    "ax.set_ylabel(\"Features\", labelpad=20, weight='bold', size=12)\n",
    "plt.show()"
   ]
  },
  {
   "cell_type": "markdown",
   "metadata": {},
   "source": [
    "As observed from both missing_data frame and the visual display above, it will be a bit tricky to deal with the 'Temparature' feature, which has 4366 missing values. On the other hand, the 'Precipitation in mm' feature needs further investigation it has 97.4 % of its data missing. There is higher possibility that the missing 'Precipitation in mm' can be because of no measurment taken when there was no precipitation, which means the missing values can be filled or replaced with zeros."
   ]
  },
  {
   "cell_type": "markdown",
   "metadata": {},
   "source": [
    "__Investigating on Precipitation in millimeter feature.__\n",
    "\n",
    "'Precipitation in mm' feature is checked if it contains any 0 mm records of Precipitation from both Test_df and Train_df dataframes."
   ]
  },
  {
   "cell_type": "code",
   "execution_count": 438,
   "metadata": {},
   "outputs": [
    {
     "data": {
      "text/plain": [
       "(False, False)"
      ]
     },
     "execution_count": 438,
     "metadata": {},
     "output_type": "execute_result"
    }
   ],
   "source": [
    "(Train_df['Precipitation_in_millimeters']==0).all(),(Test_df['Precipitation_in_millimeters']==0).all()\n"
   ]
  },
  {
   "cell_type": "markdown",
   "metadata": {},
   "source": [
    "The are no recorded 0 mm values for precipitation in both of the dataframes. It is not likely that pricipitation may occur in all days of the month. It makes sense that 97% of the time in a month there is no precipitation, therefore the NaN values will be replaced with 0 values. This means that on those days there was no precipitation and therefore none was recorded."
   ]
  },
  {
   "cell_type": "code",
   "execution_count": 439,
   "metadata": {},
   "outputs": [],
   "source": [
    "Train_df[\"Precipitation_in_millimeters\"] = Train_df[\"Precipitation_in_millimeters\"].fillna(0)\n",
    "Test_df[\"Precipitation_in_millimeters\"] = Test_df[\"Precipitation_in_millimeters\"].fillna(0)"
   ]
  },
  {
   "cell_type": "markdown",
   "metadata": {},
   "source": [
    "__Investigating on Temperatue feature.__"
   ]
  },
  {
   "cell_type": "markdown",
   "metadata": {},
   "source": [
    "Checking for relationship between Temparature and features which may have an influence on Time from Pickup to Arrival. Temperature for both personal and business orders in all platformed are looked at for any relationships."
   ]
  },
  {
   "cell_type": "code",
   "execution_count": 440,
   "metadata": {},
   "outputs": [
    {
     "data": {
      "image/png": "[encoded data removed]",
      "text/plain": [
       "<Figure size 432x288 with 1 Axes>"
      ]
     },
     "metadata": {
      "needs_background": "light"
     },
     "output_type": "display_data"
    }
   ],
   "source": [
    "#Train_df data set \n",
    "Temp = sns.boxplot(x=\"Platform_Type\", y=\"Temperature\", hue=\"Personal_or_Business\",\n",
    "                 data=Train_df, palette=\"Greens\")\n"
   ]
  },
  {
   "cell_type": "markdown",
   "metadata": {},
   "source": [
    "The whisker and the box diagram shows that there is a relationship between the Temparature, Platform Type, as well as the Personal or bussiness feature. It is clear that temperatures in all the platforms for both business and personal orders have a mean that is between 20 and 25. The missing data is then replaced by mean of the non-null values. This will only affect Temperature as at this point it is the only feature with null values."
   ]
  },
  {
   "cell_type": "code",
   "execution_count": 441,
   "metadata": {},
   "outputs": [],
   "source": [
    "Train_df = Train_df.fillna(Train_df.mean())\n",
    "Test_df = Test_df.fillna(Test_df.mean())"
   ]
  },
  {
   "cell_type": "markdown",
   "metadata": {},
   "source": [
    "Since all the null entries are dealt with, the next step is to look at formating the data types to the ones one can perform calculation on, and which the model can easily work with."
   ]
  },
  {
   "cell_type": "markdown",
   "metadata": {},
   "source": [
    "### Data type formating"
   ]
  },
  {
   "cell_type": "markdown",
   "metadata": {},
   "source": [
    "There are four features containg time data but as an object:\n",
    "\n",
    "- Placement_Time\n",
    "- Confirmation - Time\n",
    "- Arrival_at_Pickup_Time\n",
    "- Pickup_Time\n",
    "\n",
    "A function that takes time in hours: minutes: seconds format to seconds is created, and that time in both the dataframes is is converted to seconds. "
   ]
  },
  {
   "cell_type": "code",
   "execution_count": 442,
   "metadata": {},
   "outputs": [],
   "source": [
    "def alter_time(df):\n",
    "    time_matrix = ['Placement_Time','Confirmation_Time', \n",
    "                   'Arrival_at_Pickup_Time', 'Pickup_Time']\n",
    "    for i in time_matrix:\n",
    "        df[i] = pd.to_datetime(df[i]).dt.strftime('%H:%M:%S')\n",
    "        df[i] = pd.to_timedelta(df[i])\n",
    "        df[i] = df[i].dt.total_seconds()\n",
    "        \n",
    "    return df"
   ]
  },
  {
   "cell_type": "code",
   "execution_count": 443,
   "metadata": {},
   "outputs": [],
   "source": [
    "Train_df = alter_time(Train_df)\n",
    "Test_df = alter_time(Test_df)"
   ]
  },
  {
   "cell_type": "code",
   "execution_count": 444,
   "metadata": {},
   "outputs": [
    {
     "data": {
      "text/html": [
       "<div>\n",
       "<style scoped>\n",
       "    .dataframe tbody tr th:only-of-type {\n",
       "        vertical-align: middle;\n",
       "    }\n",
       "\n",
       "    .dataframe tbody tr th {\n",
       "        vertical-align: top;\n",
       "    }\n",
       "\n",
       "    .dataframe thead th {\n",
       "        text-align: right;\n",
       "    }\n",
       "</style>\n",
       "<table border=\"1\" class=\"dataframe\">\n",
       "  <thead>\n",
       "    <tr style=\"text-align: right;\">\n",
       "      <th></th>\n",
       "      <th>Platform_Type</th>\n",
       "      <th>Personal_or_Business</th>\n",
       "      <th>Placement_Day_of_Month</th>\n",
       "      <th>Placement_Weekday_(Mo_=_1)</th>\n",
       "      <th>Placement_Time</th>\n",
       "      <th>Confirmation_Day_of_Month</th>\n",
       "      <th>Confirmation_Weekday_(Mo_=_1)</th>\n",
       "      <th>Confirmation_Time</th>\n",
       "      <th>Arrival_at_Pickup_Day_of_Month</th>\n",
       "      <th>Arrival_at_Pickup_Weekday_(Mo_=_1)</th>\n",
       "      <th>...</th>\n",
       "      <th>Precipitation_in_millimeters</th>\n",
       "      <th>Pickup_Lat</th>\n",
       "      <th>Pickup_Long</th>\n",
       "      <th>Destination_Lat</th>\n",
       "      <th>Destination_Long</th>\n",
       "      <th>Time_from_Pickup_to_Arrival</th>\n",
       "      <th>No_Of_Orders</th>\n",
       "      <th>Age</th>\n",
       "      <th>Average_Rating</th>\n",
       "      <th>No_of_Ratings</th>\n",
       "    </tr>\n",
       "  </thead>\n",
       "  <tbody>\n",
       "    <tr>\n",
       "      <th>0</th>\n",
       "      <td>3</td>\n",
       "      <td>Business</td>\n",
       "      <td>9</td>\n",
       "      <td>5</td>\n",
       "      <td>34546.0</td>\n",
       "      <td>9</td>\n",
       "      <td>5</td>\n",
       "      <td>34810.0</td>\n",
       "      <td>9</td>\n",
       "      <td>5</td>\n",
       "      <td>...</td>\n",
       "      <td>0.0</td>\n",
       "      <td>-1.317755</td>\n",
       "      <td>36.830370</td>\n",
       "      <td>-1.300406</td>\n",
       "      <td>36.829741</td>\n",
       "      <td>745</td>\n",
       "      <td>1637</td>\n",
       "      <td>1309</td>\n",
       "      <td>13.8</td>\n",
       "      <td>549</td>\n",
       "    </tr>\n",
       "    <tr>\n",
       "      <th>1</th>\n",
       "      <td>3</td>\n",
       "      <td>Personal</td>\n",
       "      <td>12</td>\n",
       "      <td>5</td>\n",
       "      <td>40576.0</td>\n",
       "      <td>12</td>\n",
       "      <td>5</td>\n",
       "      <td>41001.0</td>\n",
       "      <td>12</td>\n",
       "      <td>5</td>\n",
       "      <td>...</td>\n",
       "      <td>0.0</td>\n",
       "      <td>-1.351453</td>\n",
       "      <td>36.899315</td>\n",
       "      <td>-1.295004</td>\n",
       "      <td>36.814358</td>\n",
       "      <td>1993</td>\n",
       "      <td>396</td>\n",
       "      <td>339</td>\n",
       "      <td>13.6</td>\n",
       "      <td>69</td>\n",
       "    </tr>\n",
       "  </tbody>\n",
       "</table>\n",
       "<p>2 rows × 26 columns</p>\n",
       "</div>"
      ],
      "text/plain": [
       "   Platform_Type Personal_or_Business  Placement_Day_of_Month  \\\n",
       "0              3             Business                       9   \n",
       "1              3             Personal                      12   \n",
       "\n",
       "   Placement_Weekday_(Mo_=_1)  Placement_Time  Confirmation_Day_of_Month  \\\n",
       "0                           5         34546.0                          9   \n",
       "1                           5         40576.0                         12   \n",
       "\n",
       "   Confirmation_Weekday_(Mo_=_1)  Confirmation_Time  \\\n",
       "0                              5            34810.0   \n",
       "1                              5            41001.0   \n",
       "\n",
       "   Arrival_at_Pickup_Day_of_Month  Arrival_at_Pickup_Weekday_(Mo_=_1)  ...  \\\n",
       "0                               9                                   5  ...   \n",
       "1                              12                                   5  ...   \n",
       "\n",
       "   Precipitation_in_millimeters  Pickup_Lat  Pickup_Long  Destination_Lat  \\\n",
       "0                           0.0   -1.317755    36.830370        -1.300406   \n",
       "1                           0.0   -1.351453    36.899315        -1.295004   \n",
       "\n",
       "   Destination_Long  Time_from_Pickup_to_Arrival  No_Of_Orders   Age  \\\n",
       "0         36.829741                          745          1637  1309   \n",
       "1         36.814358                         1993           396   339   \n",
       "\n",
       "   Average_Rating  No_of_Ratings  \n",
       "0            13.8            549  \n",
       "1            13.6             69  \n",
       "\n",
       "[2 rows x 26 columns]"
      ]
     },
     "execution_count": 444,
     "metadata": {},
     "output_type": "execute_result"
    }
   ],
   "source": [
    "Train_df.head(2)"
   ]
  },
  {
   "cell_type": "markdown",
   "metadata": {},
   "source": [
    "## Feature engineering"
   ]
  },
  {
   "cell_type": "markdown",
   "metadata": {},
   "source": [
    "In this section new time features are created from calculating the difference between the existing features. The feature that will be used are as follow:\n",
    "- Placement_Time\n",
    "- Confirmation - Time\n",
    "- Arrival_at_Pickup_Time\n",
    "- Pickup_Time\n",
    "\n",
    "From the listed features, the following new features are created:\n",
    "- Placement_to_Confiration_Time\n",
    "- Placement_to_Arrival_at_Pickup_Time\n",
    "- Placement_to_Pickup_Time\n",
    "- Confirmation_to_Arrival_at_Pickup_Time\n",
    "- Confirmation_to_Pickup_Time\n",
    "- Arrival_at_Pickup_to_Pickup_Time"
   ]
  },
  {
   "cell_type": "code",
   "execution_count": 445,
   "metadata": {},
   "outputs": [],
   "source": [
    "Train_df['Placement_to_Confiration_Time'] = Train_df['Confirmation_Time'] - Train_df['Placement_Time']\n",
    "Test_df['Placement_to_Confiration_Time'] = Test_df['Confirmation_Time'] - Test_df['Placement_Time'] \n",
    "\n",
    "Train_df['Placement_to_Arrival_at_Pickup_Time'] = Train_df['Arrival_at_Pickup_Time'] - Train_df['Placement_Time']\n",
    "Test_df['Placement_to_Arrival_at_Pickup_Time'] = Test_df['Arrival_at_Pickup_Time'] - Test_df['Placement_Time'] \n",
    "\n",
    "Train_df['Placement_to_Pickup_Time'] = Train_df['Pickup_Time'] - Train_df['Placement_Time']\n",
    "Test_df['Placement_to_Pickup_Time'] = Test_df['Pickup_Time'] - Test_df['Placement_Time'] \n",
    "\n",
    "Train_df['Confirmation_to_Arrival_at_Pickup_Time'] = Train_df['Arrival_at_Pickup_Time'] - Train_df['Confirmation_Time']\n",
    "Test_df['Confirmation_to_Arrival_at_Pickup_Time'] = Test_df['Arrival_at_Pickup_Time'] - Test_df['Confirmation_Time'] \n",
    "\n",
    "Train_df['Confirmation_to_Pickup_Time'] = Train_df['Confirmation_Time'] - Train_df['Placement_Time']\n",
    "Test_df['Confirmation_to_Pickup_Time'] = Test_df['Confirmation_Time'] - Test_df['Placement_Time'] \n",
    "\n",
    "Train_df['Arrival_at_Pickup_to_Pickup_Time'] = Train_df['Confirmation_Time'] - Train_df['Placement_Time']\n",
    "Test_df['Arrival_at_Pickup_to_Pickup_Time'] = Test_df['Confirmation_Time'] - Test_df['Placement_Time'] "
   ]
  },
  {
   "cell_type": "code",
   "execution_count": 446,
   "metadata": {},
   "outputs": [
    {
     "name": "stdout",
     "output_type": "stream",
     "text": [
      "<class 'pandas.core.frame.DataFrame'>\n",
      "Int64Index: 21201 entries, 0 to 21200\n",
      "Data columns (total 32 columns):\n",
      " #   Column                                  Non-Null Count  Dtype  \n",
      "---  ------                                  --------------  -----  \n",
      " 0   Platform_Type                           21201 non-null  int64  \n",
      " 1   Personal_or_Business                    21201 non-null  object \n",
      " 2   Placement_Day_of_Month                  21201 non-null  int64  \n",
      " 3   Placement_Weekday_(Mo_=_1)              21201 non-null  int64  \n",
      " 4   Placement_Time                          21201 non-null  float64\n",
      " 5   Confirmation_Day_of_Month               21201 non-null  int64  \n",
      " 6   Confirmation_Weekday_(Mo_=_1)           21201 non-null  int64  \n",
      " 7   Confirmation_Time                       21201 non-null  float64\n",
      " 8   Arrival_at_Pickup_Day_of_Month          21201 non-null  int64  \n",
      " 9   Arrival_at_Pickup_Weekday_(Mo_=_1)      21201 non-null  int64  \n",
      " 10  Arrival_at_Pickup_Time                  21201 non-null  float64\n",
      " 11  Pickup_Day_of_Month                     21201 non-null  int64  \n",
      " 12  Pickup_Weekday_(Mo_=_1)                 21201 non-null  int64  \n",
      " 13  Pickup_Time                             21201 non-null  float64\n",
      " 14  Distance_(KM)                           21201 non-null  int64  \n",
      " 15  Temperature                             21201 non-null  float64\n",
      " 16  Precipitation_in_millimeters            21201 non-null  float64\n",
      " 17  Pickup_Lat                              21201 non-null  float64\n",
      " 18  Pickup_Long                             21201 non-null  float64\n",
      " 19  Destination_Lat                         21201 non-null  float64\n",
      " 20  Destination_Long                        21201 non-null  float64\n",
      " 21  Time_from_Pickup_to_Arrival             21201 non-null  int64  \n",
      " 22  No_Of_Orders                            21201 non-null  int64  \n",
      " 23  Age                                     21201 non-null  int64  \n",
      " 24  Average_Rating                          21201 non-null  float64\n",
      " 25  No_of_Ratings                           21201 non-null  int64  \n",
      " 26  Placement_to_Confiration_Time           21201 non-null  float64\n",
      " 27  Placement_to_Arrival_at_Pickup_Time     21201 non-null  float64\n",
      " 28  Placement_to_Pickup_Time                21201 non-null  float64\n",
      " 29  Confirmation_to_Arrival_at_Pickup_Time  21201 non-null  float64\n",
      " 30  Confirmation_to_Pickup_Time             21201 non-null  float64\n",
      " 31  Arrival_at_Pickup_to_Pickup_Time        21201 non-null  float64\n",
      "dtypes: float64(17), int64(14), object(1)\n",
      "memory usage: 5.3+ MB\n"
     ]
    }
   ],
   "source": [
    "Train_df.info()"
   ]
  },
  {
   "cell_type": "markdown",
   "metadata": {},
   "source": [
    "The called dataframe above shows that there new features are added succesfully.\n",
    "\n",
    "A new feature of the actual distance from pickup to destination is now created from coordinates given using haversine formula. The haversine formula determines the great-circle distance between two points on a sphere given their longitudes and latitudes.\n",
    "Below is the fuction that will calculate the disdance between the pickup and destination location in kilo meters"
   ]
  },
  {
   "cell_type": "code",
   "execution_count": 447,
   "metadata": {},
   "outputs": [],
   "source": [
    "def haversine_vectorize(lon1, lat1, lon2, lat2): \n",
    "    lon1, lat1, lon2, lat2 = map(np.radians, [lon1, lat1, lon2, lat2]) \n",
    "    newlon = lon2 - lon1\n",
    "    newlat = lat2 - lat1 \n",
    "    haver_formula = np.sin(newlat/2.0)**2 + np.cos(lat1) * np.cos(lat2) * np.sin(newlon/2.0)**2\n",
    " \n",
    "    dist = 2 * np.arcsin(np.sqrt(haver_formula ))\n",
    "    km = 6367 * dist #6367 for distance in KM(radius of the Earth)\n",
    "    return round(km, 0)"
   ]
  },
  {
   "cell_type": "markdown",
   "metadata": {},
   "source": [
    "Using the function, actual distance is calculated and Actual_Distance_KM feature is added to both the Train_df and the Test_df."
   ]
  },
  {
   "cell_type": "code",
   "execution_count": 448,
   "metadata": {},
   "outputs": [],
   "source": [
    "distance_1 = haversine_vectorize(Train_df['Pickup_Lat'], \n",
    "                               Train_df['Pickup_Long'], \n",
    "                               Train_df['Destination_Lat'], \n",
    "                               Train_df['Destination_Long'])\n",
    "Train_df['Actual_Distance_KM'] = distance_1\n",
    "distance_2 = haversine_vectorize(Train_df['Pickup_Lat'], \n",
    "                               Train_df['Pickup_Long'], \n",
    "                               Train_df['Destination_Lat'], \n",
    "                               Train_df['Destination_Long'])\n",
    "Test_df['Actual_Distance_KM'] = distance_2"
   ]
  },
  {
   "cell_type": "code",
   "execution_count": 449,
   "metadata": {
    "scrolled": false
   },
   "outputs": [
    {
     "data": {
      "text/html": [
       "<div>\n",
       "<style scoped>\n",
       "    .dataframe tbody tr th:only-of-type {\n",
       "        vertical-align: middle;\n",
       "    }\n",
       "\n",
       "    .dataframe tbody tr th {\n",
       "        vertical-align: top;\n",
       "    }\n",
       "\n",
       "    .dataframe thead th {\n",
       "        text-align: right;\n",
       "    }\n",
       "</style>\n",
       "<table border=\"1\" class=\"dataframe\">\n",
       "  <thead>\n",
       "    <tr style=\"text-align: right;\">\n",
       "      <th></th>\n",
       "      <th>Platform_Type</th>\n",
       "      <th>Personal_or_Business</th>\n",
       "      <th>Placement_Day_of_Month</th>\n",
       "      <th>Placement_Weekday_(Mo_=_1)</th>\n",
       "      <th>Placement_Time</th>\n",
       "      <th>Confirmation_Day_of_Month</th>\n",
       "      <th>Confirmation_Weekday_(Mo_=_1)</th>\n",
       "      <th>Confirmation_Time</th>\n",
       "      <th>Arrival_at_Pickup_Day_of_Month</th>\n",
       "      <th>Arrival_at_Pickup_Weekday_(Mo_=_1)</th>\n",
       "      <th>...</th>\n",
       "      <th>Age</th>\n",
       "      <th>Average_Rating</th>\n",
       "      <th>No_of_Ratings</th>\n",
       "      <th>Placement_to_Confiration_Time</th>\n",
       "      <th>Placement_to_Arrival_at_Pickup_Time</th>\n",
       "      <th>Placement_to_Pickup_Time</th>\n",
       "      <th>Confirmation_to_Arrival_at_Pickup_Time</th>\n",
       "      <th>Confirmation_to_Pickup_Time</th>\n",
       "      <th>Arrival_at_Pickup_to_Pickup_Time</th>\n",
       "      <th>Actual_Distance_KM</th>\n",
       "    </tr>\n",
       "  </thead>\n",
       "  <tbody>\n",
       "    <tr>\n",
       "      <th>0</th>\n",
       "      <td>3</td>\n",
       "      <td>Business</td>\n",
       "      <td>9</td>\n",
       "      <td>5</td>\n",
       "      <td>34546.0</td>\n",
       "      <td>9</td>\n",
       "      <td>5</td>\n",
       "      <td>34810.0</td>\n",
       "      <td>9</td>\n",
       "      <td>5</td>\n",
       "      <td>...</td>\n",
       "      <td>1309</td>\n",
       "      <td>13.8</td>\n",
       "      <td>549</td>\n",
       "      <td>264.0</td>\n",
       "      <td>1741.0</td>\n",
       "      <td>3104.0</td>\n",
       "      <td>1477.0</td>\n",
       "      <td>264.0</td>\n",
       "      <td>264.0</td>\n",
       "      <td>2.0</td>\n",
       "    </tr>\n",
       "    <tr>\n",
       "      <th>1</th>\n",
       "      <td>3</td>\n",
       "      <td>Personal</td>\n",
       "      <td>12</td>\n",
       "      <td>5</td>\n",
       "      <td>40576.0</td>\n",
       "      <td>12</td>\n",
       "      <td>5</td>\n",
       "      <td>41001.0</td>\n",
       "      <td>12</td>\n",
       "      <td>5</td>\n",
       "      <td>...</td>\n",
       "      <td>339</td>\n",
       "      <td>13.6</td>\n",
       "      <td>69</td>\n",
       "      <td>425.0</td>\n",
       "      <td>1446.0</td>\n",
       "      <td>1673.0</td>\n",
       "      <td>1021.0</td>\n",
       "      <td>425.0</td>\n",
       "      <td>425.0</td>\n",
       "      <td>11.0</td>\n",
       "    </tr>\n",
       "    <tr>\n",
       "      <th>2</th>\n",
       "      <td>3</td>\n",
       "      <td>Business</td>\n",
       "      <td>30</td>\n",
       "      <td>2</td>\n",
       "      <td>45565.0</td>\n",
       "      <td>30</td>\n",
       "      <td>2</td>\n",
       "      <td>45764.0</td>\n",
       "      <td>30</td>\n",
       "      <td>2</td>\n",
       "      <td>...</td>\n",
       "      <td>242</td>\n",
       "      <td>12.5</td>\n",
       "      <td>114</td>\n",
       "      <td>199.0</td>\n",
       "      <td>609.0</td>\n",
       "      <td>818.0</td>\n",
       "      <td>410.0</td>\n",
       "      <td>199.0</td>\n",
       "      <td>199.0</td>\n",
       "      <td>2.0</td>\n",
       "    </tr>\n",
       "  </tbody>\n",
       "</table>\n",
       "<p>3 rows × 33 columns</p>\n",
       "</div>"
      ],
      "text/plain": [
       "   Platform_Type Personal_or_Business  Placement_Day_of_Month  \\\n",
       "0              3             Business                       9   \n",
       "1              3             Personal                      12   \n",
       "2              3             Business                      30   \n",
       "\n",
       "   Placement_Weekday_(Mo_=_1)  Placement_Time  Confirmation_Day_of_Month  \\\n",
       "0                           5         34546.0                          9   \n",
       "1                           5         40576.0                         12   \n",
       "2                           2         45565.0                         30   \n",
       "\n",
       "   Confirmation_Weekday_(Mo_=_1)  Confirmation_Time  \\\n",
       "0                              5            34810.0   \n",
       "1                              5            41001.0   \n",
       "2                              2            45764.0   \n",
       "\n",
       "   Arrival_at_Pickup_Day_of_Month  Arrival_at_Pickup_Weekday_(Mo_=_1)  ...  \\\n",
       "0                               9                                   5  ...   \n",
       "1                              12                                   5  ...   \n",
       "2                              30                                   2  ...   \n",
       "\n",
       "    Age  Average_Rating  No_of_Ratings  Placement_to_Confiration_Time  \\\n",
       "0  1309            13.8            549                          264.0   \n",
       "1   339            13.6             69                          425.0   \n",
       "2   242            12.5            114                          199.0   \n",
       "\n",
       "   Placement_to_Arrival_at_Pickup_Time  Placement_to_Pickup_Time  \\\n",
       "0                               1741.0                    3104.0   \n",
       "1                               1446.0                    1673.0   \n",
       "2                                609.0                     818.0   \n",
       "\n",
       "   Confirmation_to_Arrival_at_Pickup_Time  Confirmation_to_Pickup_Time  \\\n",
       "0                                  1477.0                        264.0   \n",
       "1                                  1021.0                        425.0   \n",
       "2                                   410.0                        199.0   \n",
       "\n",
       "   Arrival_at_Pickup_to_Pickup_Time  Actual_Distance_KM  \n",
       "0                             264.0                 2.0  \n",
       "1                             425.0                11.0  \n",
       "2                             199.0                 2.0  \n",
       "\n",
       "[3 rows x 33 columns]"
      ]
     },
     "execution_count": 449,
     "metadata": {},
     "output_type": "execute_result"
    }
   ],
   "source": [
    "Train_df.head(3)"
   ]
  },
  {
   "cell_type": "markdown",
   "metadata": {},
   "source": [
    "The above dataframe shows that there has been a total of seven features that are engineered and added to the dataframes."
   ]
  },
  {
   "cell_type": "markdown",
   "metadata": {},
   "source": [
    "## Exploratory Data Analysis (EDA)"
   ]
  },
  {
   "cell_type": "markdown",
   "metadata": {},
   "source": [
    "Most of the work like cleaning of data and removing unnecessary features is already done. Since the target variable is the Time_from_Pickup_to_Arrival, analysis will be done on this feature first, starting with the distribution of data in the feature."
   ]
  },
  {
   "cell_type": "markdown",
   "metadata": {},
   "source": [
    "## Understanding the distribution of data\n",
    "Features contained in the dataframe are looked at independently.This will help with understanding the distribution of the ranges and/or types contained in each. After the data alteration,formatting and fixing, there is final dataframe for data visualisation shown below."
   ]
  },
  {
   "cell_type": "code",
   "execution_count": 483,
   "metadata": {},
   "outputs": [
    {
     "name": "stdout",
     "output_type": "stream",
     "text": [
      "count    20455.000000\n",
      "mean      1582.084820\n",
      "std        913.682104\n",
      "min         21.000000\n",
      "25%        920.000000\n",
      "50%       1394.000000\n",
      "75%       2053.000000\n",
      "max       4997.000000\n",
      "Name: Time_from_Pickup_to_Arrival, dtype: float64\n"
     ]
    },
    {
     "data": {
      "image/png": "[encoded data removed]",
      "text/plain": [
       "<Figure size 432x288 with 1 Axes>"
      ]
     },
     "metadata": {
      "needs_background": "light"
     },
     "output_type": "display_data"
    }
   ],
   "source": [
    "print(Train_df['Time_from_Pickup_to_Arrival'].describe())\n",
    "plt.figure()\n",
    "sns.distplot(Train_df['Time_from_Pickup_to_Arrival'], color='g', bins=100, hist_kws={'alpha': 0.4});"
   ]
  },
  {
   "cell_type": "markdown",
   "metadata": {},
   "source": [
    "The above figure shows that the time from pick up to arrival is skewed to the right and there are outliers lying above approximately above 4000 seconds and below 20 seconds. Getting rid of the outliers will bring a normal or near dirstribution."
   ]
  },
  {
   "cell_type": "code",
   "execution_count": 484,
   "metadata": {},
   "outputs": [],
   "source": [
    "Train1_df=Train_df[Train_df['Time_from_Pickup_to_Arrival']<5000]"
   ]
  },
  {
   "cell_type": "code",
   "execution_count": 485,
   "metadata": {},
   "outputs": [],
   "source": [
    "Train_df=Train1_df[Train1_df['Time_from_Pickup_to_Arrival']>20]"
   ]
  },
  {
   "cell_type": "code",
   "execution_count": 486,
   "metadata": {},
   "outputs": [
    {
     "data": {
      "image/png": "[encoded data removed]",
      "text/plain": [
       "<Figure size 432x288 with 1 Axes>"
      ]
     },
     "metadata": {
      "needs_background": "light"
     },
     "output_type": "display_data"
    }
   ],
   "source": [
    "plt.figure()\n",
    "sns.distplot(Train_df['Time_from_Pickup_to_Arrival'], color='g', bins=100, hist_kws={'alpha': 0.4});"
   ]
  },
  {
   "cell_type": "markdown",
   "metadata": {},
   "source": [
    "Now that outliers are removed from the target viarable, the categorial data and numerical data features are analysed."
   ]
  },
  {
   "cell_type": "markdown",
   "metadata": {},
   "source": [
    "### Categorical data\n",
    "The violin prot will show the distribution of Time_from_Pickup_to_Arrival across Platform_Type and Personal_or_Business. "
   ]
  },
  {
   "cell_type": "code",
   "execution_count": 498,
   "metadata": {
    "scrolled": true
   },
   "outputs": [
    {
     "data": {
      "image/png": "[encoded data removed]",
      "text/plain": [
       "<Figure size 432x288 with 1 Axes>"
      ]
     },
     "metadata": {
      "needs_background": "light"
     },
     "output_type": "display_data"
    }
   ],
   "source": [
    "sns.violinplot(x=\"Platform_Type\", y=\"Time_from_Pickup_to_Arrival\", data=Train_df,hue='Personal_or_Business',palette='Set1')\n",
    "plt.title('Time from pickup to arrival for all platforms and for business and personal use')\n",
    "plt.show()"
   ]
  },
  {
   "cell_type": "markdown",
   "metadata": {},
   "source": [
    "From the figure, the median and mode for all the platfroms and in both business and personal orders are around 1500. The figure also shows that plaform four only has business orders and a greater median compared to other platforms."
   ]
  },
  {
   "cell_type": "markdown",
   "metadata": {},
   "source": [
    "### Numerical data\n",
    "\n",
    "__Placement and confirmation day of the month__\n",
    "\n",
    "Placement and confirmation day of the month can be the same. If they are, it will save time that only one of the features is looked at. To check that, a new dataframe is created with rows that pass the condition that confirmation day is the same as placement day of the month."
   ]
  },
  {
   "cell_type": "code",
   "execution_count": 62,
   "metadata": {
    "scrolled": true
   },
   "outputs": [
    {
     "data": {
      "text/html": [
       "<div>\n",
       "<style scoped>\n",
       "    .dataframe tbody tr th:only-of-type {\n",
       "        vertical-align: middle;\n",
       "    }\n",
       "\n",
       "    .dataframe tbody tr th {\n",
       "        vertical-align: top;\n",
       "    }\n",
       "\n",
       "    .dataframe thead th {\n",
       "        text-align: right;\n",
       "    }\n",
       "</style>\n",
       "<table border=\"1\" class=\"dataframe\">\n",
       "  <thead>\n",
       "    <tr style=\"text-align: right;\">\n",
       "      <th></th>\n",
       "      <th>Order_No</th>\n",
       "      <th>User_Id</th>\n",
       "      <th>Platform_Type</th>\n",
       "      <th>Personal_or_Business</th>\n",
       "      <th>Placement_Day_of_Month</th>\n",
       "      <th>Placement_Weekday_(Mo_=_1)</th>\n",
       "      <th>Placement_Time</th>\n",
       "      <th>Confirmation_Day_of_Month</th>\n",
       "      <th>Confirmation_Weekday_(Mo_=_1)</th>\n",
       "      <th>Confirmation_Time</th>\n",
       "      <th>...</th>\n",
       "      <th>Age_y</th>\n",
       "      <th>Average_Rating_y</th>\n",
       "      <th>No_of_Ratings_y</th>\n",
       "      <th>Placement_to_Confiration_Time</th>\n",
       "      <th>Placement_to_Arrival_at_Pickup_Time</th>\n",
       "      <th>Placement_to_Pickup_Time</th>\n",
       "      <th>Confirmation_to_Arrival_at_Pickup_Time</th>\n",
       "      <th>Confirmation_to_Pickup_Time</th>\n",
       "      <th>Arrival_at_Pickup_to_Pickup_Time</th>\n",
       "      <th>Actual_Distance_KM</th>\n",
       "    </tr>\n",
       "  </thead>\n",
       "  <tbody>\n",
       "    <tr>\n",
       "      <th>4024</th>\n",
       "      <td>Order_No_2800</td>\n",
       "      <td>User_Id_1402</td>\n",
       "      <td>3</td>\n",
       "      <td>Business</td>\n",
       "      <td>17</td>\n",
       "      <td>1</td>\n",
       "      <td>52477.0</td>\n",
       "      <td>18</td>\n",
       "      <td>2</td>\n",
       "      <td>47813.0</td>\n",
       "      <td>...</td>\n",
       "      <td>623</td>\n",
       "      <td>14.0</td>\n",
       "      <td>106</td>\n",
       "      <td>-4664.0</td>\n",
       "      <td>-2092.0</td>\n",
       "      <td>-1965.0</td>\n",
       "      <td>2572.0</td>\n",
       "      <td>-4664.0</td>\n",
       "      <td>-4664.0</td>\n",
       "      <td>6.0</td>\n",
       "    </tr>\n",
       "    <tr>\n",
       "      <th>9804</th>\n",
       "      <td>Order_No_3530</td>\n",
       "      <td>User_Id_2457</td>\n",
       "      <td>3</td>\n",
       "      <td>Business</td>\n",
       "      <td>11</td>\n",
       "      <td>2</td>\n",
       "      <td>44525.0</td>\n",
       "      <td>13</td>\n",
       "      <td>4</td>\n",
       "      <td>48450.0</td>\n",
       "      <td>...</td>\n",
       "      <td>752</td>\n",
       "      <td>14.3</td>\n",
       "      <td>322</td>\n",
       "      <td>3925.0</td>\n",
       "      <td>4233.0</td>\n",
       "      <td>5502.0</td>\n",
       "      <td>308.0</td>\n",
       "      <td>3925.0</td>\n",
       "      <td>3925.0</td>\n",
       "      <td>6.0</td>\n",
       "    </tr>\n",
       "  </tbody>\n",
       "</table>\n",
       "<p>2 rows × 40 columns</p>\n",
       "</div>"
      ],
      "text/plain": [
       "           Order_No       User_Id  Platform_Type Personal_or_Business  \\\n",
       "4024  Order_No_2800  User_Id_1402              3             Business   \n",
       "9804  Order_No_3530  User_Id_2457              3             Business   \n",
       "\n",
       "      Placement_Day_of_Month  Placement_Weekday_(Mo_=_1)  Placement_Time  \\\n",
       "4024                      17                           1         52477.0   \n",
       "9804                      11                           2         44525.0   \n",
       "\n",
       "      Confirmation_Day_of_Month  Confirmation_Weekday_(Mo_=_1)  \\\n",
       "4024                         18                              2   \n",
       "9804                         13                              4   \n",
       "\n",
       "      Confirmation_Time  ...  Age_y  Average_Rating_y  No_of_Ratings_y  \\\n",
       "4024            47813.0  ...    623              14.0              106   \n",
       "9804            48450.0  ...    752              14.3              322   \n",
       "\n",
       "      Placement_to_Confiration_Time  Placement_to_Arrival_at_Pickup_Time  \\\n",
       "4024                        -4664.0                              -2092.0   \n",
       "9804                         3925.0                               4233.0   \n",
       "\n",
       "      Placement_to_Pickup_Time  Confirmation_to_Arrival_at_Pickup_Time  \\\n",
       "4024                   -1965.0                                  2572.0   \n",
       "9804                    5502.0                                   308.0   \n",
       "\n",
       "      Confirmation_to_Pickup_Time  Arrival_at_Pickup_to_Pickup_Time  \\\n",
       "4024                      -4664.0                           -4664.0   \n",
       "9804                       3925.0                            3925.0   \n",
       "\n",
       "      Actual_Distance_KM  \n",
       "4024                 6.0  \n",
       "9804                 6.0  \n",
       "\n",
       "[2 rows x 40 columns]"
      ]
     },
     "execution_count": 62,
     "metadata": {},
     "output_type": "execute_result"
    }
   ],
   "source": [
    "New_df=Train_df[Train_df['Placement_Day_of_Month']!=Train_df['Confirmation_Day_of_Month']]\n",
    "New_df"
   ]
  },
  {
   "cell_type": "code",
   "execution_count": 63,
   "metadata": {
    "scrolled": true
   },
   "outputs": [
    {
     "data": {
      "text/html": [
       "<div>\n",
       "<style scoped>\n",
       "    .dataframe tbody tr th:only-of-type {\n",
       "        vertical-align: middle;\n",
       "    }\n",
       "\n",
       "    .dataframe tbody tr th {\n",
       "        vertical-align: top;\n",
       "    }\n",
       "\n",
       "    .dataframe thead th {\n",
       "        text-align: right;\n",
       "    }\n",
       "</style>\n",
       "<table border=\"1\" class=\"dataframe\">\n",
       "  <thead>\n",
       "    <tr style=\"text-align: right;\">\n",
       "      <th></th>\n",
       "      <th>Order_No</th>\n",
       "      <th>User_Id</th>\n",
       "      <th>Platform_Type</th>\n",
       "      <th>Personal_or_Business</th>\n",
       "      <th>Placement_Day_of_Month</th>\n",
       "      <th>Placement_Weekday_(Mo_=_1)</th>\n",
       "      <th>Placement_Time</th>\n",
       "      <th>Confirmation_Day_of_Month</th>\n",
       "      <th>Confirmation_Weekday_(Mo_=_1)</th>\n",
       "      <th>Confirmation_Time</th>\n",
       "      <th>...</th>\n",
       "      <th>Age_y</th>\n",
       "      <th>Average_Rating_y</th>\n",
       "      <th>No_of_Ratings_y</th>\n",
       "      <th>Placement_to_Confiration_Time</th>\n",
       "      <th>Placement_to_Arrival_at_Pickup_Time</th>\n",
       "      <th>Placement_to_Pickup_Time</th>\n",
       "      <th>Confirmation_to_Arrival_at_Pickup_Time</th>\n",
       "      <th>Confirmation_to_Pickup_Time</th>\n",
       "      <th>Arrival_at_Pickup_to_Pickup_Time</th>\n",
       "      <th>Actual_Distance_KM</th>\n",
       "    </tr>\n",
       "  </thead>\n",
       "  <tbody>\n",
       "    <tr>\n",
       "      <th>4024</th>\n",
       "      <td>Order_No_2800</td>\n",
       "      <td>User_Id_1402</td>\n",
       "      <td>3</td>\n",
       "      <td>Business</td>\n",
       "      <td>17</td>\n",
       "      <td>1</td>\n",
       "      <td>52477.0</td>\n",
       "      <td>18</td>\n",
       "      <td>2</td>\n",
       "      <td>47813.0</td>\n",
       "      <td>...</td>\n",
       "      <td>623</td>\n",
       "      <td>14.0</td>\n",
       "      <td>106</td>\n",
       "      <td>-4664.0</td>\n",
       "      <td>-2092.0</td>\n",
       "      <td>-1965.0</td>\n",
       "      <td>2572.0</td>\n",
       "      <td>-4664.0</td>\n",
       "      <td>-4664.0</td>\n",
       "      <td>6.0</td>\n",
       "    </tr>\n",
       "    <tr>\n",
       "      <th>9804</th>\n",
       "      <td>Order_No_3530</td>\n",
       "      <td>User_Id_2457</td>\n",
       "      <td>3</td>\n",
       "      <td>Business</td>\n",
       "      <td>11</td>\n",
       "      <td>2</td>\n",
       "      <td>44525.0</td>\n",
       "      <td>13</td>\n",
       "      <td>4</td>\n",
       "      <td>48450.0</td>\n",
       "      <td>...</td>\n",
       "      <td>752</td>\n",
       "      <td>14.3</td>\n",
       "      <td>322</td>\n",
       "      <td>3925.0</td>\n",
       "      <td>4233.0</td>\n",
       "      <td>5502.0</td>\n",
       "      <td>308.0</td>\n",
       "      <td>3925.0</td>\n",
       "      <td>3925.0</td>\n",
       "      <td>6.0</td>\n",
       "    </tr>\n",
       "  </tbody>\n",
       "</table>\n",
       "<p>2 rows × 40 columns</p>\n",
       "</div>"
      ],
      "text/plain": [
       "           Order_No       User_Id  Platform_Type Personal_or_Business  \\\n",
       "4024  Order_No_2800  User_Id_1402              3             Business   \n",
       "9804  Order_No_3530  User_Id_2457              3             Business   \n",
       "\n",
       "      Placement_Day_of_Month  Placement_Weekday_(Mo_=_1)  Placement_Time  \\\n",
       "4024                      17                           1         52477.0   \n",
       "9804                      11                           2         44525.0   \n",
       "\n",
       "      Confirmation_Day_of_Month  Confirmation_Weekday_(Mo_=_1)  \\\n",
       "4024                         18                              2   \n",
       "9804                         13                              4   \n",
       "\n",
       "      Confirmation_Time  ...  Age_y  Average_Rating_y  No_of_Ratings_y  \\\n",
       "4024            47813.0  ...    623              14.0              106   \n",
       "9804            48450.0  ...    752              14.3              322   \n",
       "\n",
       "      Placement_to_Confiration_Time  Placement_to_Arrival_at_Pickup_Time  \\\n",
       "4024                        -4664.0                              -2092.0   \n",
       "9804                         3925.0                               4233.0   \n",
       "\n",
       "      Placement_to_Pickup_Time  Confirmation_to_Arrival_at_Pickup_Time  \\\n",
       "4024                   -1965.0                                  2572.0   \n",
       "9804                    5502.0                                   308.0   \n",
       "\n",
       "      Confirmation_to_Pickup_Time  Arrival_at_Pickup_to_Pickup_Time  \\\n",
       "4024                      -4664.0                           -4664.0   \n",
       "9804                       3925.0                            3925.0   \n",
       "\n",
       "      Actual_Distance_KM  \n",
       "4024                 6.0  \n",
       "9804                 6.0  \n",
       "\n",
       "[2 rows x 40 columns]"
      ]
     },
     "execution_count": 63,
     "metadata": {},
     "output_type": "execute_result"
    }
   ],
   "source": [
    "New_df=Train_df[Train_df['Placement_Weekday_(Mo_=_1)']!=Train_df['Confirmation_Weekday_(Mo_=_1)']]\n",
    "New_df"
   ]
  },
  {
   "cell_type": "markdown",
   "metadata": {},
   "source": [
    "From this dataframe, it can be seen that it was only on two occasions where Placement - Day of Month and Placement - Weekday were not the same as Confirmation - Day of Month and Confirmation - Weekday.\n",
    "\n",
    "This difference is viewed insignificant since it is only for 2 rows out of the 21201 rows. This makes sense if distribution for either of the features is checked instead of for both. The Placement - Day of Month is divided into fours bins with each representing a week as shown below."
   ]
  },
  {
   "cell_type": "code",
   "execution_count": 497,
   "metadata": {
    "scrolled": true
   },
   "outputs": [
    {
     "data": {
      "image/png": "[encoded data removed]",
      "text/plain": [
       "<Figure size 432x288 with 1 Axes>"
      ]
     },
     "metadata": {
      "needs_background": "light"
     },
     "output_type": "display_data"
    }
   ],
   "source": [
    "sns.distplot(Train_df['Placement_Day_of_Month'],bins=4,kde=False, color='red')\n",
    "plt.rcParams[\"patch.force_edgecolor\"] = True\n",
    "plt.xlabel('Day of the month')\n",
    "plt.ylabel('Number of orders')\n",
    "plt.title('Number of orders per Day of the month')\n",
    "plt.show()"
   ]
  },
  {
   "cell_type": "markdown",
   "metadata": {},
   "source": [
    "From observation, there are a more orders in the first days of the month. This makes sense as these are the times when people usually get their salaries.\n",
    "\n",
    "Looking at the Distance data, distane can show the range that contributes the most to the orders which simply is the distance range where the company gets most of its orders from. The distance (Km) is divided into 5 ranges and is shown below."
   ]
  },
  {
   "cell_type": "code",
   "execution_count": 502,
   "metadata": {
    "scrolled": false
   },
   "outputs": [
    {
     "data": {
      "image/png": "[encoded data removed]",
      "text/plain": [
       "<Figure size 432x288 with 1 Axes>"
      ]
     },
     "metadata": {
      "needs_background": "light"
     },
     "output_type": "display_data"
    }
   ],
   "source": [
    "sns.distplot(Train_df['Distance_(KM)'], bins=np.arange(0,60,10),kde=False, color='green')\n",
    "ax.set(xlabel='Distance(Km)', ylabel='Number of orders')\n",
    "plt.rcParams[\"patch.force_edgecolor\"] = True\n",
    "plt.xlabel('Distance')\n",
    "plt.ylabel('Number of orders')\n",
    "plt.title('Number of orders per distance range')\n",
    "plt.show()"
   ]
  },
  {
   "cell_type": "markdown",
   "metadata": {},
   "source": [
    "The figure above shows that most of the orders are for a traveling distance of between zero and ten kilometres. Few orders are from a range 30 and 40. This means that people who stay close to the pickup place.\n",
    "\n",
    "Now looking at both the temperature data and precipitation data, it was seen that these are the only features with missing values. Despite that, the graphs for both are produced and analysed."
   ]
  },
  {
   "cell_type": "code",
   "execution_count": 503,
   "metadata": {
    "scrolled": true
   },
   "outputs": [
    {
     "data": {
      "image/png": "[encoded data removed]",
      "text/plain": [
       "<Figure size 1080x360 with 2 Axes>"
      ]
     },
     "metadata": {
      "needs_background": "light"
     },
     "output_type": "display_data"
    }
   ],
   "source": [
    "fig, axes = plt.subplots(1, 2,figsize=(15,5))\n",
    "\n",
    "\n",
    "sns.distplot(Train_df['Temperature'],ax=axes[0], bins=np.arange(0,60,10),kde=False, color='orange')\n",
    "ax.set(xlabel='Temperature', ylabel='Number of orders')\n",
    "plt.rcParams[\"patch.force_edgecolor\"] = True\n",
    "plt.xlabel('Distance')\n",
    "plt.ylabel('Number of orders')\n",
    "\n",
    "sns.distplot(Train_df['Precipitation_in_millimeters'],ax=axes[1], bins=np.arange(0,60,10),kde=False, color='pink')\n",
    "ax.set(xlabel='Precipitation in millimeters', ylabel='Number of orders')\n",
    "plt.rcParams[\"patch.force_edgecolor\"] = True\n",
    "plt.xlabel('Distance')\n",
    "plt.ylabel('Number of orders')\n",
    "\n",
    "axes[0].set(xlabel=\"Temperature\", ylabel=\"Number of orders\",title='Number of orders per Temperature')\n",
    "axes[1].set(xlabel=\"Precipitation in milimeters\", ylabel=\"Number of orders\", title ='Number of orders per Precipitation size')\n",
    "fig.subplots_adjust(wspace=0.5)\n",
    "plt.show()"
   ]
  },
  {
   "cell_type": "markdown",
   "metadata": {},
   "source": [
    "The figures above show that there are more orders for temperatures of between 20 and 30. The number of orders seem to decrease with the size of precipitation which can only mean it becomes impossible to make deliveries when it rains.\n",
    "\n",
    "When it comes to the time it takes from pickup to arrival, a figure is produced below divded into categories of per 1000 seconds."
   ]
  },
  {
   "cell_type": "code",
   "execution_count": 505,
   "metadata": {
    "scrolled": false
   },
   "outputs": [
    {
     "data": {
      "image/png": "[encoded data removed]",
      "text/plain": [
       "<Figure size 432x288 with 1 Axes>"
      ]
     },
     "metadata": {
      "needs_background": "light"
     },
     "output_type": "display_data"
    }
   ],
   "source": [
    "sns.distplot(Train_df['Time_from_Pickup_to_Arrival'],bins=np.arange(0,6000,1000),kde=False, color='red')\n",
    "plt.xlabel('Time from Pickup to Arrival')\n",
    "plt.ylabel('Number of orders')\n",
    "plt.title('Number of orders per Time from Pickup to Arrival')\n",
    "plt.rcParams[\"patch.force_edgecolor\"] = True\n",
    "plt.show()"
   ]
  },
  {
   "cell_type": "markdown",
   "metadata": {},
   "source": [
    "The graph above shows that most of the orders take between 1000 to 2000 seconds. As the time from arrival to pickup increases there is a dicrease of orders that were made.\n",
    "\n",
    "Since the important features are looked at individually to see the number of orders per range and category of each feature, the distributions of all the numberical features are now looked at. For the purpose of labels being visible the distributions are divided into features with floats and ones with."
   ]
  },
  {
   "cell_type": "code",
   "execution_count": 530,
   "metadata": {
    "scrolled": true
   },
   "outputs": [
    {
     "data": {
      "image/png": "[encoded data removed]",
      "text/plain": [
       "<Figure size 1152x1440 with 20 Axes>"
      ]
     },
     "metadata": {
      "needs_background": "light"
     },
     "output_type": "display_data"
    }
   ],
   "source": [
    "df_num = Train_df.select_dtypes(include = ['float64'])\n",
    "df_num.hist(figsize=(16, 20), bins=50, xlabelsize=8, ylabelsize=8, color='c')\n",
    "plt.show()"
   ]
  },
  {
   "cell_type": "code",
   "execution_count": 532,
   "metadata": {},
   "outputs": [
    {
     "data": {
      "image/png": "[encoded data removed]",
      "text/plain": [
       "<Figure size 1152x1440 with 16 Axes>"
      ]
     },
     "metadata": {
      "needs_background": "light"
     },
     "output_type": "display_data"
    }
   ],
   "source": [
    "df_num = Train_df.select_dtypes(include = ['Int64'])\n",
    "df_num.hist(figsize=(16, 20), bins=50, xlabelsize=8, ylabelsize=8, color='tan')\n",
    "plt.show()\n"
   ]
  },
  {
   "cell_type": "markdown",
   "metadata": {},
   "source": [
    "From the above distributions  Actual_Distance_KM, Placement_to_Pickup_Time, and Distance_(KM) show similar distribution as the target variable distribution. "
   ]
  },
  {
   "cell_type": "markdown",
   "metadata": {},
   "source": [
    "### Geography And Coordinates"
   ]
  },
  {
   "cell_type": "code",
   "execution_count": null,
   "metadata": {},
   "outputs": [],
   "source": []
  },
  {
   "cell_type": "code",
   "execution_count": 546,
   "metadata": {},
   "outputs": [
    {
     "data": {
      "image/png": "[encoded data removed]",
      "text/plain": [
       "<Figure size 640x480 with 1 Axes>"
      ]
     },
     "metadata": {},
     "output_type": "display_data"
    },
    {
     "data": {
      "text/plain": [
       "<ggplot: (38129951)>"
      ]
     },
     "execution_count": 546,
     "metadata": {},
     "output_type": "execute_result"
    }
   ],
   "source": [
    "color = sns.color_palette()\n",
    "ggplot(aes(x='Pickup_Lat', y='Pickup_Long', color= 'Time_from_Pickup_to_Arrival'), data=Train_df) + \\\n",
    "    geom_point() + \\\n",
    "    scale_color_gradient(low = 'red', high = 'blue')+ggtitle('Pickup areas')"
   ]
  },
  {
   "cell_type": "code",
   "execution_count": 543,
   "metadata": {},
   "outputs": [
    {
     "data": {
      "image/png": "[encoded data removed]",
      "text/plain": [
       "<Figure size 640x480 with 1 Axes>"
      ]
     },
     "metadata": {},
     "output_type": "display_data"
    },
    {
     "data": {
      "text/plain": [
       "<ggplot: (38019129)>"
      ]
     },
     "execution_count": 543,
     "metadata": {},
     "output_type": "execute_result"
    }
   ],
   "source": [
    "ggplot(aes(x='Destination_Lat', y='Destination_Long', color= 'Time_from_Pickup_to_Arrival'), data=Train_df) + \\\n",
    "    geom_point() + \\\n",
    "    scale_color_gradient(low = 'blue', high = 'yellow')+ ggtitle('Destination areas')"
   ]
  },
  {
   "cell_type": "markdown",
   "metadata": {},
   "source": [
    "The distance of drop-offs are wider spread than pick up points, many destinations arrival time will be influenced by wider distances. It is also noticeable that lengthy times for deliveries occur in both the central and outlier destinations. Traffic congestion and distance are all influential in the pick to arrival time duration"
   ]
  },
  {
   "cell_type": "markdown",
   "metadata": {},
   "source": [
    "## Variables and Variable Selection"
   ]
  },
  {
   "cell_type": "markdown",
   "metadata": {},
   "source": [
    "### Summary Statistics"
   ]
  },
  {
   "cell_type": "markdown",
   "metadata": {},
   "source": [
    "In this section, the data types and the summary statistics of the variables are explored.\n",
    "Looking at the data types and number of entries of each column."
   ]
  },
  {
   "cell_type": "code",
   "execution_count": null,
   "metadata": {},
   "outputs": [],
   "source": [
    "Train_df.info()"
   ]
  },
  {
   "cell_type": "markdown",
   "metadata": {},
   "source": [
    "The Train_df.info() specifically outputs the number of non-null entries in each column. As such,It can be certain that the data has missing values if columns have a varying number of non-null entries.\n",
    "\n",
    "Below is the table showcasing the summary statistics of the data."
   ]
  },
  {
   "cell_type": "code",
   "execution_count": null,
   "metadata": {},
   "outputs": [],
   "source": [
    "Train_df.describe()"
   ]
  },
  {
   "cell_type": "markdown",
   "metadata": {},
   "source": [
    "Based on the means and standard deviations of different columns, The data will be standardized."
   ]
  },
  {
   "cell_type": "markdown",
   "metadata": {},
   "source": [
    "### Dummy Variable Encoding"
   ]
  },
  {
   "cell_type": "markdown",
   "metadata": {},
   "source": [
    "The User ID, Order_No and Rider Id features will be dropped because they do not influence the Time_from_Pickup_to_Arrival, but the Order No feature will not be dropped from Test_df as it is required for subbmision.\n",
    "\n",
    "As it can be observed in the above table, the summary statistics being displayed is for numerical data at the moment. More importantly, all input data for regression model building purposes needs to be numerical. Therefore the text data Busines_or_Personal will be transformed  into numbers before training the machine learning model.\n",
    "\n",
    "To facilitate this transformation from textual-categorical data to numerical equivalents, pandas method called get_dummie will be used. The text data is categorical variable, and get_dummies will transform all the categorical text data into numbers by adding a column for each distinct category. The new column has a 1 for observations which were in this category, and a 0 for observations that were not."
   ]
  },
  {
   "cell_type": "code",
   "execution_count": null,
   "metadata": {},
   "outputs": [],
   "source": [
    "#droping User_Id, Order_No and Rider Id  Features\n",
    "Train_df = Train_df.drop(['Order_No', 'User_Id', 'Rider_Id'], axis = 1)\n",
    "Test_df = Test_df.drop(['User_Id', 'Rider_Id'], axis = 1)"
   ]
  },
  {
   "cell_type": "code",
   "execution_count": null,
   "metadata": {},
   "outputs": [],
   "source": [
    "Train_df.info()"
   ]
  },
  {
   "cell_type": "code",
   "execution_count": null,
   "metadata": {},
   "outputs": [],
   "source": [
    "df_dummies = pd.get_dummies(Train_df)"
   ]
  },
  {
   "cell_type": "code",
   "execution_count": null,
   "metadata": {},
   "outputs": [],
   "source": [
    "df_dummies = pd.get_dummies(Train_df, drop_first=True)\n",
    "\n",
    "# Making sure that all the column names have correct format\n",
    "df_dummies.columns = [col.replace(\" \", \"_\") for col in df_dummies.columns]\n",
    "df_dummies.columns = [col.replace(\"(Mo_=_1)\",\"Mo_1\") for col in df_dummies.columns]\n",
    "df_dummies.columns = [col.replace(\"(KM)\",\"KM\") for col in df_dummies.columns]\n",
    "# Test_df\n",
    "Test_df.columns = [col.replace(\" \", \"_\") for col in Test_df.columns]\n",
    "Test_df.columns = [col.replace(\"(Mo_=_1)\",\"Mo_1\") for col in Test_df.columns]\n",
    "Test_df.columns = [col.replace(\"(KM)\",\"KM\") for col in Test_df.columns]\n",
    "\n",
    "# Reorder columns with the dependent variable (claim_amount) the last column\n",
    "column_titles = [col for col in df_dummies.columns if col !=\n",
    "                 'Time_from_Pickup_to_Arrival'] + ['Time_from_Pickup_to_Arrival']\n",
    "df_dummies = df_dummies.reindex(columns=column_titles)\n",
    "\n",
    "df_dummies.head()"
   ]
  },
  {
   "cell_type": "code",
   "execution_count": null,
   "metadata": {},
   "outputs": [],
   "source": [
    "df_dummies.shape"
   ]
  },
  {
   "cell_type": "markdown",
   "metadata": {},
   "source": [
    "### Correlations and Model Structure\n",
    "\n",
    "Using the dummy variable dataframe, a model that predictsTime from Pickup to Arrival (the dependent variable) as a function of 33 different independent variables (IVs) can be build.\n",
    "\n",
    "Before this can be done, however, its better to reorder columns so that the dependent variable is the last column of the dataframe. This will make a heatmap visualisation representing a correlation matrix of the data easier to interpret."
   ]
  },
  {
   "cell_type": "code",
   "execution_count": null,
   "metadata": {},
   "outputs": [],
   "source": [
    "column_titles = [col for col in df_dummies.columns if col!= 'Time_from_Pickup_to_Arrival'] + ['Time_from_Pickup_to_Arrival']\n",
    "df_dummies=df_dummies.reindex(columns=column_titles)"
   ]
  },
  {
   "cell_type": "code",
   "execution_count": null,
   "metadata": {},
   "outputs": [],
   "source": [
    "df_dummies.corr()"
   ]
  },
  {
   "cell_type": "code",
   "execution_count": null,
   "metadata": {},
   "outputs": [],
   "source": [
    "fig = plt.figure(figsize=(15,15));\n",
    "ax = fig.add_subplot(111);\n",
    "plot_corr(df_dummies.corr(), xnames = df_dummies.corr().columns, ax = ax);"
   ]
  },
  {
   "cell_type": "markdown",
   "metadata": {},
   "source": [
    "If all of these variables are to be used, it would be like effectively working with more than enough information. The model will also have collinearity issues:\n",
    "\n",
    "Peronal_or_Business_Personal and peronal_or_Business_Business are perfectly negative correlated. All the features having blue squeres are also perfectly negative correlated.\n",
    "This will likely be a problem when building a model.\n",
    "\n",
    " checking what an OLS model summary says."
   ]
  },
  {
   "cell_type": "markdown",
   "metadata": {},
   "source": [
    "## lasso"
   ]
  },
  {
   "cell_type": "code",
   "execution_count": null,
   "metadata": {},
   "outputs": [],
   "source": []
  },
  {
   "cell_type": "code",
   "execution_count": null,
   "metadata": {},
   "outputs": [],
   "source": []
  },
  {
   "cell_type": "code",
   "execution_count": null,
   "metadata": {},
   "outputs": [],
   "source": [
    "df= df_dummies.copy()"
   ]
  },
  {
   "cell_type": "code",
   "execution_count": null,
   "metadata": {},
   "outputs": [],
   "source": [
    "df.shape"
   ]
  },
  {
   "cell_type": "markdown",
   "metadata": {},
   "source": [
    "### Preprocessing¶\n",
    "\n",
    "Standardizing the data before it can be used in our LASSO model."
   ]
  },
  {
   "cell_type": "code",
   "execution_count": null,
   "metadata": {},
   "outputs": [],
   "source": [
    "# separaing the features from the response\n",
    "X = df.drop('Time_from_Pickup_to_Arrival', axis=1)\n",
    "y = df['Time_from_Pickup_to_Arrival']"
   ]
  },
  {
   "cell_type": "code",
   "execution_count": null,
   "metadata": {},
   "outputs": [],
   "source": [
    "from sklearn.preprocessing import StandardScaler"
   ]
  },
  {
   "cell_type": "code",
   "execution_count": null,
   "metadata": {},
   "outputs": [],
   "source": [
    "# create standardization object\n",
    "scaler = StandardScaler()"
   ]
  },
  {
   "cell_type": "code",
   "execution_count": null,
   "metadata": {},
   "outputs": [],
   "source": [
    "# save standardized features into new variable\n",
    "X_scaled = scaler.fit_transform(X)"
   ]
  },
  {
   "cell_type": "code",
   "execution_count": null,
   "metadata": {},
   "outputs": [],
   "source": [
    "# import train/test split module\n",
    "from sklearn.model_selection import train_test_split"
   ]
  },
  {
   "cell_type": "code",
   "execution_count": null,
   "metadata": {},
   "outputs": [],
   "source": [
    "# spliting dataset into train and test sets\n",
    "X_train, X_test, y_train, y_test = train_test_split(X_scaled,\n",
    "                                                    y,\n",
    "                                                    test_size=0.20,\n",
    "                                                    random_state=1,\n",
    "                                                    shuffle=False)\n"
   ]
  },
  {
   "cell_type": "code",
   "execution_count": null,
   "metadata": {},
   "outputs": [],
   "source": [
    "# importing LASSO module\n",
    "from sklearn.linear_model import Lasso"
   ]
  },
  {
   "cell_type": "code",
   "execution_count": null,
   "metadata": {},
   "outputs": [],
   "source": [
    "# create LASSO model object, setting alpha to 0.01\n",
    "lasso = Lasso(alpha=0.01)"
   ]
  },
  {
   "cell_type": "code",
   "execution_count": null,
   "metadata": {
    "scrolled": true
   },
   "outputs": [],
   "source": [
    "# train the LASSO model\n",
    "lasso.fit(X_train, y_train)"
   ]
  },
  {
   "cell_type": "code",
   "execution_count": null,
   "metadata": {},
   "outputs": [],
   "source": [
    "# extract intercept from model\n",
    "intercept = float(lasso.intercept_)"
   ]
  },
  {
   "cell_type": "code",
   "execution_count": null,
   "metadata": {},
   "outputs": [],
   "source": [
    "# extracting coefficient from model\n",
    "coeff = pd.DataFrame(lasso.coef_, X.columns, columns=['Coefficient'])"
   ]
  },
  {
   "cell_type": "code",
   "execution_count": null,
   "metadata": {},
   "outputs": [],
   "source": [
    "# extracting intercept\n",
    "print(\"Intercept:\", float(intercept))"
   ]
  },
  {
   "cell_type": "code",
   "execution_count": null,
   "metadata": {},
   "outputs": [],
   "source": [
    "coeff   "
   ]
  },
  {
   "cell_type": "markdown",
   "metadata": {},
   "source": [
    "### Assessment of predictive accuracy\n",
    "\n",
    "Again, we'll make use of the sklearn.metrics library to assess the accuracy of our model. We'll fit the following models as well, in order to compare the LASSO results thoroughly:\n",
    "\n",
    "- A least squares model using all available predictors;\n",
    "- A least squares model using the predictors with non-zero coefficients from LASSO;\n",
    "- A ridge regression model using all available predictors."
   ]
  },
  {
   "cell_type": "code",
   "execution_count": null,
   "metadata": {},
   "outputs": [],
   "source": [
    "# fitting a basic linear model\n",
    "from sklearn.linear_model import LinearRegression, Ridge\n",
    "\n",
    "X_subset = df.drop(['Pickup_Day_of_Month', \n",
    "                    'Confirmation_Day_of_Month', \n",
    "                    'Arrival_at_Pickup_Day_of_Month'], axis=1)\n",
    "\n",
    "X_subset_scaled = scaler.fit_transform(X_subset)\n",
    "\n",
    "X_train2, X_test2, y_train2, y_test2 = train_test_split(X_subset,\n",
    "                                                        y,\n",
    "                                                        test_size=0.20,\n",
    "                                                        random_state=1,\n",
    "                                                        shuffle=False)\n",
    "\n",
    "# least squares using non-zero variables from LASSO\n",
    "lm_subset = LinearRegression()\n",
    "\n",
    "# least squares using all predictors\n",
    "lm_all = LinearRegression()\n",
    "\n",
    "# ridge using all predictors\n",
    "ridge = Ridge()\n",
    "\n",
    "lm_subset.fit(X_train2, y_train2)\n",
    "lm_all.fit(X_train, y_train)\n",
    "ridge.fit(X_train, y_train)"
   ]
  },
  {
   "cell_type": "code",
   "execution_count": null,
   "metadata": {},
   "outputs": [],
   "source": [
    "from sklearn import metrics"
   ]
  },
  {
   "cell_type": "code",
   "execution_count": null,
   "metadata": {},
   "outputs": [],
   "source": [
    "# making training set predictions for each model\n",
    "train_lm_subset = lm_subset.predict(X_train2)\n",
    "train_lm_all = lm_all.predict(X_train)\n",
    "train_ridge = ridge.predict(X_train)\n",
    "train_lasso = lasso.predict(X_train)"
   ]
  },
  {
   "cell_type": "code",
   "execution_count": null,
   "metadata": {},
   "outputs": [],
   "source": [
    "# making test set predictions for each model\n",
    "test_lm_subset = lm_subset.predict(X_test2)\n",
    "test_lm_all = lm_all.predict(X_test)\n",
    "test_ridge = ridge.predict(X_test)\n",
    "test_lasso = lasso.predict(X_test)"
   ]
  },
  {
   "cell_type": "code",
   "execution_count": null,
   "metadata": {},
   "outputs": [],
   "source": [
    "# dictionary of results\n",
    "results_dict = {'Training MSE':\n",
    "                    {\n",
    "                        \"Least Squares, Subset\": metrics.mean_squared_error(y_train2, train_lm_subset),\n",
    "                        \"Least Squares, All\": metrics.mean_squared_error(y_train, train_lm_all),\n",
    "                        \"Ridge\": metrics.mean_squared_error(y_train, train_ridge),\n",
    "                        \"LASSO\": metrics.mean_squared_error(y_train, train_lasso)\n",
    "                    },\n",
    "                    'Test MSE':\n",
    "                    {\n",
    "                        \"Least Squares, Subset\": metrics.mean_squared_error(y_test2, test_lm_subset),\n",
    "                        \"Least Squares, All\": metrics.mean_squared_error(y_test, test_lm_all),\n",
    "                        \"Ridge\": metrics.mean_squared_error(y_test, test_ridge),\n",
    "                        \"LASSO\": metrics.mean_squared_error(y_test, test_lasso)\n",
    "                    }\n",
    "                }"
   ]
  },
  {
   "cell_type": "code",
   "execution_count": null,
   "metadata": {},
   "outputs": [],
   "source": [
    "# create dataframe from dictionary\n",
    "results_df = pd.DataFrame(data=results_dict)"
   ]
  },
  {
   "cell_type": "code",
   "execution_count": null,
   "metadata": {},
   "outputs": [],
   "source": [
    "# view the results\n",
    "results_df"
   ]
  },
  {
   "cell_type": "code",
   "execution_count": null,
   "metadata": {},
   "outputs": [],
   "source": [
    "# we want to plot the train and test response variables as a continuous line\n",
    "train_plot = y_train.append(pd.Series(y_test[0], index=['2016M01']))"
   ]
  },
  {
   "cell_type": "code",
   "execution_count": null,
   "metadata": {},
   "outputs": [],
   "source": [
    "plt.plot(np.arange(96,120), lasso.predict(X_test), label='LASSO')\n",
    "plt.plot(np.arange(96,120), ridge.predict(X_test), label='Ridge')\n",
    "plt.plot(np.arange(96,120), lm_all.predict(X_test), label='Least Squares')\n",
    "plt.plot(np.arange(96,120), y_test, label='Testing')\n",
    "plt.legend()\n",
    "\n",
    "plt.show()"
   ]
  },
  {
   "cell_type": "code",
   "execution_count": null,
   "metadata": {},
   "outputs": [],
   "source": []
  },
  {
   "cell_type": "code",
   "execution_count": null,
   "metadata": {},
   "outputs": [],
   "source": []
  },
  {
   "cell_type": "code",
   "execution_count": null,
   "metadata": {},
   "outputs": [],
   "source": []
  },
  {
   "cell_type": "markdown",
   "metadata": {},
   "source": [
    "## Fitting the model using statsmodels.OLS\n",
    "\n",
    "#### Generating the regression string\n",
    "Following the process initially detailed in the Multiple Linear Regression Pt 2 - Checking Model Quality train, OLS model will be build and the model summary will be printed:\n",
    "\n",
    "y ~ X\n",
    "\n",
    "which is read as follows: \"Regress y on X\". statsmodels works in a similar way, so an appropriate string need to be generated to feed to the method in case it is required to fit the model."
   ]
  },
  {
   "cell_type": "code",
   "execution_count": null,
   "metadata": {},
   "outputs": [],
   "source": [
    "# Model DataFrame with all of the columns:\n",
    "dfm = df_dummies.copy()\n",
    "\n",
    "# The dependent variable:\n",
    "y_name = 'Time_from_Pickup_to_Arrival'\n",
    "# The independent variable\n",
    "# (let's first try all of the columns in the model DataFrame)\n",
    "X_names = [col for col in dfm.columns if col != y_name]\n",
    "\n",
    "# Build the OLS formula string \" y ~ X \"\n",
    "formula_str = y_name+\" ~ \"+\" + \".join(X_names);\n",
    "print('Formula:\\n\\t {}'.format(formula_str))"
   ]
  },
  {
   "cell_type": "code",
   "execution_count": null,
   "metadata": {},
   "outputs": [],
   "source": [
    "# Fitting the model using the model dataframe\n",
    "model=ols(formula=formula_str, data=dfm)\n",
    "fitted = model.fit()\n",
    "\n",
    "# Output the fitted summary\n",
    "print(fitted.summary())"
   ]
  },
  {
   "cell_type": "markdown",
   "metadata": {},
   "source": [
    "There is warning about strong multicollinearity. This is likely as a result of the incorrect filtering of one hot encoded dummy variables (It was noticed earlier that Peronal_or_Business_Personal and peronal_or_Business_Business are perfectly negative correlated).\n",
    "\n",
    "In order to ensure an underlying relationship between the categories is not assumed, pd.get_dummies is called with the argument drop_first=True so that only  n-1 columns are create for each variable with n categories."
   ]
  },
  {
   "cell_type": "code",
   "execution_count": null,
   "metadata": {},
   "outputs": [],
   "source": [
    "df_dummies = pd.get_dummies(Train_df, drop_first=True)\n",
    "\n",
    "# Again make sure that all the column names have underscores instead of whitespaces\n",
    "df_dummies.columns = [col.replace(\" \", \"_\") for col in df_dummies.columns]\n",
    "df_dummies.columns = [col.replace(\"(Mo_=_1)\",\"Mo_1\") for col in df_dummies.columns]\n",
    "df_dummies.columns = [col.replace(\"(KM)\",\"KM\") for col in df_dummies.columns]\n",
    "\n",
    "# Reorder columns with the dependent variable (claim_amount) the last column\n",
    "column_titles = [col for col in df_dummies.columns if col !=\n",
    "                 'Time_from_Pickup_to_Arrival'] + ['Time_from_Pickup_to_Arrival']\n",
    "df_dummies = df_dummies.reindex(columns=column_titles)\n",
    "\n",
    "df_dummies.head()"
   ]
  },
  {
   "cell_type": "code",
   "execution_count": null,
   "metadata": {},
   "outputs": [],
   "source": [
    "df_dummies.shape"
   ]
  },
  {
   "cell_type": "markdown",
   "metadata": {},
   "source": [
    "Now there are 28 columns instead of 39. This gives for 28 potential independent variables that could be used to build a relationship on Time_from_Pickup_to_Arrival"
   ]
  },
  {
   "cell_type": "markdown",
   "metadata": {},
   "source": [
    "Checking what the OLS model summary would say if now only the 30 variable columns are fit"
   ]
  },
  {
   "cell_type": "code",
   "execution_count": null,
   "metadata": {},
   "outputs": [],
   "source": [
    "# The model DataFrame will be kept, but only specify the columns wanted to fit this time\n",
    "X_names = [col for col in df_dummies.columns if col != y_name]\n",
    "\n",
    "# Build the OLS formula string \" y ~ X \"\n",
    "formula_str = y_name+' ~ '+'+'.join(X_names)\n",
    "\n",
    "# Fit the model using the model dataframe\n",
    "model = ols(formula=formula_str, data=dfm)\n",
    "fitted = model.fit()\n",
    "\n",
    "# Output the fitted summary\n",
    "print(fitted.summary())"
   ]
  },
  {
   "cell_type": "markdown",
   "metadata": {},
   "source": [
    "The condition number has improved, but there is still mention of strong multicollinearity in warning [2]\n",
    "\n",
    "Making further selections on the variables now using their significance.\n",
    "\n"
   ]
  },
  {
   "cell_type": "markdown",
   "metadata": {},
   "source": [
    "## Variable Selection by Correlation and Significance"
   ]
  },
  {
   "cell_type": "markdown",
   "metadata": {},
   "source": [
    "now there are 30 predictor variables to choose from, a way of guiding is needed to choose the best ones to be predictors. One way is to look at the correlations between the Time_from_Pickup_to_Arrival and each variables in the DataFrame and select those with the strongest correlations (both positive and negative).\n",
    "\n",
    "To consider how significant those features are.\n",
    "The code below will create a new DataFrame and store the correlation coefficents and p-values in that DataFrame for reference."
   ]
  },
  {
   "cell_type": "code",
   "execution_count": null,
   "metadata": {},
   "outputs": [],
   "source": [
    "# Calculating correlations between predictor variables and the response variable\n",
    "corrs = df_dummies.corr()['Time_from_Pickup_to_Arrival'].sort_values(ascending=False)"
   ]
  },
  {
   "cell_type": "code",
   "execution_count": null,
   "metadata": {},
   "outputs": [],
   "source": [
    "\n",
    "# a dictionary of correlation coefficients and p-values\n",
    "dict_cp = {}\n",
    "\n",
    "column_titles = [col for col in corrs.index if col!= 'Time_from_Pickup_to_Arrival']\n",
    "for col in column_titles:\n",
    "    p_val = round(pearsonr(df_dummies[col], df_dummies['Time_from_Pickup_to_Arrival'])[1],6)\n",
    "    dict_cp[col] = {'Correlation_Coefficient':corrs[col],\n",
    "                    'P_Value':p_val}\n",
    "\n",
    "df_cp = pd.DataFrame(dict_cp).T\n",
    "df_cp_sorted = df_cp.sort_values('P_Value')\n",
    "df_cp_sorted[df_cp_sorted['P_Value']<0.1]"
   ]
  },
  {
   "cell_type": "markdown",
   "metadata": {},
   "source": [
    "Above is the sorted list of the p-values and correlation coefficients for each of the features, when considered on their own.\n",
    "\n",
    "If a logic test was to be used with a significance value of 5% (p-value < 0.05),it would imply that all but the last two features from above statistically significant"
   ]
  },
  {
   "cell_type": "markdown",
   "metadata": {},
   "source": [
    "the variables that have a significant correlation with the dependent variable are kept.they will be put into an independent variable DataFrame X"
   ]
  },
  {
   "cell_type": "code",
   "execution_count": null,
   "metadata": {},
   "outputs": [],
   "source": [
    "# The dependent variable remains the same:\n",
    "y_data = df_dummies[y_name]  # y_name = 'Time_from_Pickup_to_Arrival'\n",
    "\n",
    "# Model building - Independent Variable (IV) DataFrame\n",
    "X_names = list(df_cp[df_cp['P_Value'] < 0.05].index)\n",
    "X_data = df_dummies[X_names]"
   ]
  },
  {
   "cell_type": "markdown",
   "metadata": {},
   "source": [
    "To avoid autocorrelation,it is needed to look for predictor variable pairs which have a high correlation with each other."
   ]
  },
  {
   "cell_type": "code",
   "execution_count": null,
   "metadata": {},
   "outputs": [],
   "source": [
    "# Creating the correlation matrix\n",
    "corr = X_data.corr()\n",
    "\n",
    "# Find rows and columnd where correlation coefficients > 0.9 or <-0.9\n",
    "corr[np.abs(corr) > 0.9]"
   ]
  },
  {
   "cell_type": "markdown",
   "metadata": {},
   "source": [
    "Instead of looking at the whole correlation matrix, it might be easier to isolate the sections of the correlation matrix to where the off-diagonal correlations are high:"
   ]
  },
  {
   "cell_type": "code",
   "execution_count": null,
   "metadata": {},
   "outputs": [],
   "source": [
    "# just like before, the correlation matrix is created\n",
    "# rows and columnd where correlation coefficients > 0.9 or <-0.9\n",
    "corr = X_data.corr()\n",
    "r, c = np.where(np.abs(corr) > 0.9)\n",
    "\n",
    "# The interest is in the off diagonal entries:\n",
    "off_diagonal = np.where(r != c)\n",
    "\n",
    "# Showing the correlation matrix rows and columns where there is  highly correlated off diagonal entries:\n",
    "corr.iloc[r[off_diagonal], c[off_diagonal]]"
   ]
  },
  {
   "cell_type": "markdown",
   "metadata": {},
   "source": [
    "Okay, so it looks like six of the features are very highly correlated.\n",
    "\n",
    "This is also visible looking back at the correlation coefficient heatmap and matrix from earlier, but a more focused / subset view of the matrix is useful to isolate the coefficients of interest.\n",
    "\n",
    "Distance is slightly better correlated (and lower p-value) to the dependent variable\n",
    "there fore; Arrival_at_Pickip_day_of_Month, Pickup_Day_of_Month, Confirmation_Day_of_Month and Placement_Day_of_Month are dropped form the feature dataframe. \n",
    "The resulting OLS fit summary:"
   ]
  },
  {
   "cell_type": "code",
   "execution_count": null,
   "metadata": {},
   "outputs": [],
   "source": [
    "# a new subset of potential independent variables\n",
    "X_remove = ['Pickup_Day_of_Month']\n",
    "X_corr_names = [col for col in X_names if col not in X_remove]\n",
    "\n",
    "# Creating new OLS formula based-upon the smaller subset\n",
    "formula_str = y_name+' ~ '+' + '.join(X_corr_names);\n",
    "print('Formula:\\n\\t{}'.format(formula_str))"
   ]
  },
  {
   "cell_type": "code",
   "execution_count": null,
   "metadata": {},
   "outputs": [],
   "source": [
    "# Fit the OLS model using the model dataframe\n",
    "model=ols(formula=formula_str, data=dfm)\n",
    "fitted = model.fit()\n",
    "\n",
    "# Display the fitted summary\n",
    "print(fitted.summary())"
   ]
  },
  {
   "cell_type": "markdown",
   "metadata": {},
   "source": [
    "### Variable Selection by Variance Thresholds\n",
    "\n",
    "Variance Thresholds remove features whose values don't change much from observation to observation. The objective here is to remove all features that have a variance lower than the selected threshold.\n",
    "\n",
    "It is important to note that variance is dependent on scale, so the features will have to be normalized before implementing variance thresholding."
   ]
  },
  {
   "cell_type": "code",
   "execution_count": null,
   "metadata": {},
   "outputs": [],
   "source": [
    "# Separating data into independent (X) and independent (y) variables\n",
    "X_names = list(df_dummies.columns)\n",
    "X_names.remove(y_name)\n",
    "X_data = df_dummies[X_names]\n",
    "y_data = df_dummies[y_name]"
   ]
  },
  {
   "cell_type": "code",
   "execution_count": null,
   "metadata": {},
   "outputs": [],
   "source": [
    "# Normalizing data\n",
    "scaler = MinMaxScaler()\n",
    "X_scaled = scaler.fit_transform(X_data)\n",
    "X_normalize = pd.DataFrame(X_scaled, columns=X_data.columns)"
   ]
  },
  {
   "cell_type": "markdown",
   "metadata": {},
   "source": [
    "### Variance Threshold in Scikit Learn"
   ]
  },
  {
   "cell_type": "markdown",
   "metadata": {},
   "source": [
    "To implement Variance Threshold in Scikit Learn:\n",
    "\n",
    "Import and create an instance of the VarianceThreshold class;\n",
    "Using the .fit() method to select subset of features based on the threshold."
   ]
  },
  {
   "cell_type": "code",
   "execution_count": null,
   "metadata": {},
   "outputs": [],
   "source": [
    "# Create VarianceThreshold object\n",
    "selector = VarianceThreshold(threshold=0.03)\n",
    "\n",
    "# Using the object to apply the threshold on data\n",
    "selector.fit(X_normalize)"
   ]
  },
  {
   "cell_type": "markdown",
   "metadata": {},
   "source": [
    "The Variance Threshold has been applied to the data.Now a closer look at the calculated variance for each predictive variable."
   ]
  },
  {
   "cell_type": "code",
   "execution_count": null,
   "metadata": {},
   "outputs": [],
   "source": [
    "# Getting column variances\n",
    "column_variances = selector.variances_\n",
    "\n",
    "vars_dict = {}\n",
    "vars_dict = [{\"Variable_Name\": c_name, \"Variance\": c_var}\n",
    "             for c_name, c_var in zip(X_normalize.columns, column_variances)]\n",
    "df_vars = pd.DataFrame(vars_dict)\n",
    "df_vars.sort_values(by='Variance', ascending=False)"
   ]
  },
  {
   "cell_type": "markdown",
   "metadata": {},
   "source": [
    "The above table shows the variances of the individual columns before any threshold is applied. It allows anyone to revise  initial variance threshold if there might be a need to exclude important variables.\n",
    "\n",
    "The results needs to be extracted and used to select new columns - which form a subset of all the columns."
   ]
  },
  {
   "cell_type": "code",
   "execution_count": null,
   "metadata": {},
   "outputs": [],
   "source": [
    "# Selecting new columns\n",
    "X_new = X_normalize[X_normalize.columns[selector.get_support(indices=True)]]\n",
    "\n",
    "# Saving variable names for later\n",
    "X_var_names = X_new.columns\n",
    "\n",
    "# Viewing first few entries\n",
    "X_new.head()"
   ]
  },
  {
   "cell_type": "code",
   "execution_count": null,
   "metadata": {},
   "outputs": [],
   "source": [
    "X_new.shape"
   ]
  },
  {
   "cell_type": "markdown",
   "metadata": {},
   "source": [
    "With a threshold of 0.03, the predictor number has gone down to 12 predictors.\n",
    "\n",
    "Trying few more few more thresholds"
   ]
  },
  {
   "cell_type": "code",
   "execution_count": null,
   "metadata": {},
   "outputs": [],
   "source": [
    "# Creating Variance Threshold objects\n",
    "selector_1 = VarianceThreshold(threshold=0.05)\n",
    "selector_2 = VarianceThreshold(threshold=0.1)\n",
    "selector_3 = VarianceThreshold(threshold=0.15)"
   ]
  },
  {
   "cell_type": "code",
   "execution_count": null,
   "metadata": {},
   "outputs": [],
   "source": [
    "selector_1.fit(X_normalize)"
   ]
  },
  {
   "cell_type": "code",
   "execution_count": null,
   "metadata": {},
   "outputs": [],
   "source": [
    "selector_2.fit(X_normalize)"
   ]
  },
  {
   "cell_type": "markdown",
   "metadata": {},
   "source": [
    "for selector_3.fit(X_normalize), there is no feature in X meets the variance threshold 0.15000"
   ]
  },
  {
   "cell_type": "code",
   "execution_count": null,
   "metadata": {},
   "outputs": [],
   "source": [
    "selector_3.fit(X_normalize)"
   ]
  },
  {
   "cell_type": "code",
   "execution_count": null,
   "metadata": {},
   "outputs": [],
   "source": [
    "X_1 = X_normalize[X_normalize.columns[selector_1.get_support(indices=True)]]\n",
    "X_2 = X_normalize[X_normalize.columns[selector_2.get_support(indices=True)]]\n",
    "X_3 = X_normalize[X_normalize.columns[selector_3.get_support(indices=True)]]"
   ]
  },
  {
   "cell_type": "markdown",
   "metadata": {},
   "source": [
    " graphing the number of predictors by the thresholds to investigate the relationship"
   ]
  },
  {
   "cell_type": "code",
   "execution_count": null,
   "metadata": {},
   "outputs": [],
   "source": [
    "f, ax = plt.subplots(figsize=(8, 3), nrows=1, ncols=1)\n",
    "\n",
    "# Create list of titles and predictions to use in for loop\n",
    "subset_preds = [X_1.shape[1], X_2.shape[1], X_3.shape[1]]\n",
    "thresholds = ['0.05', '0.1', '0.15']\n",
    "\n",
    "# Plot graph\n",
    "ax.set_title('# of Predictors vs Thresholds')\n",
    "ax.set_ylabel('# of Predictors')\n",
    "ax.set_xlabel('Threshold')\n",
    "sns.barplot(x=thresholds, y=subset_preds)\n",
    "plt.show()"
   ]
  },
  {
   "cell_type": "markdown",
   "metadata": {},
   "source": [
    "an increase the threshold, the number of dimensions decrease"
   ]
  },
  {
   "cell_type": "markdown",
   "metadata": {},
   "source": [
    "checking what the resulting OLS fit summary for a threshold of 0.03 says:"
   ]
  },
  {
   "cell_type": "code",
   "execution_count": null,
   "metadata": {},
   "outputs": [],
   "source": [
    "# new OLS formula\n",
    "formula_str = y_name+' ~ '+' + '.join(X_new.columns)\n",
    "print('Formula:\\n\\t{}'.format(formula_str))"
   ]
  },
  {
   "cell_type": "code",
   "execution_count": null,
   "metadata": {},
   "outputs": [],
   "source": [
    "# Fitting the model using the model dataframe\n",
    "model = ols(formula=formula_str, data=df_dummies)\n",
    "fitted = model.fit()\n",
    "\n",
    "print(fitted.summary())"
   ]
  },
  {
   "cell_type": "markdown",
   "metadata": {},
   "source": [
    "### modelling the y variable¶\n",
    "Now that the DataFrame has been shortened using various methods, Its time to see if  linear regression models can be fit and compare them"
   ]
  },
  {
   "cell_type": "code",
   "execution_count": null,
   "metadata": {},
   "outputs": [],
   "source": []
  },
  {
   "cell_type": "code",
   "execution_count": null,
   "metadata": {},
   "outputs": [],
   "source": [
    "from sklearn.linear_model import LinearRegression\n",
    "from sklearn.model_selection import train_test_split"
   ]
  },
  {
   "cell_type": "markdown",
   "metadata": {},
   "source": [
    "### Preprocess data\n",
    "Assuring that all models are trained and tested on the same data."
   ]
  },
  {
   "cell_type": "code",
   "execution_count": null,
   "metadata": {},
   "outputs": [],
   "source": []
  },
  {
   "cell_type": "code",
   "execution_count": null,
   "metadata": {},
   "outputs": [],
   "source": [
    "# Train-test split\n",
    "X_train, X_test, y_train, y_test = train_test_split(X_data,\n",
    "                                                    y_data,\n",
    "                                                    test_size=0.20,\n",
    "                                                    shuffle=False)"
   ]
  },
  {
   "cell_type": "code",
   "execution_count": null,
   "metadata": {},
   "outputs": [],
   "source": [
    "# Get training and testing data for variance threshold model\n",
    "X_var_train = X_train[X_var_names]\n",
    "X_var_test = X_test[X_var_names]"
   ]
  },
  {
   "cell_type": "code",
   "execution_count": null,
   "metadata": {},
   "outputs": [],
   "source": [
    "# Get training and testing data for correlation threshold model\n",
    "X_corr_train = X_train[X_corr_names]\n",
    "X_corr_test = X_test[X_corr_names]"
   ]
  },
  {
   "cell_type": "markdown",
   "metadata": {},
   "source": [
    "Fitting models\n",
    "instantiate and fit the models"
   ]
  },
  {
   "cell_type": "code",
   "execution_count": null,
   "metadata": {},
   "outputs": [],
   "source": [
    "lm = LinearRegression()\n",
    "lm_corr = LinearRegression()\n",
    "lm_var = LinearRegression()"
   ]
  },
  {
   "cell_type": "markdown",
   "metadata": {},
   "source": [
    "Assessing model accuracy\n",
    "checking how the linear models performed!"
   ]
  },
  {
   "cell_type": "code",
   "execution_count": null,
   "metadata": {},
   "outputs": [],
   "source": [
    "# Creating figure and axes\n",
    "f, ax = plt.subplots(figsize=(15, 5), nrows=1, ncols=3, sharey=True)\n",
    "\n",
    "# Creating list of titles and predictions to use in for loop\n",
    "train_pred = [lm.predict(X_train),\n",
    "              lm_corr.predict(X_corr_train),\n",
    "              lm_var.predict(X_var_train)]\n",
    "test_pred = [lm.predict(X_test),\n",
    "             lm_corr.predict(X_corr_test),\n",
    "             lm_var.predict(X_var_test)]\n",
    "title = ['No threshold', 'Corr threshold', 'Var threshold']\n",
    "\n",
    "# Key:\n",
    "# No threshold - linear regression with all predictive variables\n",
    "# Corr threshold - linear regression with correlation thresholded predictive variables\n",
    "# Var threshold - linear regression with variance thresholded predictive variables\n",
    "\n",
    "\n",
    "# Loop through all axes to plot each model's results\n",
    "for i in range(3):\n",
    "    test_mse = round(mean_squared_error(test_pred[i], y_test), 4)\n",
    "    test_r2 = round(r2_score(test_pred[i], y_test), 4)\n",
    "    train_mse = round(mean_squared_error(train_pred[i], y_train), 4)\n",
    "    train_r2 = round(r2_score(train_pred[i], y_train), 4)\n",
    "    title_str = f\"Linear Regression({title[i]}) \\n train MSE = {train_mse} \\n \" + \\\n",
    "                f\"test MSE = {test_mse} \\n training $R^{2}$ = {train_r2} \\n \" + \\\n",
    "                f\"test $R^{2}$ = {test_r2}\"\n",
    "    ax[i].set_title(title_str)\n",
    "    ax[i].set_xlabel('Actual')\n",
    "    ax[i].set_ylabel('Predicted')\n",
    "    ax[i].plot(y_test, y_test, 'r')\n",
    "    ax[i].scatter(y_test, test_pred[i])"
   ]
  },
  {
   "cell_type": "markdown",
   "metadata": {},
   "source": [
    "comment........."
   ]
  },
  {
   "cell_type": "markdown",
   "metadata": {},
   "source": [
    "## Building Machine Learning Models"
   ]
  },
  {
   "cell_type": "markdown",
   "metadata": {},
   "source": [
    "Time_from_Pickup_to_Arrival ~ Distance_KM + Actual_Distance_KM + Confirmation_to_Arrival_at_Pickup_Time + Placement_to_Arrival_at_Pickup_Time + Destination_Long + Placement_to_Pickup_Time + Pickup_Long + Arrival_at_Pickup_to_Pickup_Time + Confirmation_to_Pickup_Time + Placement_to_Confiration_Time + Arrival_at_Pickup_Time + Arrival_at_Pickup_Day_of_Month + Confirmation_Day_of_Month + Placement_Day_of_Month + No_Of_Orders + Average_Rating + Pickup_Lat + Destination_Lat"
   ]
  },
  {
   "cell_type": "code",
   "execution_count": null,
   "metadata": {},
   "outputs": [],
   "source": []
  },
  {
   "cell_type": "code",
   "execution_count": null,
   "metadata": {},
   "outputs": [],
   "source": [
    "Train_df.columns = [col.replace(\" \", \"_\") for col in Train_df.columns]\n",
    "Train_df.columns = [col.replace(\"(Mo_=_1)\",\"Mo_1\") for col in Train_df.columns]\n",
    "Train_df.columns = [col.replace(\"(KM)\",\"KM\") for col in Train_df.columns]\n",
    "# Test_df\n",
    "Test_df.columns = [col.replace(\" \", \"_\") for col in Test_df.columns]\n",
    "Test_df.columns = [col.replace(\"(Mo_=_1)\",\"Mo_1\") for col in Test_df.columns]\n",
    "Test_df.columns = [col.replace(\"(KM)\",\"KM\") for col in Test_df.columns]"
   ]
  },
  {
   "cell_type": "code",
   "execution_count": null,
   "metadata": {},
   "outputs": [],
   "source": [
    "train_df = Train_df.drop(['Personal_or_Business', 'No_of_Ratings',\n",
    "                          'Age','Temperature',\n",
    "                          'Platform_Type', \"Placement_Weekday_Mo_1\", \n",
    "                          'Placement_Time','Precipitation_in_millimeters', \n",
    "                         'Confirmation_Weekday_Mo_1',\n",
    "                         'Confirmation_Time', \n",
    "                         \"Arrival_at_Pickup_Weekday_Mo_1\",\n",
    "                         'Arrival_at_Pickup_Time',\n",
    "                         'Pickup_Weekday_Mo_1', 'Pickup_Time'], axis =1)\n",
    "\n",
    "test_df = Test_df.drop(['Personal_or_Business', 'No_of_Ratings',\n",
    "                        'Age','Temperature',\n",
    "                         'Platform_Type', \"Placement_Weekday_Mo_1\", \n",
    "                          'Placement_Time','Precipitation_in_millimeters', \n",
    "                         \"Confirmation_Weekday_Mo_1\",\n",
    "                         'Confirmation_Time', \n",
    "                         \"Arrival_at_Pickup_Weekday_Mo_1\",\n",
    "                         'Arrival_at_Pickup_Time',\n",
    "                         \"Pickup_Weekday_Mo_1\", 'Pickup_Time'],axis = 1)"
   ]
  },
  {
   "cell_type": "code",
   "execution_count": null,
   "metadata": {},
   "outputs": [],
   "source": [
    "train_df"
   ]
  },
  {
   "cell_type": "code",
   "execution_count": null,
   "metadata": {},
   "outputs": [],
   "source": [
    "X_train = train_df.drop(\"Time_from_Pickup_to_Arrival\", axis=1)\n",
    "Y_train = train_df[\"Time_from_Pickup_to_Arrival\"]\n",
    "X_test  = test_df.drop(\"Order_No\", axis=1).copy()"
   ]
  },
  {
   "cell_type": "code",
   "execution_count": null,
   "metadata": {},
   "outputs": [],
   "source": [
    "Y_train = Y_train.flatten()"
   ]
  },
  {
   "cell_type": "code",
   "execution_count": null,
   "metadata": {},
   "outputs": [],
   "source": [
    "Y_train.values.flatten()"
   ]
  },
  {
   "cell_type": "code",
   "execution_count": null,
   "metadata": {},
   "outputs": [],
   "source": [
    "Y_train.shape"
   ]
  },
  {
   "cell_type": "code",
   "execution_count": null,
   "metadata": {},
   "outputs": [],
   "source": []
  },
  {
   "cell_type": "code",
   "execution_count": null,
   "metadata": {
    "scrolled": true
   },
   "outputs": [],
   "source": [
    "#scaling\n",
    "from sklearn.preprocessing import StandardScaler\n",
    "sc = StandardScaler()\n",
    "X_train = sc.fit_transform(X_train)\n",
    "Y_train = sc.fit_transform(X_train)\n",
    "X_test = sc.transform(X_test)"
   ]
  },
  {
   "cell_type": "code",
   "execution_count": null,
   "metadata": {},
   "outputs": [],
   "source": [
    "# Algorithms\n",
    "from sklearn import linear_model\n",
    "from sklearn.linear_model import LogisticRegression\n",
    "from sklearn.ensemble import RandomForestClassifier\n",
    "from sklearn.linear_model import Perceptron\n",
    "from sklearn.linear_model import SGDClassifier\n",
    "from sklearn.tree import DecisionTreeClassifier\n",
    "from sklearn.neighbors import KNeighborsClassifier\n",
    "from sklearn.svm import SVC, LinearSVC\n",
    "from sklearn.naive_bayes import GaussianNB"
   ]
  },
  {
   "cell_type": "markdown",
   "metadata": {},
   "source": [
    "### Stochastic Gradient Descent (SGD):"
   ]
  },
  {
   "cell_type": "code",
   "execution_count": null,
   "metadata": {},
   "outputs": [],
   "source": [
    "sgd = linear_model.SGDClassifier(max_iter=5, tol=None)\n",
    "sgd.fit(X_train, Y_train)\n",
    "Y_pred = sgd.predict(X_test)\n",
    "\n",
    "sgd.score(X_train, Y_train)\n",
    "\n",
    "acc_sgd = round(sgd.score(X_train, Y_train) * 100, 2)"
   ]
  },
  {
   "cell_type": "markdown",
   "metadata": {},
   "source": [
    "## Random Forest:"
   ]
  },
  {
   "cell_type": "code",
   "execution_count": null,
   "metadata": {},
   "outputs": [],
   "source": [
    "random_forest = RandomForestClassifier(n_estimators=100)\n",
    "random_forest.fit(X_train, Y_train)\n",
    "\n",
    "Y_prediction = random_forest.predict(X_test)\n",
    "\n",
    "random_forest.score(X_train, Y_train)\n",
    "acc_random_forest = round(random_forest.score(X_train, Y_train) * 100, 2)"
   ]
  },
  {
   "cell_type": "markdown",
   "metadata": {},
   "source": [
    "## Linear Support Vector Machine:"
   ]
  },
  {
   "cell_type": "code",
   "execution_count": null,
   "metadata": {},
   "outputs": [],
   "source": [
    "linear_svc = LinearSVC()\n",
    "linear_svc.fit(X_train, Y_train)\n",
    "Y_pred = linear_svc.predict(X_test)\n",
    "acc_linear_svc = round(linear_svc.score(X_train, Y_train) * 100, 2)"
   ]
  },
  {
   "cell_type": "markdown",
   "metadata": {},
   "source": [
    "## Decision Tree"
   ]
  },
  {
   "cell_type": "code",
   "execution_count": null,
   "metadata": {},
   "outputs": [],
   "source": [
    "decision_tree = DecisionTreeClassifier() \n",
    "decision_tree.fit(X_train, Y_train)  \n",
    "Y_pred = decision_tree.predict(X_test)  \n",
    "acc_decision_tree = round(decision_tree.score(X_train, Y_train) * 100, 2)"
   ]
  },
  {
   "cell_type": "code",
   "execution_count": null,
   "metadata": {},
   "outputs": [],
   "source": []
  }
 ],
 "metadata": {
  "kernelspec": {
   "display_name": "Python 3",
   "language": "python",
   "name": "python3"
  },
  "language_info": {
   "codemirror_mode": {
    "name": "ipython",
    "version": 3
   },
   "file_extension": ".py",
   "mimetype": "text/x-python",
   "name": "python",
   "nbconvert_exporter": "python",
   "pygments_lexer": "ipython3",
   "version": "3.7.6"
  }
 },
 "nbformat": 4,
 "nbformat_minor": 2
}
