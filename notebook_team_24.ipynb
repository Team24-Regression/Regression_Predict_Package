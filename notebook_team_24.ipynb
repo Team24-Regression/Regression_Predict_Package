{
 "cells": [
  {
   "cell_type": "markdown",
   "metadata": {},
   "source": [
    "![Image of Yaktocat](sendy.jpg)"
   ]
  },
  {
   "cell_type": "markdown",
   "metadata": {},
   "source": [
    "# Sendy Logistics Regression Model\n",
    "<br></br>\n"
   ]
  },
  {
   "cell_type": "markdown",
   "metadata": {},
   "source": [
    "## Introduction"
   ]
  },
  {
   "cell_type": "markdown",
   "metadata": {},
   "source": [
    "Sendy is a business-to-business platform established in 2014, to enable businesses of all types and sizes to transport goods more efficiently across East Africa.\n",
    "\n",
    "Logistics is fundamental to the success of a business while efficient and affordable logistics are a vital component of economic development. To help Sendy achieve affordability and effieciency, a prediction of the estimated time of delivery of orders, from the point of driver pickup to the point of arrival at final destination is made. This prediction will enhance customer communication and improve the reliability of its service; which will ultimately improve customer experience.\n",
    "\n",
    "The prediction will enable Sendy to realise cost savings, and ultimately reduce the cost of doing business, through improved resource management and planning for order scheduling. The accurate arrival time prediction will help all businesses involved to improve their logistics and communicate an accurate time to their customers."
   ]
  },
  {
   "cell_type": "markdown",
   "metadata": {},
   "source": [
    "## Importing the Libraries"
   ]
  },
  {
   "cell_type": "code",
   "execution_count": null,
   "metadata": {},
   "outputs": [],
   "source": [
    "import numpy as np \n",
    "import math\n",
    "# data processing\n",
    "import pandas as pd \n",
    "\n",
    "# data visualization\n",
    "import matplotlib.pyplot as plt\n",
    "import seaborn as sns\n",
    "import re\n",
    "from sklearn import tree\n",
    "from sklearn.model_selection import GridSearchCV"
   ]
  },
  {
   "cell_type": "markdown",
   "metadata": {},
   "source": [
    "## Getting the Data"
   ]
  },
  {
   "cell_type": "code",
   "execution_count": null,
   "metadata": {},
   "outputs": [],
   "source": [
    "# the csv files are converted to panda dataframe and are renamed.\n",
    "Train_df= pd.read_csv(\"Train.csv\")\n",
    "Test_df= pd.read_csv(\"Test.csv\")\n",
    "Riders_df= pd.read_csv(\"Riders.csv\")\n",
    "VariableDefinitions_df= pd.read_csv(\"VariableDefinitions.csv\")\n",
    "SampleSubmission_df= pd.read_csv(\"SampleSubmission.csv\")\n"
   ]
  },
  {
   "cell_type": "markdown",
   "metadata": {},
   "source": [
    "## Data Description"
   ]
  },
  {
   "cell_type": "markdown",
   "metadata": {},
   "source": [
    "Exploring data sets helps in developing deep understanding about the data, the data set is Explored with imported libraries.The Variable dataframe below displays the name of features and desciptions on the right."
   ]
  },
  {
   "cell_type": "code",
   "execution_count": null,
   "metadata": {
    "scrolled": true
   },
   "outputs": [],
   "source": [
    "VariableDefinitions_df"
   ]
  },
  {
   "cell_type": "markdown",
   "metadata": {},
   "source": [
    "The dataframe above is the list of the features with a short description:"
   ]
  },
  {
   "cell_type": "code",
   "execution_count": null,
   "metadata": {},
   "outputs": [],
   "source": [
    "VariableDefinitions_df.info()"
   ]
  },
  {
   "cell_type": "code",
   "execution_count": null,
   "metadata": {},
   "outputs": [],
   "source": [
    "#Train data set\n",
    "Train_df.info()"
   ]
  },
  {
   "cell_type": "markdown",
   "metadata": {},
   "source": [
    "The training-set has 21201 entries and 28 features + the target variable (Time from Pickup to Arrival). 6 of the features are floats, 13 are integers and 10 are objects.Since there is a Train data set, this implies that the data has been split and any aditing that will be done on the train data set will also be applied on the Test data set."
   ]
  },
  {
   "cell_type": "code",
   "execution_count": null,
   "metadata": {},
   "outputs": [],
   "source": [
    "Train_df.head(8)"
   ]
  },
  {
   "cell_type": "markdown",
   "metadata": {},
   "source": [
    "From the table above,few things can be noted. some of the features need to be converted into numeric ones, so that the machine learning algorithms can process them. Furthermore. Some more features, that contain missing values (NaN = not a number) can also be spoted, that would be deal with later on."
   ]
  },
  {
   "cell_type": "code",
   "execution_count": null,
   "metadata": {},
   "outputs": [],
   "source": [
    "Train_df.columns.values"
   ]
  },
  {
   "cell_type": "markdown",
   "metadata": {},
   "source": [
    "Above are all features present in the Train data frame"
   ]
  },
  {
   "cell_type": "code",
   "execution_count": null,
   "metadata": {},
   "outputs": [],
   "source": [
    "    # Rider data set\n",
    "Riders_df.info()"
   ]
  },
  {
   "cell_type": "markdown",
   "metadata": {},
   "source": [
    "Rider_df displays the information about the motorbike riders. It consist of 5 features and 960 entries."
   ]
  },
  {
   "cell_type": "code",
   "execution_count": null,
   "metadata": {},
   "outputs": [],
   "source": [
    "Riders_df.head(8)"
   ]
  },
  {
   "cell_type": "markdown",
   "metadata": {},
   "source": [
    "Above is the overview of the Riders data frame. The feature (Rider Id) is common to both Riders and Train Data Frame this allows for a merge between the two data frames."
   ]
  },
  {
   "cell_type": "code",
   "execution_count": null,
   "metadata": {},
   "outputs": [],
   "source": [
    "#features found within the Rider data set.\n",
    "Riders_df.columns.values"
   ]
  },
  {
   "cell_type": "code",
   "execution_count": null,
   "metadata": {},
   "outputs": [],
   "source": [
    "    #a look at the submission sample data frame\n",
    "SampleSubmission_df.head(8)"
   ]
  },
  {
   "cell_type": "markdown",
   "metadata": {},
   "source": [
    "The sample submission displays the format in which sumbmision would be made for this predict on Zindi"
   ]
  },
  {
   "cell_type": "markdown",
   "metadata": {},
   "source": [
    "## Data cleaning and formating"
   ]
  },
  {
   "cell_type": "markdown",
   "metadata": {},
   "source": [
    "#### __Data cleaning__"
   ]
  },
  {
   "cell_type": "code",
   "execution_count": null,
   "metadata": {},
   "outputs": [],
   "source": [
    "    #Joining the riders to both Train and Test data set\n",
    "Train_df = pd.merge(Train_df, Riders_df, left_on='Rider Id', \n",
    "                    right_on='Rider Id', how='left')\n",
    "Test_df = pd.merge(Train_df, Riders_df, left_on='Rider Id',\n",
    "                    right_on='Rider Id', how='left')"
   ]
  },
  {
   "cell_type": "markdown",
   "metadata": {},
   "source": [
    "Test and Train data frames are merged with Riders data data frame on the Rider Id feature."
   ]
  },
  {
   "cell_type": "code",
   "execution_count": null,
   "metadata": {},
   "outputs": [],
   "source": [
    "Train_df.head(8)"
   ]
  },
  {
   "cell_type": "markdown",
   "metadata": {},
   "source": [
    "Above is the new merged Train data set and The same is be done for the Test data set. For the purpose of this predict, the Vehicle Type feature is dropped because only motor bikes are considered. The naming format is not consistant in the above data frame(under scores will be use instead of spaces)"
   ]
  },
  {
   "cell_type": "code",
   "execution_count": null,
   "metadata": {},
   "outputs": [],
   "source": [
    "    # Dropin the  Vehicle Type \n",
    "Train_df = Train_df.drop(['Vehicle Type'], axis = 1)\n",
    "Test_df = Test_df.drop(['Vehicle Type'], axis = 1)"
   ]
  },
  {
   "cell_type": "code",
   "execution_count": null,
   "metadata": {},
   "outputs": [],
   "source": [
    "Test_df.head(8)"
   ]
  },
  {
   "cell_type": "code",
   "execution_count": null,
   "metadata": {},
   "outputs": [],
   "source": [
    "Test_df.head(8)"
   ]
  },
  {
   "cell_type": "markdown",
   "metadata": {},
   "source": [
    "The Vehicle feature has been succefully droped from both data frames."
   ]
  },
  {
   "cell_type": "code",
   "execution_count": null,
   "metadata": {},
   "outputs": [],
   "source": [
    "    # Formatting the naming of the columns\n",
    "Train_df.columns = Train_df.columns.str.replace(' ', '_')\n",
    "Test_df.columns = Test_df .columns.str.replace(' ', '_')"
   ]
  },
  {
   "cell_type": "code",
   "execution_count": null,
   "metadata": {},
   "outputs": [],
   "source": [
    "    #removing \"-\" from the feature labels.\n",
    "Train_df.columns = Train_df.columns.str.replace('_-_', '_')\n",
    "Train_df = Train_df.rename(columns={\"Time_from_Pickup_to_Arrival\": \"Time from Pickup to Arrival\"})\n",
    "Test_df.columns = Test_df .columns.str.replace('_-_', '_')\n",
    "Test_df = Test_df.rename(columns={\"Time_from_Pickup_to_Arrival\": \"Time from Pickup to Arrival\"})"
   ]
  },
  {
   "cell_type": "code",
   "execution_count": null,
   "metadata": {},
   "outputs": [],
   "source": [
    "Train_df.head(8)"
   ]
  },
  {
   "cell_type": "code",
   "execution_count": null,
   "metadata": {},
   "outputs": [],
   "source": [
    "print('There are', Train_df['Rider_Id'].nunique(), \n",
    "      'Motorbike riders', 'and', Train_df['User_Id'].nunique(), \n",
    "      'Customers')"
   ]
  },
  {
   "cell_type": "markdown",
   "metadata": {},
   "source": [
    "__Handling missing data__"
   ]
  },
  {
   "cell_type": "code",
   "execution_count": null,
   "metadata": {
    "scrolled": true
   },
   "outputs": [],
   "source": [
    "aval_df = Train_df.notnull().sum(axis=0).reset_index()\n",
    "aval_df.columns = ['column_name', 'missing_count']\n",
    "aval_df = aval_df.loc[aval_df['missing_count']>0]\n",
    "aval_df = aval_df.sort_values(by='missing_count')\n",
    "\n",
    "ind = np.arange(aval_df.shape[0])\n",
    "width = 0.9\n",
    "fig, ax = plt.subplots(figsize=(10,8))\n",
    "rects = ax.barh(ind, aval_df.missing_count.values, color='magenta')\n",
    "ax.set_yticks(ind)\n",
    "ax.set_yticklabels(aval_df.column_name.values, rotation='horizontal')\n",
    "ax.set_xlabel(\"Total Count of Available values\")\n",
    "ax.set_ylabel(\"Features\")\n",
    "ax.set_title(\"Available Data In Each Column\")\n",
    "plt.show()"
   ]
  },
  {
   "cell_type": "markdown",
   "metadata": {},
   "source": [
    "The chart above display how much data is available, the full bars means the data for that feature is comple and the last two bar bars are the only ones with missing data."
   ]
  },
  {
   "cell_type": "markdown",
   "metadata": {},
   "source": [
    "__More detailed look at what data is actually missing:__"
   ]
  },
  {
   "cell_type": "code",
   "execution_count": null,
   "metadata": {},
   "outputs": [],
   "source": [
    " #Train_df missing data\n",
    "total = Train_df.isnull().sum().sort_values(ascending=False)\n",
    "percent_1 = Train_df.isnull().sum()/Train_df.isnull().count()*100\n",
    "percent_2 = (round(percent_1, 1)).sort_values(ascending=False)\n",
    "missing_data = pd.concat([total, percent_2], axis=1, keys=['Total', '%'])\n",
    "missing_data.head(5)"
   ]
  },
  {
   "cell_type": "code",
   "execution_count": null,
   "metadata": {},
   "outputs": [],
   "source": [
    "#Visual Display of missing Data in Train data frame\n",
    "ax = missing_data['Total'].plot(kind='barh', figsize=(10, 15), color='green', zorder=2, width=0.68)\n",
    "ax.set_title(\"Total Count of Missing Data in Features\",  labelpad=24, weight='bold', size=18)\n",
    "ax.set_xlabel(\"Total count of missing values\", labelpad=20, weight='bold', size=12)\n",
    "ax.set_ylabel(\"Features\", labelpad=20, weight='bold', size=12)"
   ]
  },
  {
   "cell_type": "markdown",
   "metadata": {},
   "source": [
    "As obseved from both missing_data frame and the visual display above, it will be a bit tricky to deal with the 'Temparature' feature, which has 4366 missing values. However on the other hand, the 'Precipitation in mm' feature needs further investigation, but it looks like it would be better if it is dropped off from the dataset, since 97.4 % of it is missing data."
   ]
  },
  {
   "cell_type": "markdown",
   "metadata": {},
   "source": [
    "*Investigating on Precipitation in millimeter feature.*"
   ]
  },
  {
   "cell_type": "code",
   "execution_count": null,
   "metadata": {},
   "outputs": [],
   "source": [
    "    #Checking if there are 0 mm records of Precipitation from both Test and Train data frame\n",
    "(Train_df['Precipitation_in_millimeters']==0).all(),(Test_df['Precipitation_in_millimeters']==0).all()\n"
   ]
  },
  {
   "cell_type": "markdown",
   "metadata": {},
   "source": [
    "The are no Recorded 0 values for precipitation in both of the data frames. It is not likely that pricipitation may occur in all days of the month. So it makes sense that 97% of the time in a month there is no precipitation, therefore the NaN values will be replaced with 0 values.Meaning on those days there was no precipitation."
   ]
  },
  {
   "cell_type": "code",
   "execution_count": null,
   "metadata": {},
   "outputs": [],
   "source": [
    "    #replacing NAN with 0 for precipitation feature\n",
    "Train_df[\"Precipitation_in_millimeters\"] = Train_df[\"Precipitation_in_millimeters\"].fillna(0)\n",
    "Test_df[\"Precipitation_in_millimeters\"] = Test_df[\"Precipitation_in_millimeters\"].fillna(0)"
   ]
  },
  {
   "cell_type": "code",
   "execution_count": null,
   "metadata": {},
   "outputs": [],
   "source": [
    "Train_df.info()"
   ]
  },
  {
   "cell_type": "markdown",
   "metadata": {},
   "source": [
    "checking from the infomation above, temparature is the only feature with missing values."
   ]
  },
  {
   "cell_type": "markdown",
   "metadata": {},
   "source": [
    "Checking for correlation between Temparature and features which may have influence of Time from Pickup to Arrival"
   ]
  },
  {
   "cell_type": "code",
   "execution_count": null,
   "metadata": {},
   "outputs": [],
   "source": [
    "    #Train_df data set \n",
    "Temp = sns.boxplot(x=\"Platform_Type\", y=\"Temperature\", hue=\"Personal_or_Business\",\n",
    "                 data=Train_df, palette=\"Greens\")\n"
   ]
  },
  {
   "cell_type": "markdown",
   "metadata": {},
   "source": [
    "The whisker and the box diagram propose that there is a relationship between the temparature and the platform as well as the Personal or bussiness feature. Below is the function, conditional_impute, which performs imputation upon Temperature column within a Pandas DataFrame based upon both Personal or Business and platform.\n",
    "\n",
    "Data imputation-----------"
   ]
  },
  {
   "cell_type": "markdown",
   "metadata": {},
   "source": [
    "__*Data formating*__"
   ]
  },
  {
   "cell_type": "markdown",
   "metadata": {},
   "source": [
    "The haversine formula determines the great-circle distance between two points on a sphere given their longitudes and latitudes.Below is the fuction that will calculate the disdance between the pickup and destination location."
   ]
  },
  {
   "cell_type": "markdown",
   "metadata": {},
   "source": [
    "# EDA"
   ]
  },
  {
   "cell_type": "markdown",
   "metadata": {},
   "source": [
    "Exploring the features in the data frame"
   ]
  },
  {
   "cell_type": "markdown",
   "metadata": {},
   "source": [
    "#### A first look at the behaviour of delivery time (Y - Variable)"
   ]
  },
  {
   "cell_type": "code",
   "execution_count": null,
   "metadata": {},
   "outputs": [],
   "source": [
    "plt.figure(figsize=(6,6))\n",
    "plt.scatter(range(Train_df.shape[0]), np.sort(Train_df['Time from Pickup to Arrival'].values), \n",
    "            color = 'orange')\n",
    "plt.xlabel('X - Variables', fontsize=12)\n",
    "plt.ylabel('Pickup to Arrival Time', fontsize=12)\n",
    "plt.show()"
   ]
  },
  {
   "cell_type": "markdown",
   "metadata": {},
   "source": [
    " ## *Thasamy will add interpretation*"
   ]
  },
  {
   "cell_type": "markdown",
   "metadata": {},
   "source": [
    "We are going to look at the Platform Type and Business type to look at what makes up most of the orders."
   ]
  },
  {
   "cell_type": "markdown",
   "metadata": {},
   "source": [
    "## Understanding The Distribution Of The Data\n",
    "We are going to look at the features contained in the dataframe independently.This will help with understanding the distribution of the ranges and/or types contained in each.\n",
    "\n",
    "### Order number, Vehicle Type and User Id\n",
    "\n",
    "In most cases order numbers are unique numbers assigned to every order made, and we need to check if it the case for this data. We need to look at the vehicle Id to see the types of vehicles we are working with and uder Id to see the total number of users who used this service."
   ]
  },
  {
   "cell_type": "code",
   "execution_count": null,
   "metadata": {},
   "outputs": [],
   "source": [
    "print('Order numbers:') \n",
    "print(Train_df['Order_No'].nunique())\n",
    "print('User_Id:') \n",
    "print(Train_df['User_Id'].nunique())"
   ]
  },
  {
   "cell_type": "markdown",
   "metadata": {},
   "source": [
    "There are 21201 orders made by 3186 users."
   ]
  },
  {
   "cell_type": "markdown",
   "metadata": {},
   "source": [
    "### Categorical data\n",
    "\n",
    "A look at the Platform Type and Business or Personal features to see at what makes up most of the orders."
   ]
  },
  {
   "cell_type": "code",
   "execution_count": null,
   "metadata": {
    "scrolled": true
   },
   "outputs": [],
   "source": [
    "Train_df['Platform_Type'].value_counts().plot(kind='pie')\n",
    "plt.axis('equal')\n",
    "plt.title('Platform Type contribution to total orders')\n",
    "plt.ylabel('')\n",
    "plt.show()\n",
    "\n",
    "ax=sns.countplot(x='Personal_or_Business', data=Train_df)\n",
    "ax.set(xlabel='Personal or Business', ylabel='Number of orders')\n",
    "plt.show()"
   ]
  },
  {
   "cell_type": "markdown",
   "metadata": {},
   "source": [
    "From the two figures, one can see that platfrom 3 has the highest numbers of orders and platform 4 has the least numbers. It can also be seen from the barchart that there are more orders for business than there are for personal."
   ]
  },
  {
   "cell_type": "markdown",
   "metadata": {},
   "source": [
    "## Numerical data\n",
    "\n",
    "### Placement and confirmation Day of the month\n",
    "\n",
    "Placement and confirmation day of the month can be the same. If they are, it will save time that only one of the features is looked at. To check that, a new dataframe is created with rows that pass the condition that confirmation day is the same as placement day of the month. After it is created, if its length is still 21201 then this proves they are the same."
   ]
  },
  {
   "cell_type": "code",
   "execution_count": null,
   "metadata": {
    "scrolled": true
   },
   "outputs": [],
   "source": [
    "New_df=Train_df[Train_df['Placement_Day_of_Month']!=Train_df['Confirmation_Day_of_Month']]\n",
    "New_df"
   ]
  },
  {
   "cell_type": "code",
   "execution_count": null,
   "metadata": {
    "scrolled": true
   },
   "outputs": [],
   "source": [
    "New_df=Train_df[Train_df['Placement_Weekday_(Mo_=_1)']!=Train_df['Confirmation_Weekday_(Mo_=_1)']]\n",
    "New_df"
   ]
  },
  {
   "cell_type": "raw",
   "metadata": {},
   "source": [
    "There are two Business orders which were not confired on the same date and day of the month and week. !!!!!what do we do with this?"
   ]
  },
  {
   "cell_type": "markdown",
   "metadata": {},
   "source": [
    "interptre the above"
   ]
  },
  {
   "cell_type": "code",
   "execution_count": null,
   "metadata": {
    "scrolled": true
   },
   "outputs": [],
   "source": [
    "sns.distplot(Train_df['Placement_Day_of_Month'],bins=4,kde=False, color='red')\n",
    "plt.xlabel('Day of the month')\n",
    "plt.ylabel('Number of orders')\n",
    "plt.rcParams[\"patch.force_edgecolor\"] = True\n",
    "plt.show()"
   ]
  },
  {
   "cell_type": "markdown",
   "metadata": {},
   "source": [
    "interpretation chego"
   ]
  },
  {
   "cell_type": "markdown",
   "metadata": {},
   "source": [
    "### Distance\n",
    "\n",
    "The distance is looked at to see the range that contributes the most to the orders. The distance (Km) is divided into 5 ranges and is shown below."
   ]
  },
  {
   "cell_type": "code",
   "execution_count": null,
   "metadata": {
    "scrolled": false
   },
   "outputs": [],
   "source": [
    "sns.distplot(Train_df['Distance_(KM)'], bins=np.arange(0,60,10),kde=False, color='green')\n",
    "ax.set(xlabel='Distance(Km)', ylabel='Number of orders')\n",
    "plt.rcParams[\"patch.force_edgecolor\"] = True\n",
    "plt.xlabel('Distance')\n",
    "plt.ylabel('Number of orders')\n",
    "plt.show()"
   ]
  },
  {
   "cell_type": "markdown",
   "metadata": {},
   "source": [
    "The figure above shows that most of the orders are for a traveling distance of between 0km and 10km. Few orders are from a range 30km and 40km.\n",
    "\n",
    "### Temparature and Precipitation\n",
    "Now looking at both the temperature data and precipitation data, it can be seen that these are the only features with missing values. The graphs for boths are shown below."
   ]
  },
  {
   "cell_type": "code",
   "execution_count": null,
   "metadata": {
    "scrolled": true
   },
   "outputs": [],
   "source": [
    "fig, axes = plt.subplots(1, 2,figsize=(15,5))\n",
    "\n",
    "\n",
    "sns.distplot(Train_df['Temperature'],ax=axes[0], bins=np.arange(0,60,10),kde=False, color='orange')\n",
    "ax.set(xlabel='Temperature', ylabel='Number of orders')\n",
    "plt.rcParams[\"patch.force_edgecolor\"] = True\n",
    "plt.xlabel('Distance')\n",
    "plt.ylabel('Number of orders')\n",
    "\n",
    "sns.distplot(Train_df['Precipitation_in_millimeters'],ax=axes[1], bins=np.arange(0,60,10),kde=False, color='pink')\n",
    "ax.set(xlabel='Precipitation in millimeters', ylabel='Number of orders')\n",
    "plt.rcParams[\"patch.force_edgecolor\"] = True\n",
    "plt.xlabel('Distance')\n",
    "plt.ylabel('Number of orders')\n",
    "\n",
    "axes[0].set(xlabel=\"Temperature\", ylabel=\"Number of orders\")\n",
    "axes[1].set(xlabel=\"Precipitation in milimeters\", ylabel=\"Number of orders\")\n",
    "fig.subplots_adjust(wspace=0.5)\n",
    "plt.show()"
   ]
  },
  {
   "cell_type": "code",
   "execution_count": null,
   "metadata": {},
   "outputs": [],
   "source": [
    "#####interprt"
   ]
  },
  {
   "cell_type": "code",
   "execution_count": null,
   "metadata": {
    "scrolled": false
   },
   "outputs": [],
   "source": [
    "sns.distplot(Train_df['Time from Pickup to Arrival'],bins=4,kde=False, color='red')\n",
    "plt.xlabel('Number of orders')\n",
    "plt.ylabel('Time from Pickup to Arrival')\n",
    "plt.rcParams[\"patch.force_edgecolor\"] = True\n",
    "plt.show()"
   ]
  },
  {
   "cell_type": "markdown",
   "metadata": {},
   "source": [
    "# !!! chego how do you interprete the above.....nb Histogram are normaly used for categorigal data with numeric...."
   ]
  },
  {
   "cell_type": "markdown",
   "metadata": {},
   "source": [
    "Scatter plot to display the above histplot"
   ]
  },
  {
   "cell_type": "code",
   "execution_count": null,
   "metadata": {
    "scrolled": true
   },
   "outputs": [],
   "source": [
    "T_PA_no_orders = sns.scatterplot(y=\"Time from Pickup to Arrival\", x =\"No_Of_Orders\",  data=Train_df)"
   ]
  },
  {
   "cell_type": "markdown",
   "metadata": {},
   "source": [
    "the scatter show that the time from pickup to arival does not depend on no of orders"
   ]
  },
  {
   "cell_type": "code",
   "execution_count": null,
   "metadata": {
    "scrolled": false
   },
   "outputs": [],
   "source": [
    "ax=sns.countplot(x='Rider_Id', data=Train_df)\n",
    "ax.set(xlabel='Rider Id', ylabel='Number of orders')"
   ]
  },
  {
   "cell_type": "markdown",
   "metadata": {},
   "source": [
    "!!!! the above count plot is hard to interprete"
   ]
  },
  {
   "cell_type": "markdown",
   "metadata": {},
   "source": [
    "### Geography And Coordinates"
   ]
  },
  {
   "cell_type": "code",
   "execution_count": null,
   "metadata": {},
   "outputs": [],
   "source": [
    "color = sns.color_palette()\n",
    "ggplot(aes(x='Pickup_Lat', y='Pickup_Long', color= 'Time from Pickup to Arrival'), data=Train_df) + \\\n",
    "    geom_point() + \\\n",
    "    scale_color_gradient(low = 'red', high = 'blue')"
   ]
  },
  {
   "cell_type": "code",
   "execution_count": null,
   "metadata": {},
   "outputs": [],
   "source": [
    "\n",
    "ggplot(aes(x='Destination_Lat', y='Destination_Long', color= 'Time_from_Pickup_to_Arrival'), data=Train_df) + \\\n",
    "    geom_point() + \\\n",
    "    scale_color_gradient(low = 'blue', high = 'yellow')"
   ]
  },
  {
   "cell_type": "markdown",
   "metadata": {},
   "source": [
    "### Observation\n",
    "\n",
    "The distance of drop-offs are wider spread than pick up points, many destinations arrival time will be influenced by wider distances. We also notice that lengthy times for deliveries occur in both the central and outlier destinations. Traffic congestion and distance are all influential in the pick to arrival time duration"
   ]
  },
  {
   "cell_type": "code",
   "execution_count": 52,
   "metadata": {},
   "outputs": [
    {
     "name": "stdout",
     "output_type": "stream",
     "text": [
      "<class 'pandas.core.frame.DataFrame'>\n",
      "Int64Index: 21201 entries, 0 to 21200\n",
      "Data columns (total 32 columns):\n",
      " #   Column                                   Non-Null Count  Dtype  \n",
      "---  ------                                   --------------  -----  \n",
      " 0   Order_No                                 21201 non-null  object \n",
      " 1   User_Id                                  21201 non-null  object \n",
      " 2   Platform_Type                            21201 non-null  int64  \n",
      " 3   Personal_or_Business                     21201 non-null  object \n",
      " 4   Placement_Day_of_Month                   21201 non-null  int64  \n",
      " 5   Placement_Weekday_(Mo_=_1)               21201 non-null  int64  \n",
      " 6   Placement_Time                           21201 non-null  object \n",
      " 7   Confirmation_Day_of_Month                21201 non-null  int64  \n",
      " 8   Confirmation_Weekday_(Mo_=_1)            21201 non-null  int64  \n",
      " 9   Confirmation_Time                        21201 non-null  object \n",
      " 10  Arrival_at_Pickup_Day_of_Month           21201 non-null  int64  \n",
      " 11  Arrival_at_Pickup_Weekday_(Mo_=_1)       21201 non-null  int64  \n",
      " 12  Arrival_at_Pickup_Time                   21201 non-null  object \n",
      " 13  Pickup_Day_of_Month                      21201 non-null  int64  \n",
      " 14  Pickup_Weekday_(Mo_=_1)                  21201 non-null  int64  \n",
      " 15  Pickup_Time                              21201 non-null  object \n",
      " 16  Arrival_at_Destination_Day_of_Month      21201 non-null  int64  \n",
      " 17  Arrival_at_Destination_Weekday_(Mo_=_1)  21201 non-null  int64  \n",
      " 18  Arrival_at_Destination_Time              21201 non-null  object \n",
      " 19  Distance_(KM)                            21201 non-null  int64  \n",
      " 20  Temperature                              16835 non-null  float64\n",
      " 21  Precipitation_in_millimeters             21201 non-null  float64\n",
      " 22  Pickup_Lat                               21201 non-null  float64\n",
      " 23  Pickup_Long                              21201 non-null  float64\n",
      " 24  Destination_Lat                          21201 non-null  float64\n",
      " 25  Destination_Long                         21201 non-null  float64\n",
      " 26  Rider_Id                                 21201 non-null  object \n",
      " 27  Time from Pickup to Arrival              21201 non-null  int64  \n",
      " 28  No_Of_Orders                             21201 non-null  int64  \n",
      " 29  Age                                      21201 non-null  int64  \n",
      " 30  Average_Rating                           21201 non-null  float64\n",
      " 31  No_of_Ratings                            21201 non-null  int64  \n",
      "dtypes: float64(7), int64(16), object(9)\n",
      "memory usage: 6.0+ MB\n"
     ]
    }
   ],
   "source": [
    "Train_df.info()"
   ]
  },
  {
   "cell_type": "markdown",
   "metadata": {},
   "source": [
    "## Data formating and creating features"
   ]
  },
  {
   "cell_type": "markdown",
   "metadata": {},
   "source": [
    "There are Four features containg time data but as an object:\n",
    "    - Placement_Time\n",
    "    - Confirmation - Time\n",
    "    - Arrival_at_Pickup_Time\n",
    "    - Pickup_Time\n",
    "    - Arrival_at_Destination_Time"
   ]
  },
  {
   "cell_type": "code",
   "execution_count": 53,
   "metadata": {},
   "outputs": [],
   "source": [
    "def alter_time(df):\n",
    "    time_matrix = ['Placement_Time','Confirmation_Time', \n",
    "                   'Arrival_at_Pickup_Time', 'Pickup_Time',\n",
    "                   'Arrival_at_Destination_Time']\n",
    "    for i in time_matrix:\n",
    "        df[i] = pd.to_datetime(df[i]).dt.strftime('%H:%M:%S')\n",
    "        df[i] = pd.to_timedelta(df[i])\n",
    "        df[i] = df[i].dt.total_seconds()\n",
    "        \n",
    "    return df"
   ]
  },
  {
   "cell_type": "code",
   "execution_count": 54,
   "metadata": {},
   "outputs": [],
   "source": [
    "Train_df = alter_time(Train_df)\n",
    "Test_df = alter_time(Test_df)"
   ]
  },
  {
   "cell_type": "code",
   "execution_count": 55,
   "metadata": {},
   "outputs": [
    {
     "data": {
      "text/html": [
       "<div>\n",
       "<style scoped>\n",
       "    .dataframe tbody tr th:only-of-type {\n",
       "        vertical-align: middle;\n",
       "    }\n",
       "\n",
       "    .dataframe tbody tr th {\n",
       "        vertical-align: top;\n",
       "    }\n",
       "\n",
       "    .dataframe thead th {\n",
       "        text-align: right;\n",
       "    }\n",
       "</style>\n",
       "<table border=\"1\" class=\"dataframe\">\n",
       "  <thead>\n",
       "    <tr style=\"text-align: right;\">\n",
       "      <th></th>\n",
       "      <th>Order_No</th>\n",
       "      <th>User_Id</th>\n",
       "      <th>Platform_Type</th>\n",
       "      <th>Personal_or_Business</th>\n",
       "      <th>Placement_Day_of_Month</th>\n",
       "      <th>Placement_Weekday_(Mo_=_1)</th>\n",
       "      <th>Placement_Time</th>\n",
       "      <th>Confirmation_Day_of_Month</th>\n",
       "      <th>Confirmation_Weekday_(Mo_=_1)</th>\n",
       "      <th>Confirmation_Time</th>\n",
       "      <th>...</th>\n",
       "      <th>Pickup_Lat</th>\n",
       "      <th>Pickup_Long</th>\n",
       "      <th>Destination_Lat</th>\n",
       "      <th>Destination_Long</th>\n",
       "      <th>Rider_Id</th>\n",
       "      <th>Time from Pickup to Arrival</th>\n",
       "      <th>No_Of_Orders</th>\n",
       "      <th>Age</th>\n",
       "      <th>Average_Rating</th>\n",
       "      <th>No_of_Ratings</th>\n",
       "    </tr>\n",
       "  </thead>\n",
       "  <tbody>\n",
       "    <tr>\n",
       "      <th>0</th>\n",
       "      <td>Order_No_4211</td>\n",
       "      <td>User_Id_633</td>\n",
       "      <td>3</td>\n",
       "      <td>Business</td>\n",
       "      <td>9</td>\n",
       "      <td>5</td>\n",
       "      <td>34546.0</td>\n",
       "      <td>9</td>\n",
       "      <td>5</td>\n",
       "      <td>34810.0</td>\n",
       "      <td>...</td>\n",
       "      <td>-1.317755</td>\n",
       "      <td>36.830370</td>\n",
       "      <td>-1.300406</td>\n",
       "      <td>36.829741</td>\n",
       "      <td>Rider_Id_432</td>\n",
       "      <td>745</td>\n",
       "      <td>1637</td>\n",
       "      <td>1309</td>\n",
       "      <td>13.8</td>\n",
       "      <td>549</td>\n",
       "    </tr>\n",
       "    <tr>\n",
       "      <th>1</th>\n",
       "      <td>Order_No_25375</td>\n",
       "      <td>User_Id_2285</td>\n",
       "      <td>3</td>\n",
       "      <td>Personal</td>\n",
       "      <td>12</td>\n",
       "      <td>5</td>\n",
       "      <td>40576.0</td>\n",
       "      <td>12</td>\n",
       "      <td>5</td>\n",
       "      <td>41001.0</td>\n",
       "      <td>...</td>\n",
       "      <td>-1.351453</td>\n",
       "      <td>36.899315</td>\n",
       "      <td>-1.295004</td>\n",
       "      <td>36.814358</td>\n",
       "      <td>Rider_Id_856</td>\n",
       "      <td>1993</td>\n",
       "      <td>396</td>\n",
       "      <td>339</td>\n",
       "      <td>13.6</td>\n",
       "      <td>69</td>\n",
       "    </tr>\n",
       "  </tbody>\n",
       "</table>\n",
       "<p>2 rows × 32 columns</p>\n",
       "</div>"
      ],
      "text/plain": [
       "         Order_No       User_Id  Platform_Type Personal_or_Business  \\\n",
       "0   Order_No_4211   User_Id_633              3             Business   \n",
       "1  Order_No_25375  User_Id_2285              3             Personal   \n",
       "\n",
       "   Placement_Day_of_Month  Placement_Weekday_(Mo_=_1)  Placement_Time  \\\n",
       "0                       9                           5         34546.0   \n",
       "1                      12                           5         40576.0   \n",
       "\n",
       "   Confirmation_Day_of_Month  Confirmation_Weekday_(Mo_=_1)  \\\n",
       "0                          9                              5   \n",
       "1                         12                              5   \n",
       "\n",
       "   Confirmation_Time  ...  Pickup_Lat  Pickup_Long  Destination_Lat  \\\n",
       "0            34810.0  ...   -1.317755    36.830370        -1.300406   \n",
       "1            41001.0  ...   -1.351453    36.899315        -1.295004   \n",
       "\n",
       "   Destination_Long      Rider_Id  Time from Pickup to Arrival  No_Of_Orders  \\\n",
       "0         36.829741  Rider_Id_432                          745          1637   \n",
       "1         36.814358  Rider_Id_856                         1993           396   \n",
       "\n",
       "    Age  Average_Rating  No_of_Ratings  \n",
       "0  1309            13.8            549  \n",
       "1   339            13.6             69  \n",
       "\n",
       "[2 rows x 32 columns]"
      ]
     },
     "execution_count": 55,
     "metadata": {},
     "output_type": "execute_result"
    }
   ],
   "source": [
    "Train_df.head(2)"
   ]
  },
  {
   "cell_type": "code",
   "execution_count": null,
   "metadata": {},
   "outputs": [],
   "source": []
  },
  {
   "cell_type": "markdown",
   "metadata": {},
   "source": [
    "Accordin to data from Sendy; there is a missing time feature 'Arrival at Destination Time' "
   ]
  },
  {
   "cell_type": "code",
   "execution_count": 56,
   "metadata": {},
   "outputs": [],
   "source": [
    "    #adding missing feature 'Arrival at Destination Time'\n",
    "Train_df['Arrival_at_Destination_Time'] = Train_df['Time from Pickup to Arrival'] -Train_df['Pickup_Time'] \n",
    "Test_df['Arrival_at_Destination_Time']  = Test_df['Time from Pickup to Arrival'] - Test_df['Pickup_Time']"
   ]
  },
  {
   "cell_type": "markdown",
   "metadata": {},
   "source": [
    "### Forating the categorical to nummeric form.\n",
    "Platform or Business feature:\n",
    "    - Business = 1\n",
    "    - Personal = 0\n"
   ]
  },
  {
   "cell_type": "code",
   "execution_count": null,
   "metadata": {},
   "outputs": [],
   "source": []
  },
  {
   "cell_type": "code",
   "execution_count": 57,
   "metadata": {},
   "outputs": [
    {
     "name": "stdout",
     "output_type": "stream",
     "text": [
      "<class 'pandas.core.frame.DataFrame'>\n",
      "Int64Index: 21201 entries, 0 to 21200\n",
      "Data columns (total 32 columns):\n",
      " #   Column                                   Non-Null Count  Dtype  \n",
      "---  ------                                   --------------  -----  \n",
      " 0   Order_No                                 21201 non-null  object \n",
      " 1   User_Id                                  21201 non-null  object \n",
      " 2   Platform_Type                            21201 non-null  int64  \n",
      " 3   Personal_or_Business                     21201 non-null  object \n",
      " 4   Placement_Day_of_Month                   21201 non-null  int64  \n",
      " 5   Placement_Weekday_(Mo_=_1)               21201 non-null  int64  \n",
      " 6   Placement_Time                           21201 non-null  float64\n",
      " 7   Confirmation_Day_of_Month                21201 non-null  int64  \n",
      " 8   Confirmation_Weekday_(Mo_=_1)            21201 non-null  int64  \n",
      " 9   Confirmation_Time                        21201 non-null  float64\n",
      " 10  Arrival_at_Pickup_Day_of_Month           21201 non-null  int64  \n",
      " 11  Arrival_at_Pickup_Weekday_(Mo_=_1)       21201 non-null  int64  \n",
      " 12  Arrival_at_Pickup_Time                   21201 non-null  float64\n",
      " 13  Pickup_Day_of_Month                      21201 non-null  int64  \n",
      " 14  Pickup_Weekday_(Mo_=_1)                  21201 non-null  int64  \n",
      " 15  Pickup_Time                              21201 non-null  float64\n",
      " 16  Arrival_at_Destination_Day_of_Month      21201 non-null  int64  \n",
      " 17  Arrival_at_Destination_Weekday_(Mo_=_1)  21201 non-null  int64  \n",
      " 18  Arrival_at_Destination_Time              21201 non-null  float64\n",
      " 19  Distance_(KM)                            21201 non-null  int64  \n",
      " 20  Temperature                              16835 non-null  float64\n",
      " 21  Precipitation_in_millimeters             21201 non-null  float64\n",
      " 22  Pickup_Lat                               21201 non-null  float64\n",
      " 23  Pickup_Long                              21201 non-null  float64\n",
      " 24  Destination_Lat                          21201 non-null  float64\n",
      " 25  Destination_Long                         21201 non-null  float64\n",
      " 26  Rider_Id                                 21201 non-null  object \n",
      " 27  Time from Pickup to Arrival              21201 non-null  int64  \n",
      " 28  No_Of_Orders                             21201 non-null  int64  \n",
      " 29  Age                                      21201 non-null  int64  \n",
      " 30  Average_Rating                           21201 non-null  float64\n",
      " 31  No_of_Ratings                            21201 non-null  int64  \n",
      "dtypes: float64(12), int64(16), object(4)\n",
      "memory usage: 6.0+ MB\n"
     ]
    }
   ],
   "source": [
    "Train_df.info()"
   ]
  },
  {
   "cell_type": "markdown",
   "metadata": {},
   "source": [
    "__*creating new features*__"
   ]
  },
  {
   "cell_type": "markdown",
   "metadata": {},
   "source": [
    "New Time features:\n",
    "    - Placement_to_Confiration_Time\n",
    "    - Pickup_to_Arival_at_Pickup_Time"
   ]
  },
  {
   "cell_type": "code",
   "execution_count": 59,
   "metadata": {},
   "outputs": [],
   "source": [
    "    #Placement_to_Confiration_Time\n",
    "Train_df['Placement_to_Confiration_Time'] = Train_df['Confirmation_Time'] - Train_df['Placement_Time']\n",
    "Test_df['Placement_to_Confiration_Time'] = Test_df['Confirmation_Time'] - Test_df['Placement_Time']\n",
    "    #Pickup_to_Arival_at_Pickup_Time\n",
    "Train_df['Pickup_to_Arival_at_Pickup_Time'] = Train_df['Arrival_at_Pickup_Time'] - Train_df['Pickup_Time']\n",
    "Test_df['Pickup_to_Arival_at_Pickup_Time'] = Test_df['Arrival_at_Pickup_Time'] - Test_df['Pickup_Time']"
   ]
  },
  {
   "cell_type": "markdown",
   "metadata": {},
   "source": [
    "### Creating a feature from Coordinates\n",
    "\n",
    "The haversine formula determines the great-circle distance between two points on a sphere given their longitudes and latitudes.Below is the fuction that will calculate the disdance between the pickup and destination location."
   ]
  },
  {
   "cell_type": "code",
   "execution_count": 60,
   "metadata": {},
   "outputs": [],
   "source": [
    "def haversine_vectorize(lon1, lat1, lon2, lat2): \n",
    "    lon1, lat1, lon2, lat2 = map(np.radians, [lon1, lat1, lon2, lat2]) \n",
    "    newlon = lon2 - lon1\n",
    "    newlat = lat2 - lat1 \n",
    "    haver_formula = np.sin(newlat/2.0)**2 + np.cos(lat1) * np.cos(lat2) * np.sin(newlon/2.0)**2\n",
    " \n",
    "    dist = 2 * np.arcsin(np.sqrt(haver_formula ))\n",
    "    km = 6367 * dist #6367 for distance in KM(radius of the Earth)\n",
    "    return round(km, 0)"
   ]
  },
  {
   "cell_type": "code",
   "execution_count": 61,
   "metadata": {},
   "outputs": [],
   "source": [
    "distance_1 = haversine_vectorize(Train_df['Pickup_Lat'], \n",
    "                               Train_df['Pickup_Long'], \n",
    "                               Train_df['Destination_Lat'], \n",
    "                               Train_df['Destination_Long'])\n",
    "Train_df['Actual_Distance'] = distance_1\n",
    "distance_2 = haversine_vectorize(Train_df['Pickup_Lat'], \n",
    "                               Train_df['Pickup_Long'], \n",
    "                               Train_df['Destination_Lat'], \n",
    "                               Train_df['Destination_Long'])\n",
    "Test_df['Actual_Distance'] = distance_2"
   ]
  },
  {
   "cell_type": "code",
   "execution_count": 62,
   "metadata": {},
   "outputs": [],
   "source": [
    "# Droping coordinate features will be droped after Thasamy s visuals\n",
    "Train_df = Train_df.drop(['Pickup_Lat', 'Pickup_Long','Destination_Lat', 'Destination_Long'],axis = 1)\n",
    "Teast_df = Test_df.drop(['Pickup_Lat', 'Pickup_Long','Destination_Lat', 'Destination_Long'], axis = 1)"
   ]
  },
  {
   "cell_type": "code",
   "execution_count": 63,
   "metadata": {},
   "outputs": [
    {
     "data": {
      "text/html": [
       "<div>\n",
       "<style scoped>\n",
       "    .dataframe tbody tr th:only-of-type {\n",
       "        vertical-align: middle;\n",
       "    }\n",
       "\n",
       "    .dataframe tbody tr th {\n",
       "        vertical-align: top;\n",
       "    }\n",
       "\n",
       "    .dataframe thead th {\n",
       "        text-align: right;\n",
       "    }\n",
       "</style>\n",
       "<table border=\"1\" class=\"dataframe\">\n",
       "  <thead>\n",
       "    <tr style=\"text-align: right;\">\n",
       "      <th></th>\n",
       "      <th>Order_No</th>\n",
       "      <th>User_Id</th>\n",
       "      <th>Platform_Type</th>\n",
       "      <th>Personal_or_Business</th>\n",
       "      <th>Placement_Day_of_Month</th>\n",
       "      <th>Placement_Weekday_(Mo_=_1)</th>\n",
       "      <th>Placement_Time</th>\n",
       "      <th>Confirmation_Day_of_Month</th>\n",
       "      <th>Confirmation_Weekday_(Mo_=_1)</th>\n",
       "      <th>Confirmation_Time</th>\n",
       "      <th>...</th>\n",
       "      <th>Precipitation_in_millimeters</th>\n",
       "      <th>Rider_Id</th>\n",
       "      <th>Time from Pickup to Arrival</th>\n",
       "      <th>No_Of_Orders</th>\n",
       "      <th>Age</th>\n",
       "      <th>Average_Rating</th>\n",
       "      <th>No_of_Ratings</th>\n",
       "      <th>Placement_to_Confiration_Time</th>\n",
       "      <th>Pickup_to_Arival_at_Pickup_Time</th>\n",
       "      <th>Actual_Distance</th>\n",
       "    </tr>\n",
       "  </thead>\n",
       "  <tbody>\n",
       "    <tr>\n",
       "      <th>0</th>\n",
       "      <td>Order_No_4211</td>\n",
       "      <td>User_Id_633</td>\n",
       "      <td>3</td>\n",
       "      <td>Business</td>\n",
       "      <td>9</td>\n",
       "      <td>5</td>\n",
       "      <td>34546.0</td>\n",
       "      <td>9</td>\n",
       "      <td>5</td>\n",
       "      <td>34810.0</td>\n",
       "      <td>...</td>\n",
       "      <td>0.0</td>\n",
       "      <td>Rider_Id_432</td>\n",
       "      <td>745</td>\n",
       "      <td>1637</td>\n",
       "      <td>1309</td>\n",
       "      <td>13.8</td>\n",
       "      <td>549</td>\n",
       "      <td>264.0</td>\n",
       "      <td>-1363.0</td>\n",
       "      <td>2.0</td>\n",
       "    </tr>\n",
       "    <tr>\n",
       "      <th>1</th>\n",
       "      <td>Order_No_25375</td>\n",
       "      <td>User_Id_2285</td>\n",
       "      <td>3</td>\n",
       "      <td>Personal</td>\n",
       "      <td>12</td>\n",
       "      <td>5</td>\n",
       "      <td>40576.0</td>\n",
       "      <td>12</td>\n",
       "      <td>5</td>\n",
       "      <td>41001.0</td>\n",
       "      <td>...</td>\n",
       "      <td>0.0</td>\n",
       "      <td>Rider_Id_856</td>\n",
       "      <td>1993</td>\n",
       "      <td>396</td>\n",
       "      <td>339</td>\n",
       "      <td>13.6</td>\n",
       "      <td>69</td>\n",
       "      <td>425.0</td>\n",
       "      <td>-227.0</td>\n",
       "      <td>11.0</td>\n",
       "    </tr>\n",
       "    <tr>\n",
       "      <th>2</th>\n",
       "      <td>Order_No_1899</td>\n",
       "      <td>User_Id_265</td>\n",
       "      <td>3</td>\n",
       "      <td>Business</td>\n",
       "      <td>30</td>\n",
       "      <td>2</td>\n",
       "      <td>45565.0</td>\n",
       "      <td>30</td>\n",
       "      <td>2</td>\n",
       "      <td>45764.0</td>\n",
       "      <td>...</td>\n",
       "      <td>0.0</td>\n",
       "      <td>Rider_Id_155</td>\n",
       "      <td>455</td>\n",
       "      <td>1023</td>\n",
       "      <td>242</td>\n",
       "      <td>12.5</td>\n",
       "      <td>114</td>\n",
       "      <td>199.0</td>\n",
       "      <td>-209.0</td>\n",
       "      <td>2.0</td>\n",
       "    </tr>\n",
       "    <tr>\n",
       "      <th>3</th>\n",
       "      <td>Order_No_9336</td>\n",
       "      <td>User_Id_1402</td>\n",
       "      <td>3</td>\n",
       "      <td>Business</td>\n",
       "      <td>15</td>\n",
       "      <td>5</td>\n",
       "      <td>33934.0</td>\n",
       "      <td>15</td>\n",
       "      <td>5</td>\n",
       "      <td>33965.0</td>\n",
       "      <td>...</td>\n",
       "      <td>0.0</td>\n",
       "      <td>Rider_Id_855</td>\n",
       "      <td>1341</td>\n",
       "      <td>886</td>\n",
       "      <td>283</td>\n",
       "      <td>14.5</td>\n",
       "      <td>113</td>\n",
       "      <td>31.0</td>\n",
       "      <td>-310.0</td>\n",
       "      <td>5.0</td>\n",
       "    </tr>\n",
       "    <tr>\n",
       "      <th>4</th>\n",
       "      <td>Order_No_27883</td>\n",
       "      <td>User_Id_1737</td>\n",
       "      <td>1</td>\n",
       "      <td>Personal</td>\n",
       "      <td>13</td>\n",
       "      <td>1</td>\n",
       "      <td>35718.0</td>\n",
       "      <td>13</td>\n",
       "      <td>1</td>\n",
       "      <td>35778.0</td>\n",
       "      <td>...</td>\n",
       "      <td>0.0</td>\n",
       "      <td>Rider_Id_770</td>\n",
       "      <td>1214</td>\n",
       "      <td>2311</td>\n",
       "      <td>872</td>\n",
       "      <td>14.1</td>\n",
       "      <td>533</td>\n",
       "      <td>60.0</td>\n",
       "      <td>-90.0</td>\n",
       "      <td>3.0</td>\n",
       "    </tr>\n",
       "  </tbody>\n",
       "</table>\n",
       "<p>5 rows × 31 columns</p>\n",
       "</div>"
      ],
      "text/plain": [
       "         Order_No       User_Id  Platform_Type Personal_or_Business  \\\n",
       "0   Order_No_4211   User_Id_633              3             Business   \n",
       "1  Order_No_25375  User_Id_2285              3             Personal   \n",
       "2   Order_No_1899   User_Id_265              3             Business   \n",
       "3   Order_No_9336  User_Id_1402              3             Business   \n",
       "4  Order_No_27883  User_Id_1737              1             Personal   \n",
       "\n",
       "   Placement_Day_of_Month  Placement_Weekday_(Mo_=_1)  Placement_Time  \\\n",
       "0                       9                           5         34546.0   \n",
       "1                      12                           5         40576.0   \n",
       "2                      30                           2         45565.0   \n",
       "3                      15                           5         33934.0   \n",
       "4                      13                           1         35718.0   \n",
       "\n",
       "   Confirmation_Day_of_Month  Confirmation_Weekday_(Mo_=_1)  \\\n",
       "0                          9                              5   \n",
       "1                         12                              5   \n",
       "2                         30                              2   \n",
       "3                         15                              5   \n",
       "4                         13                              1   \n",
       "\n",
       "   Confirmation_Time  ...  Precipitation_in_millimeters      Rider_Id  \\\n",
       "0            34810.0  ...                           0.0  Rider_Id_432   \n",
       "1            41001.0  ...                           0.0  Rider_Id_856   \n",
       "2            45764.0  ...                           0.0  Rider_Id_155   \n",
       "3            33965.0  ...                           0.0  Rider_Id_855   \n",
       "4            35778.0  ...                           0.0  Rider_Id_770   \n",
       "\n",
       "   Time from Pickup to Arrival  No_Of_Orders   Age  Average_Rating  \\\n",
       "0                          745          1637  1309            13.8   \n",
       "1                         1993           396   339            13.6   \n",
       "2                          455          1023   242            12.5   \n",
       "3                         1341           886   283            14.5   \n",
       "4                         1214          2311   872            14.1   \n",
       "\n",
       "   No_of_Ratings  Placement_to_Confiration_Time  \\\n",
       "0            549                          264.0   \n",
       "1             69                          425.0   \n",
       "2            114                          199.0   \n",
       "3            113                           31.0   \n",
       "4            533                           60.0   \n",
       "\n",
       "   Pickup_to_Arival_at_Pickup_Time  Actual_Distance  \n",
       "0                          -1363.0              2.0  \n",
       "1                           -227.0             11.0  \n",
       "2                           -209.0              2.0  \n",
       "3                           -310.0              5.0  \n",
       "4                            -90.0              3.0  \n",
       "\n",
       "[5 rows x 31 columns]"
      ]
     },
     "execution_count": 63,
     "metadata": {},
     "output_type": "execute_result"
    }
   ],
   "source": [
    "Train_df.head(5)"
   ]
  },
  {
   "cell_type": "markdown",
   "metadata": {},
   "source": [
    "### Heat map"
   ]
  },
  {
   "cell_type": "code",
   "execution_count": 64,
   "metadata": {},
   "outputs": [],
   "source": [
    "corr_matrix = Train_df.corr()\n",
    "mask = np.zeros_like(corr_matrix, dtype=np.bool)\n",
    "mask[np.triu_indices_from(mask)]= True"
   ]
  },
  {
   "cell_type": "code",
   "execution_count": 65,
   "metadata": {},
   "outputs": [
    {
     "data": {
      "image/png": "[encoded data removed]",
      "text/plain": [
       "<Figure size 792x1080 with 2 Axes>"
      ]
     },
     "metadata": {
      "needs_background": "light"
     },
     "output_type": "display_data"
    }
   ],
   "source": [
    "f, ax = plt.subplots(figsize=(11, 15))\n",
    "\n",
    "heatmap = sns.heatmap(corr_matrix,\n",
    "                      mask = mask,\n",
    "                      square = True,\n",
    "                      linewidths = .5,\n",
    "                      cmap = 'coolwarm',\n",
    "                      cbar_kws = {'shrink': .4,\n",
    "                                'ticks' : [-1, -.5, 0, 0.5, 1]},\n",
    "                      vmin = -1,\n",
    "                      vmax = 1,\n",
    "                      annot = True,\n",
    "                      annot_kws = {'size': 7})\n",
    "\n",
    "#add the column names as labels\n",
    "ax.set_yticklabels(corr_matrix.columns, rotation = 0)\n",
    "ax.set_xticklabels(corr_matrix.columns)\n",
    "\n",
    "sns.set_style({'xtick.bottom': True}, {'ytick.left': True})"
   ]
  },
  {
   "cell_type": "code",
   "execution_count": null,
   "metadata": {},
   "outputs": [],
   "source": []
  }
 ],
 "metadata": {
  "kernelspec": {
   "display_name": "Python 3",
   "language": "python",
   "name": "python3"
  },
  "language_info": {
   "codemirror_mode": {
    "name": "ipython",
    "version": 3
   },
   "file_extension": ".py",
   "mimetype": "text/x-python",
   "name": "python",
   "nbconvert_exporter": "python",
   "pygments_lexer": "ipython3",
   "version": "3.7.4"
  }
 },
 "nbformat": 4,
 "nbformat_minor": 2
}
